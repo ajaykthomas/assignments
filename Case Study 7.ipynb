{
 "cells": [
  {
   "cell_type": "code",
   "execution_count": 1,
   "id": "305555ce",
   "metadata": {},
   "outputs": [],
   "source": [
    "import pandas as pd\n",
    "import numpy as np\n",
    "import seaborn as sns\n",
    "import matplotlib.pyplot as plt"
   ]
  },
  {
   "cell_type": "markdown",
   "id": "30c2566f",
   "metadata": {},
   "source": [
    "# Read the dataset to the python environment."
   ]
  },
  {
   "cell_type": "code",
   "execution_count": 2,
   "id": "44bf356a",
   "metadata": {},
   "outputs": [],
   "source": [
    "data=pd.read_excel(r'desktop\\iris.xls')"
   ]
  },
  {
   "cell_type": "code",
   "execution_count": 3,
   "id": "f902bcff",
   "metadata": {},
   "outputs": [
    {
     "data": {
      "text/html": [
       "<div>\n",
       "<style scoped>\n",
       "    .dataframe tbody tr th:only-of-type {\n",
       "        vertical-align: middle;\n",
       "    }\n",
       "\n",
       "    .dataframe tbody tr th {\n",
       "        vertical-align: top;\n",
       "    }\n",
       "\n",
       "    .dataframe thead th {\n",
       "        text-align: right;\n",
       "    }\n",
       "</style>\n",
       "<table border=\"1\" class=\"dataframe\">\n",
       "  <thead>\n",
       "    <tr style=\"text-align: right;\">\n",
       "      <th></th>\n",
       "      <th>SL</th>\n",
       "      <th>SW</th>\n",
       "      <th>PL</th>\n",
       "      <th>PW</th>\n",
       "      <th>Classification</th>\n",
       "    </tr>\n",
       "  </thead>\n",
       "  <tbody>\n",
       "    <tr>\n",
       "      <th>0</th>\n",
       "      <td>5.1</td>\n",
       "      <td>3.5</td>\n",
       "      <td>1.4</td>\n",
       "      <td>0.2</td>\n",
       "      <td>Iris-setosa</td>\n",
       "    </tr>\n",
       "    <tr>\n",
       "      <th>1</th>\n",
       "      <td>4.9</td>\n",
       "      <td>3.0</td>\n",
       "      <td>1.4</td>\n",
       "      <td>0.2</td>\n",
       "      <td>Iris-setosa</td>\n",
       "    </tr>\n",
       "    <tr>\n",
       "      <th>2</th>\n",
       "      <td>NaN</td>\n",
       "      <td>3.2</td>\n",
       "      <td>1.3</td>\n",
       "      <td>0.2</td>\n",
       "      <td>Iris-setosa</td>\n",
       "    </tr>\n",
       "    <tr>\n",
       "      <th>3</th>\n",
       "      <td>4.6</td>\n",
       "      <td>3.1</td>\n",
       "      <td>1.5</td>\n",
       "      <td>0.2</td>\n",
       "      <td>Iris-setosa</td>\n",
       "    </tr>\n",
       "  </tbody>\n",
       "</table>\n",
       "</div>"
      ],
      "text/plain": [
       "    SL   SW   PL   PW Classification\n",
       "0  5.1  3.5  1.4  0.2    Iris-setosa\n",
       "1  4.9  3.0  1.4  0.2    Iris-setosa\n",
       "2  NaN  3.2  1.3  0.2    Iris-setosa\n",
       "3  4.6  3.1  1.5  0.2    Iris-setosa"
      ]
     },
     "execution_count": 3,
     "metadata": {},
     "output_type": "execute_result"
    }
   ],
   "source": [
    "data.head(4)"
   ]
  },
  {
   "cell_type": "code",
   "execution_count": 4,
   "id": "1274fb98",
   "metadata": {},
   "outputs": [
    {
     "data": {
      "text/plain": [
       "(150, 5)"
      ]
     },
     "execution_count": 4,
     "metadata": {},
     "output_type": "execute_result"
    }
   ],
   "source": [
    "data.shape"
   ]
  },
  {
   "cell_type": "code",
   "execution_count": 5,
   "id": "49b7d8aa",
   "metadata": {},
   "outputs": [
    {
     "name": "stdout",
     "output_type": "stream",
     "text": [
      "<class 'pandas.core.frame.DataFrame'>\n",
      "RangeIndex: 150 entries, 0 to 149\n",
      "Data columns (total 5 columns):\n",
      " #   Column          Non-Null Count  Dtype  \n",
      "---  ------          --------------  -----  \n",
      " 0   SL              143 non-null    float64\n",
      " 1   SW              144 non-null    float64\n",
      " 2   PL              144 non-null    float64\n",
      " 3   PW              150 non-null    float64\n",
      " 4   Classification  150 non-null    object \n",
      "dtypes: float64(4), object(1)\n",
      "memory usage: 6.0+ KB\n"
     ]
    }
   ],
   "source": [
    "data.info()"
   ]
  },
  {
   "cell_type": "markdown",
   "id": "6f7a0d12",
   "metadata": {},
   "source": [
    "classification is a catagarical variable convert into numerical"
   ]
  },
  {
   "cell_type": "code",
   "execution_count": 6,
   "id": "4b21ad2b",
   "metadata": {},
   "outputs": [
    {
     "data": {
      "text/plain": [
       "Iris-virginica     50\n",
       "Iris-versicolor    50\n",
       "Iris-setosa        50\n",
       "Name: Classification, dtype: int64"
      ]
     },
     "execution_count": 6,
     "metadata": {},
     "output_type": "execute_result"
    }
   ],
   "source": [
    "data['Classification'].value_counts()"
   ]
  },
  {
   "cell_type": "markdown",
   "id": "a4657de6",
   "metadata": {},
   "source": [
    "here was three catagory each have 50 sample size"
   ]
  },
  {
   "cell_type": "code",
   "execution_count": 7,
   "id": "32f56d05",
   "metadata": {},
   "outputs": [
    {
     "data": {
      "text/html": [
       "<div>\n",
       "<style scoped>\n",
       "    .dataframe tbody tr th:only-of-type {\n",
       "        vertical-align: middle;\n",
       "    }\n",
       "\n",
       "    .dataframe tbody tr th {\n",
       "        vertical-align: top;\n",
       "    }\n",
       "\n",
       "    .dataframe thead th {\n",
       "        text-align: right;\n",
       "    }\n",
       "</style>\n",
       "<table border=\"1\" class=\"dataframe\">\n",
       "  <thead>\n",
       "    <tr style=\"text-align: right;\">\n",
       "      <th></th>\n",
       "      <th>SL</th>\n",
       "      <th>SW</th>\n",
       "      <th>PL</th>\n",
       "      <th>PW</th>\n",
       "      <th>Classification</th>\n",
       "    </tr>\n",
       "  </thead>\n",
       "  <tbody>\n",
       "    <tr>\n",
       "      <th>count</th>\n",
       "      <td>143.000000</td>\n",
       "      <td>144.000000</td>\n",
       "      <td>144.000000</td>\n",
       "      <td>150.000000</td>\n",
       "      <td>150</td>\n",
       "    </tr>\n",
       "    <tr>\n",
       "      <th>unique</th>\n",
       "      <td>NaN</td>\n",
       "      <td>NaN</td>\n",
       "      <td>NaN</td>\n",
       "      <td>NaN</td>\n",
       "      <td>3</td>\n",
       "    </tr>\n",
       "    <tr>\n",
       "      <th>top</th>\n",
       "      <td>NaN</td>\n",
       "      <td>NaN</td>\n",
       "      <td>NaN</td>\n",
       "      <td>NaN</td>\n",
       "      <td>Iris-virginica</td>\n",
       "    </tr>\n",
       "    <tr>\n",
       "      <th>freq</th>\n",
       "      <td>NaN</td>\n",
       "      <td>NaN</td>\n",
       "      <td>NaN</td>\n",
       "      <td>NaN</td>\n",
       "      <td>50</td>\n",
       "    </tr>\n",
       "    <tr>\n",
       "      <th>mean</th>\n",
       "      <td>5.855944</td>\n",
       "      <td>3.049306</td>\n",
       "      <td>3.756250</td>\n",
       "      <td>1.198667</td>\n",
       "      <td>NaN</td>\n",
       "    </tr>\n",
       "    <tr>\n",
       "      <th>std</th>\n",
       "      <td>0.828168</td>\n",
       "      <td>0.430644</td>\n",
       "      <td>1.761306</td>\n",
       "      <td>0.763161</td>\n",
       "      <td>NaN</td>\n",
       "    </tr>\n",
       "    <tr>\n",
       "      <th>min</th>\n",
       "      <td>4.300000</td>\n",
       "      <td>2.000000</td>\n",
       "      <td>1.000000</td>\n",
       "      <td>0.100000</td>\n",
       "      <td>NaN</td>\n",
       "    </tr>\n",
       "    <tr>\n",
       "      <th>25%</th>\n",
       "      <td>5.100000</td>\n",
       "      <td>2.800000</td>\n",
       "      <td>1.600000</td>\n",
       "      <td>0.300000</td>\n",
       "      <td>NaN</td>\n",
       "    </tr>\n",
       "    <tr>\n",
       "      <th>50%</th>\n",
       "      <td>5.800000</td>\n",
       "      <td>3.000000</td>\n",
       "      <td>4.350000</td>\n",
       "      <td>1.300000</td>\n",
       "      <td>NaN</td>\n",
       "    </tr>\n",
       "    <tr>\n",
       "      <th>75%</th>\n",
       "      <td>6.400000</td>\n",
       "      <td>3.300000</td>\n",
       "      <td>5.100000</td>\n",
       "      <td>1.800000</td>\n",
       "      <td>NaN</td>\n",
       "    </tr>\n",
       "    <tr>\n",
       "      <th>max</th>\n",
       "      <td>7.900000</td>\n",
       "      <td>4.400000</td>\n",
       "      <td>6.900000</td>\n",
       "      <td>2.500000</td>\n",
       "      <td>NaN</td>\n",
       "    </tr>\n",
       "  </tbody>\n",
       "</table>\n",
       "</div>"
      ],
      "text/plain": [
       "                SL          SW          PL          PW  Classification\n",
       "count   143.000000  144.000000  144.000000  150.000000             150\n",
       "unique         NaN         NaN         NaN         NaN               3\n",
       "top            NaN         NaN         NaN         NaN  Iris-virginica\n",
       "freq           NaN         NaN         NaN         NaN              50\n",
       "mean      5.855944    3.049306    3.756250    1.198667             NaN\n",
       "std       0.828168    0.430644    1.761306    0.763161             NaN\n",
       "min       4.300000    2.000000    1.000000    0.100000             NaN\n",
       "25%       5.100000    2.800000    1.600000    0.300000             NaN\n",
       "50%       5.800000    3.000000    4.350000    1.300000             NaN\n",
       "75%       6.400000    3.300000    5.100000    1.800000             NaN\n",
       "max       7.900000    4.400000    6.900000    2.500000             NaN"
      ]
     },
     "execution_count": 7,
     "metadata": {},
     "output_type": "execute_result"
    }
   ],
   "source": [
    "data.describe(include='all')"
   ]
  },
  {
   "cell_type": "markdown",
   "id": "25c6d464",
   "metadata": {},
   "source": [
    "PL has higher sd compared to other feature,SL has highest mean,pw has lowest "
   ]
  },
  {
   "cell_type": "markdown",
   "id": "b64da050",
   "metadata": {},
   "source": [
    "#  pre-processing steps."
   ]
  },
  {
   "cell_type": "markdown",
   "id": "14fd871b",
   "metadata": {},
   "source": [
    "# missing value"
   ]
  },
  {
   "cell_type": "code",
   "execution_count": 8,
   "id": "16f5f447",
   "metadata": {},
   "outputs": [
    {
     "data": {
      "text/plain": [
       "SL                7\n",
       "SW                6\n",
       "PL                6\n",
       "PW                0\n",
       "Classification    0\n",
       "dtype: int64"
      ]
     },
     "execution_count": 8,
     "metadata": {},
     "output_type": "execute_result"
    }
   ],
   "source": [
    "data.isna().sum()"
   ]
  },
  {
   "cell_type": "markdown",
   "id": "662f4464",
   "metadata": {},
   "source": [
    "here variable SL,SW and PL are  missing value"
   ]
  },
  {
   "cell_type": "code",
   "execution_count": 9,
   "id": "d3ef7fd0",
   "metadata": {},
   "outputs": [],
   "source": [
    "for i in['SL', 'SW', 'PL']:\n",
    "    data[i]=data[i].fillna(data[i].mean())\n"
   ]
  },
  {
   "cell_type": "code",
   "execution_count": 10,
   "id": "6dacdea7",
   "metadata": {},
   "outputs": [
    {
     "data": {
      "text/plain": [
       "SL                0\n",
       "SW                0\n",
       "PL                0\n",
       "PW                0\n",
       "Classification    0\n",
       "dtype: int64"
      ]
     },
     "execution_count": 10,
     "metadata": {},
     "output_type": "execute_result"
    }
   ],
   "source": [
    "data.isna().sum()"
   ]
  },
  {
   "cell_type": "markdown",
   "id": "db8f9bb2",
   "metadata": {},
   "source": [
    "we can fill the misiing value in mean of their resepetive columns"
   ]
  },
  {
   "cell_type": "markdown",
   "id": "15694e8d",
   "metadata": {},
   "source": [
    "# outlier"
   ]
  },
  {
   "cell_type": "code",
   "execution_count": 11,
   "id": "a03b8928",
   "metadata": {},
   "outputs": [
    {
     "data": {
      "text/html": [
       "<div>\n",
       "<style scoped>\n",
       "    .dataframe tbody tr th:only-of-type {\n",
       "        vertical-align: middle;\n",
       "    }\n",
       "\n",
       "    .dataframe tbody tr th {\n",
       "        vertical-align: top;\n",
       "    }\n",
       "\n",
       "    .dataframe thead th {\n",
       "        text-align: right;\n",
       "    }\n",
       "</style>\n",
       "<table border=\"1\" class=\"dataframe\">\n",
       "  <thead>\n",
       "    <tr style=\"text-align: right;\">\n",
       "      <th></th>\n",
       "      <th>SL</th>\n",
       "      <th>SW</th>\n",
       "      <th>PL</th>\n",
       "      <th>PW</th>\n",
       "      <th>Classification</th>\n",
       "    </tr>\n",
       "  </thead>\n",
       "  <tbody>\n",
       "    <tr>\n",
       "      <th>0</th>\n",
       "      <td>5.1</td>\n",
       "      <td>3.5</td>\n",
       "      <td>1.4</td>\n",
       "      <td>0.2</td>\n",
       "      <td>Iris-setosa</td>\n",
       "    </tr>\n",
       "    <tr>\n",
       "      <th>1</th>\n",
       "      <td>4.9</td>\n",
       "      <td>3.0</td>\n",
       "      <td>1.4</td>\n",
       "      <td>0.2</td>\n",
       "      <td>Iris-setosa</td>\n",
       "    </tr>\n",
       "  </tbody>\n",
       "</table>\n",
       "</div>"
      ],
      "text/plain": [
       "    SL   SW   PL   PW Classification\n",
       "0  5.1  3.5  1.4  0.2    Iris-setosa\n",
       "1  4.9  3.0  1.4  0.2    Iris-setosa"
      ]
     },
     "execution_count": 11,
     "metadata": {},
     "output_type": "execute_result"
    }
   ],
   "source": [
    "data.head(2)"
   ]
  },
  {
   "cell_type": "markdown",
   "id": "0632c21a",
   "metadata": {},
   "source": [
    "# SL"
   ]
  },
  {
   "cell_type": "code",
   "execution_count": 12,
   "id": "1020e57c",
   "metadata": {},
   "outputs": [
    {
     "data": {
      "text/plain": [
       "Text(0.5, 1.0, 'box plot of SL')"
      ]
     },
     "execution_count": 12,
     "metadata": {},
     "output_type": "execute_result"
    },
    {
     "data": {
      "image/png": "[encoded data removed]",
      "text/plain": [
       "<Figure size 432x288 with 1 Axes>"
      ]
     },
     "metadata": {
      "needs_background": "light"
     },
     "output_type": "display_data"
    }
   ],
   "source": [
    "plt.boxplot(data['SL'])\n",
    "plt.title(\"box plot of SL\")"
   ]
  },
  {
   "cell_type": "markdown",
   "id": "811deb64",
   "metadata": {},
   "source": [
    " No outlier "
   ]
  },
  {
   "cell_type": "markdown",
   "id": "eb52fe15",
   "metadata": {},
   "source": [
    "# SW"
   ]
  },
  {
   "cell_type": "code",
   "execution_count": 13,
   "id": "650484cf",
   "metadata": {},
   "outputs": [
    {
     "data": {
      "text/plain": [
       "Text(0.5, 1.0, 'box plot of SW')"
      ]
     },
     "execution_count": 13,
     "metadata": {},
     "output_type": "execute_result"
    },
    {
     "data": {
      "image/png": "[encoded data removed]",
      "text/plain": [
       "<Figure size 432x288 with 1 Axes>"
      ]
     },
     "metadata": {
      "needs_background": "light"
     },
     "output_type": "display_data"
    }
   ],
   "source": [
    "plt.boxplot(data['SW'])\n",
    "plt.title(\"box plot of SW\")"
   ]
  },
  {
   "cell_type": "markdown",
   "id": "611dcf14",
   "metadata": {},
   "source": [
    "presence of outlier "
   ]
  },
  {
   "cell_type": "markdown",
   "id": "41f37f1b",
   "metadata": {},
   "source": [
    "# PL"
   ]
  },
  {
   "cell_type": "code",
   "execution_count": 14,
   "id": "d5a8796f",
   "metadata": {},
   "outputs": [
    {
     "data": {
      "text/plain": [
       "Text(0.5, 1.0, 'box plot of PL ')"
      ]
     },
     "execution_count": 14,
     "metadata": {},
     "output_type": "execute_result"
    },
    {
     "data": {
      "image/png": "[encoded data removed]",
      "text/plain": [
       "<Figure size 432x288 with 1 Axes>"
      ]
     },
     "metadata": {
      "needs_background": "light"
     },
     "output_type": "display_data"
    }
   ],
   "source": [
    "plt.boxplot(data['PL'])\n",
    "plt.title(\"box plot of PL \")"
   ]
  },
  {
   "cell_type": "markdown",
   "id": "09db1c86",
   "metadata": {},
   "source": [
    "No outlier"
   ]
  },
  {
   "cell_type": "markdown",
   "id": "e49980f1",
   "metadata": {},
   "source": [
    "# PW"
   ]
  },
  {
   "cell_type": "code",
   "execution_count": 15,
   "id": "c9554495",
   "metadata": {},
   "outputs": [
    {
     "data": {
      "text/plain": [
       "Text(0.5, 1.0, 'box plot of PW ')"
      ]
     },
     "execution_count": 15,
     "metadata": {},
     "output_type": "execute_result"
    },
    {
     "data": {
      "image/png": "[encoded data removed]",
      "text/plain": [
       "<Figure size 432x288 with 1 Axes>"
      ]
     },
     "metadata": {
      "needs_background": "light"
     },
     "output_type": "display_data"
    }
   ],
   "source": [
    "plt.boxplot(data['PW'])\n",
    "plt.title(\"box plot of PW \")"
   ]
  },
  {
   "cell_type": "markdown",
   "id": "67c48a5c",
   "metadata": {},
   "source": [
    "No outlier"
   ]
  },
  {
   "cell_type": "code",
   "execution_count": 16,
   "id": "738505ae",
   "metadata": {},
   "outputs": [],
   "source": [
    "# ony outlier in SW we can remove outlier in IQR method"
   ]
  },
  {
   "cell_type": "code",
   "execution_count": 17,
   "id": "36630318",
   "metadata": {},
   "outputs": [
    {
     "name": "stdout",
     "output_type": "stream",
     "text": [
      "2.8\n",
      "3.0\n",
      "3.25\n"
     ]
    }
   ],
   "source": [
    "Q1 =np.percentile(data['SW'], 25, interpolation='midpoint')\n",
    "Q2 =np.percentile(data['SW'], 50, interpolation='midpoint')\n",
    "Q3 =np.percentile(data['SW'], 75, interpolation='midpoint')\n",
    "print(Q1)\n",
    "print(Q2)\n",
    "print(Q3)"
   ]
  },
  {
   "cell_type": "code",
   "execution_count": 18,
   "id": "fad7e9ac",
   "metadata": {},
   "outputs": [
    {
     "data": {
      "text/plain": [
       "0.4500000000000002"
      ]
     },
     "execution_count": 18,
     "metadata": {},
     "output_type": "execute_result"
    }
   ],
   "source": [
    "IQR=Q3-Q1\n",
    "IQR"
   ]
  },
  {
   "cell_type": "code",
   "execution_count": 19,
   "id": "dca42bf0",
   "metadata": {},
   "outputs": [
    {
     "name": "stdout",
     "output_type": "stream",
     "text": [
      "2.1249999999999996\n",
      "3.9250000000000003\n"
     ]
    }
   ],
   "source": [
    "low_lim=Q1-1.5*IQR\n",
    "hig_lim=Q3+1.5*IQR\n",
    "print(low_lim)\n",
    "print(hig_lim)"
   ]
  },
  {
   "cell_type": "markdown",
   "id": "9b77a3cb",
   "metadata": {},
   "source": [
    "any value samller than low and greater  than hig is taken by outlier"
   ]
  },
  {
   "cell_type": "code",
   "execution_count": 20,
   "id": "ab3fa522",
   "metadata": {},
   "outputs": [
    {
     "name": "stdout",
     "output_type": "stream",
     "text": [
      "Int64Index([60], dtype='int64')\n"
     ]
    }
   ],
   "source": [
    "out_1=data['SW']< low_lim\n",
    "ind_1=data.loc[out_1].index\n",
    "print(ind_1)"
   ]
  },
  {
   "cell_type": "code",
   "execution_count": 21,
   "id": "8ee8d835",
   "metadata": {},
   "outputs": [
    {
     "name": "stdout",
     "output_type": "stream",
     "text": [
      "Int64Index([14, 15, 32, 33], dtype='int64')\n"
     ]
    }
   ],
   "source": [
    "out_2=data['SW']> hig_lim\n",
    "ind_2=data.loc[out_2].index\n",
    "print(ind_2)"
   ]
  },
  {
   "cell_type": "markdown",
   "id": "25804dfe",
   "metadata": {},
   "source": [
    "we can drop the outlier"
   ]
  },
  {
   "cell_type": "code",
   "execution_count": 22,
   "id": "425c7402",
   "metadata": {},
   "outputs": [],
   "source": [
    "data.drop([60,14, 15, 32, 33],inplace=True)"
   ]
  },
  {
   "cell_type": "code",
   "execution_count": 23,
   "id": "4ac8c19a",
   "metadata": {},
   "outputs": [
    {
     "data": {
      "text/plain": [
       "(145, 5)"
      ]
     },
     "execution_count": 23,
     "metadata": {},
     "output_type": "execute_result"
    }
   ],
   "source": [
    "data.shape"
   ]
  },
  {
   "cell_type": "markdown",
   "id": "d8ea6922",
   "metadata": {},
   "source": [
    " data set now 145 rows and five columns"
   ]
  },
  {
   "cell_type": "code",
   "execution_count": null,
   "id": "3d06e9b3",
   "metadata": {},
   "outputs": [],
   "source": []
  },
  {
   "cell_type": "code",
   "execution_count": 24,
   "id": "0762d540",
   "metadata": {},
   "outputs": [],
   "source": [
    "x=data.drop([\"Classification\"],axis=1)\n",
    "y=data['Classification']"
   ]
  },
  {
   "cell_type": "code",
   "execution_count": 25,
   "id": "b42f50f5",
   "metadata": {},
   "outputs": [],
   "source": [
    "from sklearn.model_selection import train_test_split"
   ]
  },
  {
   "cell_type": "code",
   "execution_count": 26,
   "id": "183ed622",
   "metadata": {},
   "outputs": [],
   "source": [
    "x_train,x_test,y_train,y_test=train_test_split(x,y,random_state=42,test_size=0.2)\n"
   ]
  },
  {
   "cell_type": "code",
   "execution_count": 27,
   "id": "6f6829fc",
   "metadata": {},
   "outputs": [
    {
     "data": {
      "text/plain": [
       "(116, 4)"
      ]
     },
     "execution_count": 27,
     "metadata": {},
     "output_type": "execute_result"
    }
   ],
   "source": [
    "x_train.shape"
   ]
  },
  {
   "cell_type": "code",
   "execution_count": 28,
   "id": "673f3ee6",
   "metadata": {},
   "outputs": [
    {
     "data": {
      "text/plain": [
       "(29, 4)"
      ]
     },
     "execution_count": 28,
     "metadata": {},
     "output_type": "execute_result"
    }
   ],
   "source": [
    "x_test.shape"
   ]
  },
  {
   "cell_type": "markdown",
   "id": "1b7ac11c",
   "metadata": {},
   "source": [
    "# KNN model"
   ]
  },
  {
   "cell_type": "code",
   "execution_count": 45,
   "id": "75d546b5",
   "metadata": {},
   "outputs": [],
   "source": [
    "from sklearn.neighbors import KNeighborsClassifier\n",
    "from sklearn.metrics import accuracy_score, confusion_matrix             "
   ]
  },
  {
   "cell_type": "code",
   "execution_count": 39,
   "id": "196a8ca4",
   "metadata": {},
   "outputs": [],
   "source": [
    "acc_values = []\n",
    "neighbors = np.arange(2,15)\n",
    "for k in neighbors:\n",
    "    Classifier=KNeighborsClassifier(n_neighbors=k, metric='minkowski')\n",
    "    model=Classifier.fit(x_train,y_train)\n",
    "    pred=model.predict(x_test)\n",
    "    acc= accuracy_score(y_test,pred)\n",
    "    acc_values.append(acc)"
   ]
  },
  {
   "cell_type": "code",
   "execution_count": 40,
   "id": "6270929a",
   "metadata": {},
   "outputs": [
    {
     "name": "stdout",
     "output_type": "stream",
     "text": [
      "[0.8620689655172413, 0.9310344827586207, 0.9310344827586207, 0.9310344827586207, 0.9310344827586207, 0.9310344827586207, 0.896551724137931, 0.9310344827586207, 0.9310344827586207, 0.9310344827586207, 0.9310344827586207, 0.9310344827586207, 0.8620689655172413]\n"
     ]
    }
   ],
   "source": [
    "print(acc_values)"
   ]
  },
  {
   "cell_type": "code",
   "execution_count": 41,
   "id": "9c6e5821",
   "metadata": {},
   "outputs": [
    {
     "data": {
      "text/plain": [
       "Text(0, 0.5, 'accuracy score')"
      ]
     },
     "execution_count": 41,
     "metadata": {},
     "output_type": "execute_result"
    },
    {
     "data": {
      "image/png": "[encoded data removed]",
      "text/plain": [
       "<Figure size 432x288 with 1 Axes>"
      ]
     },
     "metadata": {
      "needs_background": "light"
     },
     "output_type": "display_data"
    }
   ],
   "source": [
    "plt.plot(neighbors, acc_values, 'o-')\n",
    "plt.xlabel('k - value')\n",
    "plt.ylabel('accuracy score')"
   ]
  },
  {
   "cell_type": "markdown",
   "id": "cfeae569",
   "metadata": {},
   "source": [
    "from the above garph we can see 3,4,5,6,7,9,10,11,12,and 13 produce model with hih accurcay\n",
    "we choose any one that so i choose k-value=6"
   ]
  },
  {
   "cell_type": "code",
   "execution_count": 43,
   "id": "c292fc2e",
   "metadata": {},
   "outputs": [],
   "source": [
    "Classifier=KNeighborsClassifier(n_neighbors=6, metric='minkowski')\n",
    "model=Classifier.fit(x_train,y_train)\n",
    "pred=model.predict(x_test)\n",
    "acc= accuracy_score(y_test,pred)\n",
    "acc_values.append(acc)"
   ]
  },
  {
   "cell_type": "code",
   "execution_count": 46,
   "id": "cc4ba4b4",
   "metadata": {},
   "outputs": [
    {
     "name": "stdout",
     "output_type": "stream",
     "text": [
      "accurcy score: 0.9310344827586207\n"
     ]
    }
   ],
   "source": [
    "print('accurcy score:',accuracy_score(y_test,pred))\n",
    "\n",
    "\n"
   ]
  },
  {
   "cell_type": "code",
   "execution_count": 47,
   "id": "e5d4c7ea",
   "metadata": {},
   "outputs": [
    {
     "name": "stdout",
     "output_type": "stream",
     "text": [
      "confusion matrix: [[ 9  0  0]\n",
      " [ 0  8  1]\n",
      " [ 0  1 10]]\n"
     ]
    }
   ],
   "source": [
    "print('confusion matrix:',confusion_matrix(y_test,pred))\n"
   ]
  },
  {
   "cell_type": "markdown",
   "id": "6a134c4c",
   "metadata": {},
   "source": [
    " they are only 2 miss classification or missing value"
   ]
  },
  {
   "cell_type": "markdown",
   "id": "3c1fa52e",
   "metadata": {},
   "source": [
    "# logestic regression"
   ]
  },
  {
   "cell_type": "code",
   "execution_count": 48,
   "id": "b493ee63",
   "metadata": {},
   "outputs": [],
   "source": [
    "from sklearn.linear_model import LogisticRegression\n"
   ]
  },
  {
   "cell_type": "code",
   "execution_count": 50,
   "id": "a24edc29",
   "metadata": {},
   "outputs": [],
   "source": [
    "LR=LogisticRegression()"
   ]
  },
  {
   "cell_type": "code",
   "execution_count": 52,
   "id": "003d5c9b",
   "metadata": {},
   "outputs": [],
   "source": [
    "import warnings\n",
    "warnings.filterwarnings('ignore')"
   ]
  },
  {
   "cell_type": "code",
   "execution_count": 53,
   "id": "c76d7d62",
   "metadata": {},
   "outputs": [
    {
     "data": {
      "text/plain": [
       "LogisticRegression()"
      ]
     },
     "execution_count": 53,
     "metadata": {},
     "output_type": "execute_result"
    }
   ],
   "source": [
    "LR.fit(x_train,y_train)"
   ]
  },
  {
   "cell_type": "code",
   "execution_count": 54,
   "id": "89e28774",
   "metadata": {},
   "outputs": [],
   "source": [
    "pred=LR.predict(x_test)"
   ]
  },
  {
   "cell_type": "code",
   "execution_count": 55,
   "id": "887352c5",
   "metadata": {},
   "outputs": [
    {
     "name": "stdout",
     "output_type": "stream",
     "text": [
      "accurcy score: 0.896551724137931\n"
     ]
    }
   ],
   "source": [
    "print('accurcy score:',accuracy_score(y_test,pred))\n",
    "\n"
   ]
  },
  {
   "cell_type": "code",
   "execution_count": 56,
   "id": "20bb5d62",
   "metadata": {},
   "outputs": [
    {
     "name": "stdout",
     "output_type": "stream",
     "text": [
      "confusion matrix: [[9 0 0]\n",
      " [0 8 1]\n",
      " [0 2 9]]\n"
     ]
    }
   ],
   "source": [
    "print('confusion matrix:',confusion_matrix(y_test,pred))\n"
   ]
  },
  {
   "cell_type": "markdown",
   "id": "d7c4320b",
   "metadata": {},
   "source": [
    "# Decission tree classifier"
   ]
  },
  {
   "cell_type": "code",
   "execution_count": 57,
   "id": "4b6fd841",
   "metadata": {},
   "outputs": [],
   "source": [
    "from sklearn.tree import DecisionTreeClassifier"
   ]
  },
  {
   "cell_type": "code",
   "execution_count": 61,
   "id": "366c7caf",
   "metadata": {},
   "outputs": [
    {
     "data": {
      "text/plain": [
       "DecisionTreeClassifier()"
      ]
     },
     "execution_count": 61,
     "metadata": {},
     "output_type": "execute_result"
    }
   ],
   "source": [
    "DT_model=DecisionTreeClassifier()\n",
    "DT_model.fit(x_train,y_train)"
   ]
  },
  {
   "cell_type": "code",
   "execution_count": 62,
   "id": "a5fe767c",
   "metadata": {},
   "outputs": [],
   "source": [
    "pred=DT_model.predict(x_test)"
   ]
  },
  {
   "cell_type": "code",
   "execution_count": 63,
   "id": "1a257f94",
   "metadata": {},
   "outputs": [
    {
     "name": "stdout",
     "output_type": "stream",
     "text": [
      "accurcy score: 0.896551724137931\n",
      "confusion matrix: [[9 0 0]\n",
      " [0 8 1]\n",
      " [0 2 9]]\n"
     ]
    }
   ],
   "source": [
    "print('accurcy score:',accuracy_score(y_test,pred))\n",
    "print('confusion matrix:',confusion_matrix(y_test,pred))\n"
   ]
  },
  {
   "cell_type": "markdown",
   "id": "424f784a",
   "metadata": {},
   "source": [
    "# support vector machine svm"
   ]
  },
  {
   "cell_type": "raw",
   "id": "a0dd1530",
   "metadata": {},
   "source": [
    "   support vector machine are 3basic type are availabele that is based on the kernel\n",
    " 1, linear ,2, polinomial and 3, redical"
   ]
  },
  {
   "cell_type": "markdown",
   "id": "85f88d61",
   "metadata": {},
   "source": [
    "# 1 Linear SVM"
   ]
  },
  {
   "cell_type": "code",
   "execution_count": 64,
   "id": "caf29bd1",
   "metadata": {},
   "outputs": [],
   "source": [
    "from sklearn.svm import SVC"
   ]
  },
  {
   "cell_type": "code",
   "execution_count": 65,
   "id": "fbd8188e",
   "metadata": {},
   "outputs": [
    {
     "data": {
      "text/plain": [
       "SVC(kernel='linear')"
      ]
     },
     "execution_count": 65,
     "metadata": {},
     "output_type": "execute_result"
    }
   ],
   "source": [
    "svm=SVC(kernel='linear')\n",
    "svm.fit(x_train,y_train)"
   ]
  },
  {
   "cell_type": "code",
   "execution_count": 66,
   "id": "ad9cc3d0",
   "metadata": {},
   "outputs": [],
   "source": [
    "pred=svm.predict(x_test)"
   ]
  },
  {
   "cell_type": "code",
   "execution_count": 67,
   "id": "d5084c03",
   "metadata": {},
   "outputs": [
    {
     "name": "stdout",
     "output_type": "stream",
     "text": [
      "accurcy score: 0.896551724137931\n",
      "confusion matrix: [[9 0 0]\n",
      " [0 8 1]\n",
      " [0 2 9]]\n"
     ]
    }
   ],
   "source": [
    "print('accurcy score:',accuracy_score(y_test,pred))\n",
    "print('confusion matrix:',confusion_matrix(y_test,pred))\n"
   ]
  },
  {
   "cell_type": "markdown",
   "id": "9062605f",
   "metadata": {},
   "source": [
    "# 2 Polinominal SVM"
   ]
  },
  {
   "cell_type": "code",
   "execution_count": 68,
   "id": "8b5ca08e",
   "metadata": {},
   "outputs": [],
   "source": [
    " from sklearn.svm import SVC"
   ]
  },
  {
   "cell_type": "code",
   "execution_count": 73,
   "id": "1165eb08",
   "metadata": {},
   "outputs": [],
   "source": [
    "svm_poly=SVC(kernel='poly',degree=3)\n",
    "model=svm_poly.fit(x_train,y_train)\n",
    "pred=model.predict(x_test)"
   ]
  },
  {
   "cell_type": "code",
   "execution_count": 74,
   "id": "eb9e489f",
   "metadata": {},
   "outputs": [
    {
     "name": "stdout",
     "output_type": "stream",
     "text": [
      "accurcy score: 0.9655172413793104\n",
      "confusion matrix: [[ 9  0  0]\n",
      " [ 0  8  1]\n",
      " [ 0  0 11]]\n"
     ]
    }
   ],
   "source": [
    "print('accurcy score:',accuracy_score(y_test,pred))\n",
    "print('confusion matrix:',confusion_matrix(y_test,pred))\n"
   ]
  },
  {
   "cell_type": "markdown",
   "id": "6637ecd3",
   "metadata": {},
   "source": [
    "only one misclassification"
   ]
  },
  {
   "cell_type": "markdown",
   "id": "cb4723b1",
   "metadata": {},
   "source": [
    "# 3 Radial SVM"
   ]
  },
  {
   "cell_type": "code",
   "execution_count": 75,
   "id": "fa934f53",
   "metadata": {},
   "outputs": [],
   "source": [
    "svm_rbf=SVC(kernel='rbf')\n",
    "model=svm_rbf.fit(x_train,y_train)\n",
    "pred=model.predict(x_test)"
   ]
  },
  {
   "cell_type": "code",
   "execution_count": 76,
   "id": "1a227ef8",
   "metadata": {},
   "outputs": [
    {
     "name": "stdout",
     "output_type": "stream",
     "text": [
      "accurcy score: 0.8620689655172413\n",
      "confusion matrix: [[9 0 0]\n",
      " [0 8 1]\n",
      " [0 3 8]]\n"
     ]
    }
   ],
   "source": [
    "print('accurcy score:',accuracy_score(y_test,pred))\n",
    "print('confusion matrix:',confusion_matrix(y_test,pred))\n"
   ]
  },
  {
   "cell_type": "markdown",
   "id": "0a556c9a",
   "metadata": {},
   "source": [
    "4 missclasification and 86% accurcy"
   ]
  },
  {
   "cell_type": "markdown",
   "id": "1e1d0193",
   "metadata": {},
   "source": [
    "# Random forest"
   ]
  },
  {
   "cell_type": "code",
   "execution_count": 77,
   "id": "ba09a869",
   "metadata": {},
   "outputs": [],
   "source": [
    "from sklearn.ensemble import RandomForestClassifier"
   ]
  },
  {
   "cell_type": "code",
   "execution_count": 78,
   "id": "b6255df3",
   "metadata": {},
   "outputs": [],
   "source": [
    "rf=RandomForestClassifier()\n",
    "model=rf.fit(x_train,y_train)\n",
    "pred=model.predict(x_test)"
   ]
  },
  {
   "cell_type": "code",
   "execution_count": 79,
   "id": "7eb0fc6b",
   "metadata": {},
   "outputs": [
    {
     "name": "stdout",
     "output_type": "stream",
     "text": [
      "accurcy score: 0.896551724137931\n",
      "confusion matrix: [[9 0 0]\n",
      " [0 8 1]\n",
      " [0 2 9]]\n"
     ]
    }
   ],
   "source": [
    "print('accurcy score:',accuracy_score(y_test,pred))\n",
    "print('confusion matrix:',confusion_matrix(y_test,pred))\n"
   ]
  },
  {
   "cell_type": "markdown",
   "id": "db2bbf98",
   "metadata": {},
   "source": [
    " 3 missclasification"
   ]
  },
  {
   "cell_type": "code",
   "execution_count": 80,
   "id": "ba7dab72",
   "metadata": {},
   "outputs": [],
   "source": [
    "# form the above classification model\n",
    "#svm with poly nominal kernel degree 3 giv the hihest accuracy and\n",
    "#lowest missclasification"
   ]
  },
  {
   "cell_type": "code",
   "execution_count": null,
   "id": "6b32a11f",
   "metadata": {},
   "outputs": [],
   "source": []
  },
  {
   "cell_type": "code",
   "execution_count": null,
   "id": "16741470",
   "metadata": {},
   "outputs": [],
   "source": []
  },
  {
   "cell_type": "code",
   "execution_count": null,
   "id": "ab27bf1a",
   "metadata": {},
   "outputs": [],
   "source": []
  },
  {
   "cell_type": "code",
   "execution_count": null,
   "id": "7ff8d02b",
   "metadata": {},
   "outputs": [],
   "source": []
  }
 ],
 "metadata": {
  "kernelspec": {
   "display_name": "Python 3",
   "language": "python",
   "name": "python3"
  },
  "language_info": {
   "codemirror_mode": {
    "name": "ipython",
    "version": 3
   },
   "file_extension": ".py",
   "mimetype": "text/x-python",
   "name": "python",
   "nbconvert_exporter": "python",
   "pygments_lexer": "ipython3",
   "version": "3.8.8"
  }
 },
 "nbformat": 4,
 "nbformat_minor": 5
}

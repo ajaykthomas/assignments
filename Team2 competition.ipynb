{
 "cells": [
  {
   "cell_type": "code",
   "execution_count": 1,
   "id": "605110d9",
   "metadata": {},
   "outputs": [],
   "source": [
    "import pandas as pd\n",
    "import numpy as np\n",
    "import seaborn as sns\n",
    "import matplotlib.pyplot as plt"
   ]
  },
  {
   "cell_type": "code",
   "execution_count": 2,
   "id": "6ef536c4",
   "metadata": {},
   "outputs": [],
   "source": [
    "data=pd.read_excel(r'desktop\\drought_dataset.xlsx')"
   ]
  },
  {
   "cell_type": "code",
   "execution_count": 3,
   "id": "2b9ccbcf",
   "metadata": {},
   "outputs": [
    {
     "data": {
      "text/html": [
       "<div>\n",
       "<style scoped>\n",
       "    .dataframe tbody tr th:only-of-type {\n",
       "        vertical-align: middle;\n",
       "    }\n",
       "\n",
       "    .dataframe tbody tr th {\n",
       "        vertical-align: top;\n",
       "    }\n",
       "\n",
       "    .dataframe thead th {\n",
       "        text-align: right;\n",
       "    }\n",
       "</style>\n",
       "<table border=\"1\" class=\"dataframe\">\n",
       "  <thead>\n",
       "    <tr style=\"text-align: right;\">\n",
       "      <th></th>\n",
       "      <th>Entity</th>\n",
       "      <th>Year</th>\n",
       "      <th>Number of deaths from drought</th>\n",
       "      <th>Number of people injured from drought</th>\n",
       "      <th>Number of people affected from drought</th>\n",
       "      <th>Number of people left homeless from drought</th>\n",
       "      <th>Number of total people affected by drought</th>\n",
       "      <th>Reconstruction costs from drought</th>\n",
       "      <th>Insured damages against drought</th>\n",
       "      <th>Total economic damages from drought</th>\n",
       "      <th>Death rates from drought</th>\n",
       "      <th>Injury rates from drought</th>\n",
       "      <th>Number of people affected by drought per 100,000</th>\n",
       "      <th>Homelessness rate from drought</th>\n",
       "      <th>Total number of people affected by drought per 100,000</th>\n",
       "    </tr>\n",
       "  </thead>\n",
       "  <tbody>\n",
       "    <tr>\n",
       "      <th>0</th>\n",
       "      <td>Afghanistan</td>\n",
       "      <td>1950</td>\n",
       "      <td>0.0</td>\n",
       "      <td>0.0</td>\n",
       "      <td>0.0</td>\n",
       "      <td>0</td>\n",
       "      <td>0.0</td>\n",
       "      <td>NaN</td>\n",
       "      <td>NaN</td>\n",
       "      <td>NaN</td>\n",
       "      <td>0.0</td>\n",
       "      <td>0.0</td>\n",
       "      <td>0.000000</td>\n",
       "      <td>0</td>\n",
       "      <td>0.000000</td>\n",
       "    </tr>\n",
       "    <tr>\n",
       "      <th>1</th>\n",
       "      <td>Afghanistan</td>\n",
       "      <td>1960</td>\n",
       "      <td>0.0</td>\n",
       "      <td>0.0</td>\n",
       "      <td>4800.0</td>\n",
       "      <td>0</td>\n",
       "      <td>4800.0</td>\n",
       "      <td>0.0</td>\n",
       "      <td>0.0</td>\n",
       "      <td>20.0</td>\n",
       "      <td>0.0</td>\n",
       "      <td>0.0</td>\n",
       "      <td>44.060951</td>\n",
       "      <td>0</td>\n",
       "      <td>44.060951</td>\n",
       "    </tr>\n",
       "    <tr>\n",
       "      <th>2</th>\n",
       "      <td>Afghanistan</td>\n",
       "      <td>1970</td>\n",
       "      <td>0.0</td>\n",
       "      <td>0.0</td>\n",
       "      <td>0.0</td>\n",
       "      <td>0</td>\n",
       "      <td>0.0</td>\n",
       "      <td>0.0</td>\n",
       "      <td>0.0</td>\n",
       "      <td>0.0</td>\n",
       "      <td>0.0</td>\n",
       "      <td>0.0</td>\n",
       "      <td>0.000000</td>\n",
       "      <td>0</td>\n",
       "      <td>0.000000</td>\n",
       "    </tr>\n",
       "    <tr>\n",
       "      <th>3</th>\n",
       "      <td>Afghanistan</td>\n",
       "      <td>1980</td>\n",
       "      <td>0.0</td>\n",
       "      <td>0.0</td>\n",
       "      <td>0.0</td>\n",
       "      <td>0</td>\n",
       "      <td>0.0</td>\n",
       "      <td>0.0</td>\n",
       "      <td>0.0</td>\n",
       "      <td>0.0</td>\n",
       "      <td>0.0</td>\n",
       "      <td>0.0</td>\n",
       "      <td>0.000000</td>\n",
       "      <td>0</td>\n",
       "      <td>0.000000</td>\n",
       "    </tr>\n",
       "  </tbody>\n",
       "</table>\n",
       "</div>"
      ],
      "text/plain": [
       "        Entity  Year  Number of deaths from drought  \\\n",
       "0  Afghanistan  1950                            0.0   \n",
       "1  Afghanistan  1960                            0.0   \n",
       "2  Afghanistan  1970                            0.0   \n",
       "3  Afghanistan  1980                            0.0   \n",
       "\n",
       "   Number of people injured from drought  \\\n",
       "0                                    0.0   \n",
       "1                                    0.0   \n",
       "2                                    0.0   \n",
       "3                                    0.0   \n",
       "\n",
       "   Number of people affected from drought  \\\n",
       "0                                     0.0   \n",
       "1                                  4800.0   \n",
       "2                                     0.0   \n",
       "3                                     0.0   \n",
       "\n",
       "   Number of people left homeless from drought  \\\n",
       "0                                            0   \n",
       "1                                            0   \n",
       "2                                            0   \n",
       "3                                            0   \n",
       "\n",
       "   Number of total people affected by drought  \\\n",
       "0                                         0.0   \n",
       "1                                      4800.0   \n",
       "2                                         0.0   \n",
       "3                                         0.0   \n",
       "\n",
       "   Reconstruction costs from drought  Insured damages against drought  \\\n",
       "0                                NaN                              NaN   \n",
       "1                                0.0                              0.0   \n",
       "2                                0.0                              0.0   \n",
       "3                                0.0                              0.0   \n",
       "\n",
       "   Total economic damages from drought  Death rates from drought  \\\n",
       "0                                  NaN                       0.0   \n",
       "1                                 20.0                       0.0   \n",
       "2                                  0.0                       0.0   \n",
       "3                                  0.0                       0.0   \n",
       "\n",
       "   Injury rates from drought  \\\n",
       "0                        0.0   \n",
       "1                        0.0   \n",
       "2                        0.0   \n",
       "3                        0.0   \n",
       "\n",
       "   Number of people affected by drought per 100,000  \\\n",
       "0                                          0.000000   \n",
       "1                                         44.060951   \n",
       "2                                          0.000000   \n",
       "3                                          0.000000   \n",
       "\n",
       "   Homelessness rate from drought  \\\n",
       "0                               0   \n",
       "1                               0   \n",
       "2                               0   \n",
       "3                               0   \n",
       "\n",
       "   Total number of people affected by drought per 100,000  \n",
       "0                                           0.000000       \n",
       "1                                          44.060951       \n",
       "2                                           0.000000       \n",
       "3                                           0.000000       "
      ]
     },
     "execution_count": 3,
     "metadata": {},
     "output_type": "execute_result"
    }
   ],
   "source": [
    "data.head(4)"
   ]
  },
  {
   "cell_type": "markdown",
   "id": "a1033c0a",
   "metadata": {},
   "source": [
    "# model:how many people are  affected by drought "
   ]
  },
  {
   "cell_type": "markdown",
   "id": "7b7b83c3",
   "metadata": {},
   "source": [
    "# Check the basic details of the dataset"
   ]
  },
  {
   "cell_type": "code",
   "execution_count": 4,
   "id": "5f37c4b2",
   "metadata": {},
   "outputs": [
    {
     "data": {
      "text/plain": [
       "(1464, 15)"
      ]
     },
     "execution_count": 4,
     "metadata": {},
     "output_type": "execute_result"
    }
   ],
   "source": [
    "data.shape"
   ]
  },
  {
   "cell_type": "code",
   "execution_count": 5,
   "id": "8379f7c7",
   "metadata": {},
   "outputs": [
    {
     "name": "stdout",
     "output_type": "stream",
     "text": [
      "<class 'pandas.core.frame.DataFrame'>\n",
      "RangeIndex: 1464 entries, 0 to 1463\n",
      "Data columns (total 15 columns):\n",
      " #   Column                                                  Non-Null Count  Dtype  \n",
      "---  ------                                                  --------------  -----  \n",
      " 0   Entity                                                  1464 non-null   object \n",
      " 1   Year                                                    1464 non-null   int64  \n",
      " 2   Number of deaths from drought                           1464 non-null   float64\n",
      " 3   Number of people injured from drought                   1464 non-null   float64\n",
      " 4   Number of people affected from drought                  1464 non-null   float64\n",
      " 5   Number of people left homeless from drought             1464 non-null   int64  \n",
      " 6   Number of total people affected by drought              1464 non-null   float64\n",
      " 7   Reconstruction costs from drought                       1052 non-null   float64\n",
      " 8   Insured damages against drought                         1052 non-null   float64\n",
      " 9   Total economic damages from drought                     1052 non-null   float64\n",
      " 10  Death rates from drought                                1464 non-null   float64\n",
      " 11  Injury rates from drought                               1464 non-null   float64\n",
      " 12  Number of people affected by drought per 100,000        1464 non-null   float64\n",
      " 13  Homelessness rate from drought                          1464 non-null   int64  \n",
      " 14  Total number of people affected by drought per 100,000  1464 non-null   float64\n",
      "dtypes: float64(11), int64(3), object(1)\n",
      "memory usage: 171.7+ KB\n"
     ]
    }
   ],
   "source": [
    "data.info()"
   ]
  },
  {
   "cell_type": "markdown",
   "id": "9bf6d3f7",
   "metadata": {},
   "source": [
    "# Missing value"
   ]
  },
  {
   "cell_type": "code",
   "execution_count": 6,
   "id": "3037c176",
   "metadata": {},
   "outputs": [
    {
     "data": {
      "text/plain": [
       "Index(['Entity', 'Year', 'Number of deaths from drought',\n",
       "       'Number of people injured from drought',\n",
       "       'Number of people affected from drought',\n",
       "       'Number of people left homeless from drought',\n",
       "       'Number of total people affected by drought',\n",
       "       'Reconstruction costs from drought', 'Insured damages against drought',\n",
       "       'Total economic damages from drought', 'Death rates from drought',\n",
       "       'Injury rates from drought',\n",
       "       'Number of people affected by drought per 100,000',\n",
       "       'Homelessness rate from drought',\n",
       "       'Total number of people affected by drought per 100,000'],\n",
       "      dtype='object')"
      ]
     },
     "execution_count": 6,
     "metadata": {},
     "output_type": "execute_result"
    }
   ],
   "source": [
    "data.columns"
   ]
  },
  {
   "cell_type": "code",
   "execution_count": 7,
   "id": "d1acd2bc",
   "metadata": {},
   "outputs": [
    {
     "data": {
      "text/plain": [
       "Entity                                                      0\n",
       "Year                                                        0\n",
       "Number of deaths from drought                               0\n",
       "Number of people injured from drought                       0\n",
       "Number of people affected from drought                      0\n",
       "Number of people left homeless from drought                 0\n",
       "Number of total people affected by drought                  0\n",
       "Reconstruction costs from drought                         412\n",
       "Insured damages against drought                           412\n",
       "Total economic damages from drought                       412\n",
       "Death rates from drought                                    0\n",
       "Injury rates from drought                                   0\n",
       "Number of people affected by drought per 100,000            0\n",
       "Homelessness rate from drought                              0\n",
       "Total number of people affected by drought per 100,000      0\n",
       "dtype: int64"
      ]
     },
     "execution_count": 7,
     "metadata": {},
     "output_type": "execute_result"
    }
   ],
   "source": [
    "data.isnull().sum()"
   ]
  },
  {
   "cell_type": "markdown",
   "id": "6f569c5f",
   "metadata": {},
   "source": [
    "here variable Reconstruction costs from drought,Insured damages against drought  and Total economic damages from drought are missing value"
   ]
  },
  {
   "cell_type": "code",
   "execution_count": 8,
   "id": "e8f9b260",
   "metadata": {},
   "outputs": [],
   "source": [
    "for i in['Reconstruction costs from drought', 'Insured damages against drought', 'Total economic damages from drought']:\n",
    "    data[i]=data[i].fillna(data[i].mean())\n"
   ]
  },
  {
   "cell_type": "code",
   "execution_count": 9,
   "id": "4f3c43b1",
   "metadata": {},
   "outputs": [
    {
     "data": {
      "text/plain": [
       "Entity                                                    0\n",
       "Year                                                      0\n",
       "Number of deaths from drought                             0\n",
       "Number of people injured from drought                     0\n",
       "Number of people affected from drought                    0\n",
       "Number of people left homeless from drought               0\n",
       "Number of total people affected by drought                0\n",
       "Reconstruction costs from drought                         0\n",
       "Insured damages against drought                           0\n",
       "Total economic damages from drought                       0\n",
       "Death rates from drought                                  0\n",
       "Injury rates from drought                                 0\n",
       "Number of people affected by drought per 100,000          0\n",
       "Homelessness rate from drought                            0\n",
       "Total number of people affected by drought per 100,000    0\n",
       "dtype: int64"
      ]
     },
     "execution_count": 9,
     "metadata": {},
     "output_type": "execute_result"
    }
   ],
   "source": [
    "data.isnull().sum()"
   ]
  },
  {
   "cell_type": "markdown",
   "id": "18f73074",
   "metadata": {},
   "source": [
    "missing value clear"
   ]
  },
  {
   "cell_type": "code",
   "execution_count": 11,
   "id": "2267719c",
   "metadata": {},
   "outputs": [
    {
     "data": {
      "text/plain": [
       "12"
      ]
     },
     "execution_count": 11,
     "metadata": {},
     "output_type": "execute_result"
    }
   ],
   "source": [
    "data.Year.nunique()"
   ]
  },
  {
   "cell_type": "code",
   "execution_count": 12,
   "id": "32c18023",
   "metadata": {},
   "outputs": [
    {
     "data": {
      "text/plain": [
       "214"
      ]
     },
     "execution_count": 12,
     "metadata": {},
     "output_type": "execute_result"
    }
   ],
   "source": [
    "data.Entity.nunique()"
   ]
  },
  {
   "cell_type": "code",
   "execution_count": 13,
   "id": "418ea705",
   "metadata": {},
   "outputs": [],
   "source": [
    "# #catagarical variable: entity, and year can be dropit \n",
    "#they are unique values"
   ]
  },
  {
   "cell_type": "code",
   "execution_count": 14,
   "id": "e24cdacd",
   "metadata": {},
   "outputs": [],
   "source": [
    "data.drop(['Year', 'Entity'],axis=1,inplace=True)"
   ]
  },
  {
   "cell_type": "code",
   "execution_count": 15,
   "id": "ebae65e8",
   "metadata": {},
   "outputs": [
    {
     "data": {
      "text/plain": [
       "(1464, 13)"
      ]
     },
     "execution_count": 15,
     "metadata": {},
     "output_type": "execute_result"
    }
   ],
   "source": [
    "data.shape"
   ]
  },
  {
   "cell_type": "code",
   "execution_count": 16,
   "id": "6c6ac5d0",
   "metadata": {},
   "outputs": [],
   "source": [
    "#feature engineering"
   ]
  },
  {
   "cell_type": "code",
   "execution_count": 17,
   "id": "866e8809",
   "metadata": {},
   "outputs": [
    {
     "data": {
      "text/plain": [
       "Index(['Number of deaths from drought',\n",
       "       'Number of people injured from drought',\n",
       "       'Number of people affected from drought',\n",
       "       'Number of people left homeless from drought',\n",
       "       'Number of total people affected by drought',\n",
       "       'Reconstruction costs from drought', 'Insured damages against drought',\n",
       "       'Total economic damages from drought', 'Death rates from drought',\n",
       "       'Injury rates from drought',\n",
       "       'Number of people affected by drought per 100,000',\n",
       "       'Homelessness rate from drought',\n",
       "       'Total number of people affected by drought per 100,000'],\n",
       "      dtype='object')"
      ]
     },
     "execution_count": 17,
     "metadata": {},
     "output_type": "execute_result"
    }
   ],
   "source": [
    "data.columns"
   ]
  },
  {
   "cell_type": "code",
   "execution_count": 18,
   "id": "074b626c",
   "metadata": {},
   "outputs": [],
   "source": [
    "# i create a new feature in exceting feature"
   ]
  },
  {
   "cell_type": "code",
   "execution_count": 19,
   "id": "40c6b8ef",
   "metadata": {},
   "outputs": [],
   "source": [
    "data['affected by drought']=data['Number of people affected from drought']+data['Number of total people affected by drought']"
   ]
  },
  {
   "cell_type": "code",
   "execution_count": 20,
   "id": "4a7bfc48",
   "metadata": {},
   "outputs": [],
   "source": [
    "#then am drop it Number of people affected from drought  and Number of total people affected by drought"
   ]
  },
  {
   "cell_type": "code",
   "execution_count": 21,
   "id": "3c71f569",
   "metadata": {},
   "outputs": [],
   "source": [
    "data.drop(['Number of people affected from drought'],axis=1,inplace=True)"
   ]
  },
  {
   "cell_type": "code",
   "execution_count": 22,
   "id": "c416f06c",
   "metadata": {},
   "outputs": [],
   "source": [
    "data.drop(['Number of total people affected by drought'],axis=1,inplace=True)"
   ]
  },
  {
   "cell_type": "code",
   "execution_count": 23,
   "id": "d2ebd50f",
   "metadata": {},
   "outputs": [
    {
     "data": {
      "text/plain": [
       "Index(['Number of deaths from drought',\n",
       "       'Number of people injured from drought',\n",
       "       'Number of people left homeless from drought',\n",
       "       'Reconstruction costs from drought', 'Insured damages against drought',\n",
       "       'Total economic damages from drought', 'Death rates from drought',\n",
       "       'Injury rates from drought',\n",
       "       'Number of people affected by drought per 100,000',\n",
       "       'Homelessness rate from drought',\n",
       "       'Total number of people affected by drought per 100,000',\n",
       "       'affected by drought'],\n",
       "      dtype='object')"
      ]
     },
     "execution_count": 23,
     "metadata": {},
     "output_type": "execute_result"
    }
   ],
   "source": [
    "data.columns"
   ]
  },
  {
   "cell_type": "code",
   "execution_count": 24,
   "id": "9818e253",
   "metadata": {},
   "outputs": [],
   "source": [
    "data['death']=data['Number of deaths from drought']+data['Death rates from drought']"
   ]
  },
  {
   "cell_type": "code",
   "execution_count": 25,
   "id": "abb67255",
   "metadata": {},
   "outputs": [],
   "source": [
    "data.drop(['Number of deaths from drought'],axis=1,inplace=True)"
   ]
  },
  {
   "cell_type": "code",
   "execution_count": 26,
   "id": "a5012381",
   "metadata": {},
   "outputs": [],
   "source": [
    "data.drop(['Death rates from drought'],axis=1,inplace=True)"
   ]
  },
  {
   "cell_type": "code",
   "execution_count": 27,
   "id": "cd431099",
   "metadata": {},
   "outputs": [],
   "source": [
    "data['injured']=data['Number of people injured from drought']+data['Injury rates from drought']"
   ]
  },
  {
   "cell_type": "code",
   "execution_count": 28,
   "id": "2cb0ad57",
   "metadata": {},
   "outputs": [],
   "source": [
    "data.drop(['Number of people injured from drought'],axis=1,inplace=True)"
   ]
  },
  {
   "cell_type": "code",
   "execution_count": 29,
   "id": "911e56b1",
   "metadata": {},
   "outputs": [],
   "source": [
    "data.drop(['Injury rates from drought'],axis=1,inplace=True)"
   ]
  },
  {
   "cell_type": "code",
   "execution_count": 30,
   "id": "656a4aa7",
   "metadata": {},
   "outputs": [
    {
     "data": {
      "text/plain": [
       "(1464, 10)"
      ]
     },
     "execution_count": 30,
     "metadata": {},
     "output_type": "execute_result"
    }
   ],
   "source": [
    "data.shape"
   ]
  },
  {
   "cell_type": "code",
   "execution_count": 33,
   "id": "326bdcf5",
   "metadata": {},
   "outputs": [],
   "source": [
    "data['no home']=data['Number of people left homeless from drought']+data['Homelessness rate from drought']"
   ]
  },
  {
   "cell_type": "code",
   "execution_count": 34,
   "id": "ad0c5a37",
   "metadata": {},
   "outputs": [],
   "source": [
    "data.drop(['Number of people left homeless from drought'],axis=1,inplace=True)"
   ]
  },
  {
   "cell_type": "code",
   "execution_count": 36,
   "id": "6f6fc79c",
   "metadata": {},
   "outputs": [],
   "source": [
    "data.drop(['Homelessness rate from drought'],axis=1,inplace=True)"
   ]
  },
  {
   "cell_type": "code",
   "execution_count": 37,
   "id": "9facb102",
   "metadata": {},
   "outputs": [
    {
     "data": {
      "text/plain": [
       "(1464, 9)"
      ]
     },
     "execution_count": 37,
     "metadata": {},
     "output_type": "execute_result"
    }
   ],
   "source": [
    "data.shape"
   ]
  },
  {
   "cell_type": "code",
   "execution_count": 38,
   "id": "bd65965a",
   "metadata": {},
   "outputs": [
    {
     "data": {
      "text/plain": [
       "Index(['Reconstruction costs from drought', 'Insured damages against drought',\n",
       "       'Total economic damages from drought',\n",
       "       'Number of people affected by drought per 100,000',\n",
       "       'Total number of people affected by drought per 100,000',\n",
       "       'affected by drought', 'death', 'injured', 'no home'],\n",
       "      dtype='object')"
      ]
     },
     "execution_count": 38,
     "metadata": {},
     "output_type": "execute_result"
    }
   ],
   "source": [
    "data.columns"
   ]
  },
  {
   "cell_type": "code",
   "execution_count": 40,
   "id": "273950c2",
   "metadata": {},
   "outputs": [],
   "source": [
    "data['affected drought']=data['Number of people affected by drought per 100,000']+data['affected by drought']"
   ]
  },
  {
   "cell_type": "code",
   "execution_count": 41,
   "id": "65daf8c9",
   "metadata": {},
   "outputs": [],
   "source": [
    "data.drop(['Number of people affected by drought per 100,000'],axis=1,inplace=True)"
   ]
  },
  {
   "cell_type": "code",
   "execution_count": 42,
   "id": "11ceec18",
   "metadata": {},
   "outputs": [],
   "source": [
    "data.drop(['affected by drought'],axis=1,inplace=True)"
   ]
  },
  {
   "cell_type": "code",
   "execution_count": 43,
   "id": "bcf4adc7",
   "metadata": {},
   "outputs": [
    {
     "data": {
      "text/plain": [
       "(1464, 8)"
      ]
     },
     "execution_count": 43,
     "metadata": {},
     "output_type": "execute_result"
    }
   ],
   "source": [
    "data.shape"
   ]
  },
  {
   "cell_type": "code",
   "execution_count": 44,
   "id": "55c13cca",
   "metadata": {},
   "outputs": [
    {
     "data": {
      "text/plain": [
       "Index(['Reconstruction costs from drought', 'Insured damages against drought',\n",
       "       'Total economic damages from drought',\n",
       "       'Total number of people affected by drought per 100,000', 'death',\n",
       "       'injured', 'no home', 'affected drought'],\n",
       "      dtype='object')"
      ]
     },
     "execution_count": 44,
     "metadata": {},
     "output_type": "execute_result"
    }
   ],
   "source": [
    "data.columns"
   ]
  },
  {
   "cell_type": "code",
   "execution_count": null,
   "id": "ce43f617",
   "metadata": {},
   "outputs": [],
   "source": [
    "data.head(4)"
   ]
  },
  {
   "cell_type": "code",
   "execution_count": null,
   "id": "5f738b3e",
   "metadata": {},
   "outputs": [],
   "source": [
    "# outlier"
   ]
  },
  {
   "cell_type": "code",
   "execution_count": 45,
   "id": "d8f1c498",
   "metadata": {},
   "outputs": [
    {
     "data": {
      "text/plain": [
       "Text(0.5, 1.0, 'box plot of Reconstruction costs from drought')"
      ]
     },
     "execution_count": 45,
     "metadata": {},
     "output_type": "execute_result"
    },
    {
     "data": {
      "image/png": "[encoded data removed]",
      "text/plain": [
       "<Figure size 432x288 with 1 Axes>"
      ]
     },
     "metadata": {
      "needs_background": "light"
     },
     "output_type": "display_data"
    }
   ],
   "source": [
    "#Reconstruction costs from drought\n",
    "plt.boxplot(data['Reconstruction costs from drought'])\n",
    "plt.title(\"box plot of Reconstruction costs from drought\")"
   ]
  },
  {
   "cell_type": "code",
   "execution_count": 46,
   "id": "d50ae2f6",
   "metadata": {},
   "outputs": [
    {
     "data": {
      "text/plain": [
       "Text(0.5, 1.0, 'Insured damages against drought')"
      ]
     },
     "execution_count": 46,
     "metadata": {},
     "output_type": "execute_result"
    },
    {
     "data": {
      "image/png": "[encoded data removed]",
      "text/plain": [
       "<Figure size 432x288 with 1 Axes>"
      ]
     },
     "metadata": {
      "needs_background": "light"
     },
     "output_type": "display_data"
    }
   ],
   "source": [
    "#Insured damages against drought\n",
    "plt.boxplot(data['Insured damages against drought'])\n",
    "plt.title(\"Insured damages against drought\")"
   ]
  },
  {
   "cell_type": "code",
   "execution_count": 47,
   "id": "584d15e4",
   "metadata": {},
   "outputs": [
    {
     "name": "stdout",
     "output_type": "stream",
     "text": [
      "0.0\n",
      "0.0\n",
      "1991.8250950570343\n"
     ]
    }
   ],
   "source": [
    "Q1 =np.percentile(data['Insured damages against drought'], 25, interpolation='midpoint')\n",
    "Q2 =np.percentile(data['Insured damages against drought'], 50, interpolation='midpoint')\n",
    "Q3 =np.percentile(data['Insured damages against drought'], 75, interpolation='midpoint')\n",
    "print(Q1)\n",
    "print(Q2)\n",
    "print(Q3)"
   ]
  },
  {
   "cell_type": "code",
   "execution_count": 48,
   "id": "32ef4667",
   "metadata": {},
   "outputs": [
    {
     "data": {
      "text/plain": [
       "1991.8250950570343"
      ]
     },
     "execution_count": 48,
     "metadata": {},
     "output_type": "execute_result"
    }
   ],
   "source": [
    "IQR=Q3-Q1\n",
    "IQR"
   ]
  },
  {
   "cell_type": "code",
   "execution_count": 49,
   "id": "06d9e5cc",
   "metadata": {},
   "outputs": [
    {
     "name": "stdout",
     "output_type": "stream",
     "text": [
      "-2987.7376425855514\n",
      "4979.5627376425855\n"
     ]
    }
   ],
   "source": [
    "low_lim=Q1-1.5*IQR\n",
    "hig_lim=Q3+1.5*IQR\n",
    "print(low_lim)\n",
    "print(hig_lim)"
   ]
  },
  {
   "cell_type": "markdown",
   "id": "afc65665",
   "metadata": {},
   "source": [
    "any value samller than low and greater than hig is taken by outlier"
   ]
  },
  {
   "cell_type": "code",
   "execution_count": 50,
   "id": "ff692a46",
   "metadata": {},
   "outputs": [
    {
     "name": "stdout",
     "output_type": "stream",
     "text": [
      "Int64Index([], dtype='int64')\n"
     ]
    }
   ],
   "source": [
    "out_1=data['Insured damages against drought']< low_lim\n",
    "ind_1=data.loc[out_1].index\n",
    "print(ind_1)"
   ]
  },
  {
   "cell_type": "code",
   "execution_count": 51,
   "id": "58ba3309",
   "metadata": {},
   "outputs": [
    {
     "name": "stdout",
     "output_type": "stream",
     "text": [
      "Int64Index([289, 618, 1403], dtype='int64')\n"
     ]
    }
   ],
   "source": [
    "out_2=data['Insured damages against drought']> hig_lim\n",
    "ind_2=data.loc[out_2].index\n",
    "print(ind_2)"
   ]
  },
  {
   "cell_type": "markdown",
   "id": "43f83207",
   "metadata": {},
   "source": [
    "we can drop the outlier"
   ]
  },
  {
   "cell_type": "code",
   "execution_count": 52,
   "id": "fff90407",
   "metadata": {},
   "outputs": [],
   "source": [
    "data.drop([289,618,1403],inplace=True)"
   ]
  },
  {
   "cell_type": "code",
   "execution_count": 53,
   "id": "7d2a7947",
   "metadata": {},
   "outputs": [
    {
     "data": {
      "text/plain": [
       "(1461, 8)"
      ]
     },
     "execution_count": 53,
     "metadata": {},
     "output_type": "execute_result"
    }
   ],
   "source": [
    "data.shape"
   ]
  },
  {
   "cell_type": "markdown",
   "id": "dfc9447f",
   "metadata": {},
   "source": [
    "data set now 1461 rows and 8 columns"
   ]
  },
  {
   "cell_type": "code",
   "execution_count": 54,
   "id": "42b65db9",
   "metadata": {},
   "outputs": [
    {
     "data": {
      "text/plain": [
       "Text(0.5, 1.0, 'Total economic damages from drought')"
      ]
     },
     "execution_count": 54,
     "metadata": {},
     "output_type": "execute_result"
    },
    {
     "data": {
      "image/png": "[encoded data removed]",
      "text/plain": [
       "<Figure size 432x288 with 1 Axes>"
      ]
     },
     "metadata": {
      "needs_background": "light"
     },
     "output_type": "display_data"
    }
   ],
   "source": [
    "#Total economic damages from drought\n",
    "plt.boxplot(data['Total economic damages from drought'])\n",
    "plt.title(\"Total economic damages from drought\")"
   ]
  },
  {
   "cell_type": "code",
   "execution_count": 55,
   "id": "9e28b5e7",
   "metadata": {},
   "outputs": [
    {
     "name": "stdout",
     "output_type": "stream",
     "text": [
      "0.0\n",
      "0.0\n",
      "15743.543155893538\n"
     ]
    }
   ],
   "source": [
    "Q1 =np.percentile(data['Total economic damages from drought'], 25, interpolation='midpoint')\n",
    "Q2 =np.percentile(data['Total economic damages from drought'], 50, interpolation='midpoint')\n",
    "Q3 =np.percentile(data['Total economic damages from drought'], 75, interpolation='midpoint')\n",
    "print(Q1)\n",
    "print(Q2)\n",
    "print(Q3)"
   ]
  },
  {
   "cell_type": "code",
   "execution_count": 56,
   "id": "c92aa5c5",
   "metadata": {},
   "outputs": [
    {
     "name": "stdout",
     "output_type": "stream",
     "text": [
      "-2987.7376425855514\n",
      "18731.28079847909\n"
     ]
    }
   ],
   "source": [
    "low_lim=Q1-1.5*IQR\n",
    "hig_lim=Q3+1.5*IQR\n",
    "print(low_lim)\n",
    "print(hig_lim)"
   ]
  },
  {
   "cell_type": "code",
   "execution_count": 57,
   "id": "87cfe5be",
   "metadata": {},
   "outputs": [
    {
     "name": "stdout",
     "output_type": "stream",
     "text": [
      "Int64Index([], dtype='int64')\n"
     ]
    }
   ],
   "source": [
    "out_1=data['Total economic damages from drought']< low_lim\n",
    "ind_1=data.loc[out_1].index\n",
    "print(ind_1)"
   ]
  },
  {
   "cell_type": "code",
   "execution_count": 58,
   "id": "dc71df91",
   "metadata": {},
   "outputs": [
    {
     "name": "stdout",
     "output_type": "stream",
     "text": [
      "Int64Index([  66,  166,  169,  171,  182,  183,  185,  186,  232,  233,  275,\n",
      "             286,  287,  288,  336,  367,  435,  455,  485,  508,  598,  599,\n",
      "             614,  616,  617,  639,  674,  676,  772,  854,  855,  862,  891,\n",
      "             954, 1013, 1024, 1048, 1083, 1115, 1119, 1175, 1218, 1220, 1246,\n",
      "            1247, 1318, 1319, 1383, 1401, 1402, 1411, 1413, 1436, 1437, 1438,\n",
      "            1453, 1463],\n",
      "           dtype='int64')\n"
     ]
    }
   ],
   "source": [
    "out_2=data['Total economic damages from drought']> hig_lim\n",
    "ind_2=data.loc[out_2].index\n",
    "print(ind_2)"
   ]
  },
  {
   "cell_type": "code",
   "execution_count": 59,
   "id": "7235ebe1",
   "metadata": {},
   "outputs": [],
   "source": [
    "data.drop([66,  166,  169,  171,  182,  183,  185,  186,  232,  233,  275,\n",
    "             286,  287,  288,  336,  367,  435,  455,  485,  508,  598,  599,\n",
    "             614,  616,  617,  639,  674,  676,  772,  854,  855,  862,  891,\n",
    "             954, 1013, 1024, 1048, 1083, 1115, 1119, 1175, 1218, 1220, 1246,\n",
    "            1247, 1318, 1319, 1383, 1401, 1402, 1411, 1413, 1436, 1437, 1438,\n",
    "            1453, 1463],inplace=True)"
   ]
  },
  {
   "cell_type": "code",
   "execution_count": 60,
   "id": "fde4b75a",
   "metadata": {},
   "outputs": [
    {
     "data": {
      "text/plain": [
       "(1404, 8)"
      ]
     },
     "execution_count": 60,
     "metadata": {},
     "output_type": "execute_result"
    }
   ],
   "source": [
    "data.shape"
   ]
  },
  {
   "cell_type": "code",
   "execution_count": 61,
   "id": "0a34185c",
   "metadata": {},
   "outputs": [
    {
     "data": {
      "text/plain": [
       "Text(0.5, 1.0, 'Total number of people affected by drought per 100,000')"
      ]
     },
     "execution_count": 61,
     "metadata": {},
     "output_type": "execute_result"
    },
    {
     "data": {
      "image/png": "[encoded data removed]",
      "text/plain": [
       "<Figure size 432x288 with 1 Axes>"
      ]
     },
     "metadata": {
      "needs_background": "light"
     },
     "output_type": "display_data"
    }
   ],
   "source": [
    "#Total number of people affected by drought per 100,000\n",
    "plt.boxplot(data['Total number of people affected by drought per 100,000'])\n",
    "plt.title(\"Total number of people affected by drought per 100,000\")"
   ]
  },
  {
   "cell_type": "code",
   "execution_count": 62,
   "id": "52218e83",
   "metadata": {},
   "outputs": [
    {
     "name": "stdout",
     "output_type": "stream",
     "text": [
      "0.0\n",
      "0.0\n",
      "0.0\n"
     ]
    }
   ],
   "source": [
    "Q1 =np.percentile(data['Total number of people affected by drought per 100,000'], 25, interpolation='midpoint')\n",
    "Q2 =np.percentile(data['Total number of people affected by drought per 100,000'], 50, interpolation='midpoint')\n",
    "Q3 =np.percentile(data['Total number of people affected by drought per 100,000'], 75, interpolation='midpoint')\n",
    "print(Q1)\n",
    "print(Q2)\n",
    "print(Q3)"
   ]
  },
  {
   "cell_type": "code",
   "execution_count": 63,
   "id": "e3e31186",
   "metadata": {},
   "outputs": [
    {
     "name": "stdout",
     "output_type": "stream",
     "text": [
      "-2987.7376425855514\n",
      "2987.7376425855514\n"
     ]
    }
   ],
   "source": [
    "low_lim=Q1-1.5*IQR\n",
    "hig_lim=Q3+1.5*IQR\n",
    "print(low_lim)\n",
    "print(hig_lim)"
   ]
  },
  {
   "cell_type": "code",
   "execution_count": 64,
   "id": "33851ee2",
   "metadata": {},
   "outputs": [
    {
     "name": "stdout",
     "output_type": "stream",
     "text": [
      "Int64Index([], dtype='int64')\n"
     ]
    }
   ],
   "source": [
    "out_1=data['Total number of people affected by drought per 100,000']< low_lim\n",
    "ind_1=data.loc[out_1].index\n",
    "print(ind_1)"
   ]
  },
  {
   "cell_type": "code",
   "execution_count": 65,
   "id": "27ec8399",
   "metadata": {},
   "outputs": [
    {
     "name": "stdout",
     "output_type": "stream",
     "text": [
      "Int64Index([   6,   15,   53,  150,  175,  209,  211,  214,  217,  262,  264,\n",
      "             371,  373,  422,  423,  427,  428,  429,  432,  434,  442,  478,\n",
      "             480,  495,  561,  575,  615,  725,  727,  730,  737,  740,  757,\n",
      "             759,  760,  790,  791,  792,  816,  834,  835,  836,  838,  839,\n",
      "             896,  897,  916,  919,  972,  974,  975,  984, 1016, 1033, 1120,\n",
      "            1162, 1174, 1212, 1213, 1219, 1230, 1231, 1253, 1258, 1259, 1306,\n",
      "            1456, 1461, 1462],\n",
      "           dtype='int64')\n"
     ]
    }
   ],
   "source": [
    "out_2=data['Total number of people affected by drought per 100,000']> hig_lim\n",
    "ind_2=data.loc[out_2].index\n",
    "print(ind_2)"
   ]
  },
  {
   "cell_type": "code",
   "execution_count": 66,
   "id": "ad1b67de",
   "metadata": {},
   "outputs": [],
   "source": [
    "data.drop([6,   15,   53,  150,  175,  209,  211,  214,  217,  262,  264,\n",
    "             371,  373,  422,  423,  427,  428,  429,  432,  434,  442,  478,\n",
    "             480,  495,  561,  575,  615,  725,  727,  730,  737,  740,  757,\n",
    "             759,  760,  790,  791,  792,  816,  834,  835,  836,  838,  839,\n",
    "             896,  897,  916,  919,  972,  974,  975,  984, 1016, 1033, 1120,\n",
    "            1162, 1174, 1212, 1213, 1219, 1230, 1231, 1253, 1258, 1259, 1306,\n",
    "            1456, 1461, 1462],inplace=True)"
   ]
  },
  {
   "cell_type": "code",
   "execution_count": 67,
   "id": "367882e9",
   "metadata": {},
   "outputs": [
    {
     "data": {
      "text/plain": [
       "(1335, 8)"
      ]
     },
     "execution_count": 67,
     "metadata": {},
     "output_type": "execute_result"
    }
   ],
   "source": [
    "data.shape"
   ]
  },
  {
   "cell_type": "code",
   "execution_count": 82,
   "id": "73088da9",
   "metadata": {},
   "outputs": [],
   "source": [
    "data.drop(['affected drought'],axis=1,inplace=True)"
   ]
  },
  {
   "cell_type": "code",
   "execution_count": 83,
   "id": "232f2e24",
   "metadata": {},
   "outputs": [
    {
     "data": {
      "text/html": [
       "<div>\n",
       "<style scoped>\n",
       "    .dataframe tbody tr th:only-of-type {\n",
       "        vertical-align: middle;\n",
       "    }\n",
       "\n",
       "    .dataframe tbody tr th {\n",
       "        vertical-align: top;\n",
       "    }\n",
       "\n",
       "    .dataframe thead th {\n",
       "        text-align: right;\n",
       "    }\n",
       "</style>\n",
       "<table border=\"1\" class=\"dataframe\">\n",
       "  <thead>\n",
       "    <tr style=\"text-align: right;\">\n",
       "      <th></th>\n",
       "      <th>Reconstruction costs from drought</th>\n",
       "      <th>Insured damages against drought</th>\n",
       "      <th>Total economic damages from drought</th>\n",
       "      <th>Total number of people affected by drought per 100,000</th>\n",
       "      <th>death</th>\n",
       "      <th>injured</th>\n",
       "      <th>no home</th>\n",
       "    </tr>\n",
       "  </thead>\n",
       "  <tbody>\n",
       "    <tr>\n",
       "      <th>0</th>\n",
       "      <td>0.0</td>\n",
       "      <td>1991.825095</td>\n",
       "      <td>15743.543156</td>\n",
       "      <td>0.000000</td>\n",
       "      <td>0.0</td>\n",
       "      <td>0.0</td>\n",
       "      <td>0</td>\n",
       "    </tr>\n",
       "    <tr>\n",
       "      <th>1</th>\n",
       "      <td>0.0</td>\n",
       "      <td>0.000000</td>\n",
       "      <td>20.000000</td>\n",
       "      <td>44.060951</td>\n",
       "      <td>0.0</td>\n",
       "      <td>0.0</td>\n",
       "      <td>0</td>\n",
       "    </tr>\n",
       "    <tr>\n",
       "      <th>2</th>\n",
       "      <td>0.0</td>\n",
       "      <td>0.000000</td>\n",
       "      <td>0.000000</td>\n",
       "      <td>0.000000</td>\n",
       "      <td>0.0</td>\n",
       "      <td>0.0</td>\n",
       "      <td>0</td>\n",
       "    </tr>\n",
       "    <tr>\n",
       "      <th>3</th>\n",
       "      <td>0.0</td>\n",
       "      <td>0.000000</td>\n",
       "      <td>0.000000</td>\n",
       "      <td>0.000000</td>\n",
       "      <td>0.0</td>\n",
       "      <td>0.0</td>\n",
       "      <td>0</td>\n",
       "    </tr>\n",
       "    <tr>\n",
       "      <th>4</th>\n",
       "      <td>0.0</td>\n",
       "      <td>0.000000</td>\n",
       "      <td>0.000000</td>\n",
       "      <td>0.000000</td>\n",
       "      <td>0.0</td>\n",
       "      <td>0.0</td>\n",
       "      <td>0</td>\n",
       "    </tr>\n",
       "  </tbody>\n",
       "</table>\n",
       "</div>"
      ],
      "text/plain": [
       "   Reconstruction costs from drought  Insured damages against drought  \\\n",
       "0                                0.0                      1991.825095   \n",
       "1                                0.0                         0.000000   \n",
       "2                                0.0                         0.000000   \n",
       "3                                0.0                         0.000000   \n",
       "4                                0.0                         0.000000   \n",
       "\n",
       "   Total economic damages from drought  \\\n",
       "0                         15743.543156   \n",
       "1                            20.000000   \n",
       "2                             0.000000   \n",
       "3                             0.000000   \n",
       "4                             0.000000   \n",
       "\n",
       "   Total number of people affected by drought per 100,000  death  injured  \\\n",
       "0                                           0.000000         0.0      0.0   \n",
       "1                                          44.060951         0.0      0.0   \n",
       "2                                           0.000000         0.0      0.0   \n",
       "3                                           0.000000         0.0      0.0   \n",
       "4                                           0.000000         0.0      0.0   \n",
       "\n",
       "   no home  \n",
       "0        0  \n",
       "1        0  \n",
       "2        0  \n",
       "3        0  \n",
       "4        0  "
      ]
     },
     "execution_count": 83,
     "metadata": {},
     "output_type": "execute_result"
    }
   ],
   "source": [
    "data.head()"
   ]
  },
  {
   "cell_type": "code",
   "execution_count": 70,
   "id": "acff4a29",
   "metadata": {},
   "outputs": [
    {
     "data": {
      "text/plain": [
       "Text(0.5, 1.0, 'death')"
      ]
     },
     "execution_count": 70,
     "metadata": {},
     "output_type": "execute_result"
    },
    {
     "data": {
      "image/png": "[encoded data removed]",
      "text/plain": [
       "<Figure size 432x288 with 1 Axes>"
      ]
     },
     "metadata": {
      "needs_background": "light"
     },
     "output_type": "display_data"
    }
   ],
   "source": [
    "#death\n",
    "\n",
    "plt.boxplot(data['death'])\n",
    "plt.title(\"death\")"
   ]
  },
  {
   "cell_type": "code",
   "execution_count": 71,
   "id": "8f9f4965",
   "metadata": {},
   "outputs": [
    {
     "name": "stdout",
     "output_type": "stream",
     "text": [
      "0.0\n",
      "0.0\n",
      "0.0\n"
     ]
    }
   ],
   "source": [
    "Q1 =np.percentile(data['death'], 25, interpolation='midpoint')\n",
    "Q2 =np.percentile(data['death'], 50, interpolation='midpoint')\n",
    "Q3 =np.percentile(data['death'], 75, interpolation='midpoint')\n",
    "print(Q1)\n",
    "print(Q2)\n",
    "print(Q3)"
   ]
  },
  {
   "cell_type": "code",
   "execution_count": 72,
   "id": "b93e0798",
   "metadata": {},
   "outputs": [
    {
     "name": "stdout",
     "output_type": "stream",
     "text": [
      "-2987.7376425855514\n",
      "2987.7376425855514\n"
     ]
    }
   ],
   "source": [
    "low_lim=Q1-1.5*IQR\n",
    "hig_lim=Q3+1.5*IQR\n",
    "print(low_lim)\n",
    "print(hig_lim)"
   ]
  },
  {
   "cell_type": "code",
   "execution_count": 73,
   "id": "f3701012",
   "metadata": {},
   "outputs": [
    {
     "name": "stdout",
     "output_type": "stream",
     "text": [
      "Int64Index([109, 239, 241, 280, 431, 607, 611, 613, 965, 1234], dtype='int64')\n"
     ]
    }
   ],
   "source": [
    "out_2=data['death']> hig_lim\n",
    "ind_2=data.loc[out_2].index\n",
    "print(ind_2)"
   ]
  },
  {
   "cell_type": "code",
   "execution_count": 74,
   "id": "3978a730",
   "metadata": {},
   "outputs": [],
   "source": [
    "data.drop([109, 239, 241, 280, 431, 607, 611, 613, 965, 1234],inplace=True)"
   ]
  },
  {
   "cell_type": "code",
   "execution_count": 75,
   "id": "0a76c4a3",
   "metadata": {},
   "outputs": [
    {
     "data": {
      "text/plain": [
       "(1325, 8)"
      ]
     },
     "execution_count": 75,
     "metadata": {},
     "output_type": "execute_result"
    }
   ],
   "source": [
    "data.shape"
   ]
  },
  {
   "cell_type": "code",
   "execution_count": 76,
   "id": "0f271e26",
   "metadata": {},
   "outputs": [
    {
     "data": {
      "text/plain": [
       "Text(0.5, 1.0, 'injured')"
      ]
     },
     "execution_count": 76,
     "metadata": {},
     "output_type": "execute_result"
    },
    {
     "data": {
      "image/png": "[encoded data removed]",
      "text/plain": [
       "<Figure size 432x288 with 1 Axes>"
      ]
     },
     "metadata": {
      "needs_background": "light"
     },
     "output_type": "display_data"
    }
   ],
   "source": [
    "#injured\n",
    "\n",
    "plt.boxplot(data['injured'])\n",
    "plt.title(\"injured\")"
   ]
  },
  {
   "cell_type": "code",
   "execution_count": 77,
   "id": "10194f55",
   "metadata": {},
   "outputs": [
    {
     "data": {
      "text/plain": [
       "Text(0.5, 1.0, 'no home')"
      ]
     },
     "execution_count": 77,
     "metadata": {},
     "output_type": "execute_result"
    },
    {
     "data": {
      "image/png": "[encoded data removed]",
      "text/plain": [
       "<Figure size 432x288 with 1 Axes>"
      ]
     },
     "metadata": {
      "needs_background": "light"
     },
     "output_type": "display_data"
    }
   ],
   "source": [
    "#no home\n",
    "\n",
    "plt.boxplot(data['no home'])\n",
    "plt.title(\"no home\")"
   ]
  },
  {
   "cell_type": "markdown",
   "id": "fefc8a6d",
   "metadata": {},
   "source": [
    "Linear Regression"
   ]
  },
  {
   "cell_type": "code",
   "execution_count": null,
   "id": "da225b4c",
   "metadata": {},
   "outputs": [],
   "source": [
    "#how many people are affected by drought per 100,000 km"
   ]
  },
  {
   "cell_type": "code",
   "execution_count": 84,
   "id": "5f526b9c",
   "metadata": {},
   "outputs": [],
   "source": [
    "y=data['Total number of people affected by drought per 100,000']\n",
    "x=data.drop(['Total number of people affected by drought per 100,000'],axis=1)"
   ]
  },
  {
   "cell_type": "code",
   "execution_count": 85,
   "id": "e7d966f8",
   "metadata": {},
   "outputs": [],
   "source": [
    "from sklearn.model_selection import train_test_split"
   ]
  },
  {
   "cell_type": "code",
   "execution_count": 86,
   "id": "a8698f15",
   "metadata": {},
   "outputs": [],
   "source": [
    "x_train,x_test,y_train,y_test=train_test_split(x,y,random_state=42,test_size=0.2)"
   ]
  },
  {
   "cell_type": "code",
   "execution_count": 89,
   "id": "a4b6834e",
   "metadata": {},
   "outputs": [],
   "source": [
    "from sklearn import linear_model"
   ]
  },
  {
   "cell_type": "code",
   "execution_count": 90,
   "id": "30906382",
   "metadata": {},
   "outputs": [],
   "source": [
    "Ir=linear_model.LinearRegression()\n",
    "ajay=Ir.fit(x_train,y_train)\n"
   ]
  },
  {
   "cell_type": "code",
   "execution_count": 92,
   "id": "1f22dc03",
   "metadata": {},
   "outputs": [],
   "source": [
    "pred=ajay.predict(x_test)\n"
   ]
  },
  {
   "cell_type": "code",
   "execution_count": 95,
   "id": "61b794c5",
   "metadata": {},
   "outputs": [],
   "source": [
    "from sklearn.metrics import r2_score"
   ]
  },
  {
   "cell_type": "code",
   "execution_count": 97,
   "id": "1e9a1ec8",
   "metadata": {},
   "outputs": [
    {
     "name": "stdout",
     "output_type": "stream",
     "text": [
      "r2: 0.0385369297556013\n"
     ]
    }
   ],
   "source": [
    "print('r2:',r2_score(y_test,pred))"
   ]
  },
  {
   "cell_type": "code",
   "execution_count": 98,
   "id": "b6d92f52",
   "metadata": {},
   "outputs": [],
   "source": [
    "#try to imporove our model in  fature scaling"
   ]
  },
  {
   "cell_type": "code",
   "execution_count": 100,
   "id": "2ddd73db",
   "metadata": {},
   "outputs": [],
   "source": [
    "#min max scaling"
   ]
  },
  {
   "cell_type": "code",
   "execution_count": 115,
   "id": "782c06f4",
   "metadata": {},
   "outputs": [],
   "source": [
    "x=data.drop(['Total number of people affected by drought per 100,000'],axis=1)"
   ]
  },
  {
   "cell_type": "code",
   "execution_count": 116,
   "id": "706a9540",
   "metadata": {},
   "outputs": [],
   "source": [
    "from sklearn import preprocessing"
   ]
  },
  {
   "cell_type": "code",
   "execution_count": 117,
   "id": "03816a94",
   "metadata": {},
   "outputs": [],
   "source": [
    "min_max=preprocessing.MinMaxScaler(feature_range=(0,1))\n"
   ]
  },
  {
   "cell_type": "code",
   "execution_count": 118,
   "id": "f396c488",
   "metadata": {},
   "outputs": [],
   "source": [
    "x=min_max.fit_transform(x)\n",
    "#then we check x"
   ]
  },
  {
   "cell_type": "code",
   "execution_count": 119,
   "id": "26c79fae",
   "metadata": {},
   "outputs": [],
   "source": [
    "x=pd.DataFrame(x)"
   ]
  },
  {
   "cell_type": "code",
   "execution_count": 120,
   "id": "6c30dc6f",
   "metadata": {},
   "outputs": [
    {
     "data": {
      "text/html": [
       "<div>\n",
       "<style scoped>\n",
       "    .dataframe tbody tr th:only-of-type {\n",
       "        vertical-align: middle;\n",
       "    }\n",
       "\n",
       "    .dataframe tbody tr th {\n",
       "        vertical-align: top;\n",
       "    }\n",
       "\n",
       "    .dataframe thead th {\n",
       "        text-align: right;\n",
       "    }\n",
       "</style>\n",
       "<table border=\"1\" class=\"dataframe\">\n",
       "  <thead>\n",
       "    <tr style=\"text-align: right;\">\n",
       "      <th></th>\n",
       "      <th>0</th>\n",
       "      <th>1</th>\n",
       "      <th>2</th>\n",
       "      <th>3</th>\n",
       "      <th>4</th>\n",
       "      <th>5</th>\n",
       "    </tr>\n",
       "  </thead>\n",
       "  <tbody>\n",
       "    <tr>\n",
       "      <th>count</th>\n",
       "      <td>1325.0</td>\n",
       "      <td>1325.000000</td>\n",
       "      <td>1325.000000</td>\n",
       "      <td>1325.000000</td>\n",
       "      <td>1325.0</td>\n",
       "      <td>1325.0</td>\n",
       "    </tr>\n",
       "    <tr>\n",
       "      <th>mean</th>\n",
       "      <td>0.0</td>\n",
       "      <td>0.304906</td>\n",
       "      <td>0.278233</td>\n",
       "      <td>0.001968</td>\n",
       "      <td>0.0</td>\n",
       "      <td>0.0</td>\n",
       "    </tr>\n",
       "    <tr>\n",
       "      <th>std</th>\n",
       "      <td>0.0</td>\n",
       "      <td>0.460541</td>\n",
       "      <td>0.403005</td>\n",
       "      <td>0.039353</td>\n",
       "      <td>0.0</td>\n",
       "      <td>0.0</td>\n",
       "    </tr>\n",
       "    <tr>\n",
       "      <th>min</th>\n",
       "      <td>0.0</td>\n",
       "      <td>0.000000</td>\n",
       "      <td>0.000000</td>\n",
       "      <td>0.000000</td>\n",
       "      <td>0.0</td>\n",
       "      <td>0.0</td>\n",
       "    </tr>\n",
       "    <tr>\n",
       "      <th>25%</th>\n",
       "      <td>0.0</td>\n",
       "      <td>0.000000</td>\n",
       "      <td>0.000000</td>\n",
       "      <td>0.000000</td>\n",
       "      <td>0.0</td>\n",
       "      <td>0.0</td>\n",
       "    </tr>\n",
       "    <tr>\n",
       "      <th>50%</th>\n",
       "      <td>0.0</td>\n",
       "      <td>0.000000</td>\n",
       "      <td>0.000000</td>\n",
       "      <td>0.000000</td>\n",
       "      <td>0.0</td>\n",
       "      <td>0.0</td>\n",
       "    </tr>\n",
       "    <tr>\n",
       "      <th>75%</th>\n",
       "      <td>0.0</td>\n",
       "      <td>1.000000</td>\n",
       "      <td>0.874641</td>\n",
       "      <td>0.000000</td>\n",
       "      <td>0.0</td>\n",
       "      <td>0.0</td>\n",
       "    </tr>\n",
       "    <tr>\n",
       "      <th>max</th>\n",
       "      <td>0.0</td>\n",
       "      <td>1.000000</td>\n",
       "      <td>1.000000</td>\n",
       "      <td>1.000000</td>\n",
       "      <td>0.0</td>\n",
       "      <td>0.0</td>\n",
       "    </tr>\n",
       "  </tbody>\n",
       "</table>\n",
       "</div>"
      ],
      "text/plain": [
       "            0            1            2            3       4       5\n",
       "count  1325.0  1325.000000  1325.000000  1325.000000  1325.0  1325.0\n",
       "mean      0.0     0.304906     0.278233     0.001968     0.0     0.0\n",
       "std       0.0     0.460541     0.403005     0.039353     0.0     0.0\n",
       "min       0.0     0.000000     0.000000     0.000000     0.0     0.0\n",
       "25%       0.0     0.000000     0.000000     0.000000     0.0     0.0\n",
       "50%       0.0     0.000000     0.000000     0.000000     0.0     0.0\n",
       "75%       0.0     1.000000     0.874641     0.000000     0.0     0.0\n",
       "max       0.0     1.000000     1.000000     1.000000     0.0     0.0"
      ]
     },
     "execution_count": 120,
     "metadata": {},
     "output_type": "execute_result"
    }
   ],
   "source": [
    "x.describe()"
   ]
  },
  {
   "cell_type": "code",
   "execution_count": 107,
   "id": "ab021431",
   "metadata": {},
   "outputs": [],
   "source": [
    "# mimumum is zero and maximum is one the table can be changed by applying model"
   ]
  },
  {
   "cell_type": "code",
   "execution_count": 121,
   "id": "14590bcc",
   "metadata": {},
   "outputs": [
    {
     "name": "stdout",
     "output_type": "stream",
     "text": [
      "r2: 0.0385369297556013\n"
     ]
    }
   ],
   "source": [
    "x_train,x_test,y_train,y_test=train_test_split(x,y,random_state=42,test_size=0.2)\n",
    "Ir=linear_model.LinearRegression()\n",
    "x=Ir.fit(x_train,y_train)\n",
    "print('r2:',r2_score(y_test,pred))"
   ]
  },
  {
   "cell_type": "code",
   "execution_count": null,
   "id": "b628a9cd",
   "metadata": {},
   "outputs": [],
   "source": [
    "# # min max scale not effect in data set because r square value is same"
   ]
  },
  {
   "cell_type": "code",
   "execution_count": 122,
   "id": "3312d567",
   "metadata": {},
   "outputs": [],
   "source": [
    "#standard error"
   ]
  },
  {
   "cell_type": "code",
   "execution_count": 124,
   "id": "e58e78c0",
   "metadata": {},
   "outputs": [],
   "source": [
    "x=data.drop(['Total number of people affected by drought per 100,000'],axis=1)"
   ]
  },
  {
   "cell_type": "code",
   "execution_count": 125,
   "id": "17873928",
   "metadata": {},
   "outputs": [
    {
     "data": {
      "text/html": [
       "<div>\n",
       "<style scoped>\n",
       "    .dataframe tbody tr th:only-of-type {\n",
       "        vertical-align: middle;\n",
       "    }\n",
       "\n",
       "    .dataframe tbody tr th {\n",
       "        vertical-align: top;\n",
       "    }\n",
       "\n",
       "    .dataframe thead th {\n",
       "        text-align: right;\n",
       "    }\n",
       "</style>\n",
       "<table border=\"1\" class=\"dataframe\">\n",
       "  <thead>\n",
       "    <tr style=\"text-align: right;\">\n",
       "      <th></th>\n",
       "      <th>Reconstruction costs from drought</th>\n",
       "      <th>Insured damages against drought</th>\n",
       "      <th>Total economic damages from drought</th>\n",
       "      <th>death</th>\n",
       "      <th>injured</th>\n",
       "      <th>no home</th>\n",
       "    </tr>\n",
       "  </thead>\n",
       "  <tbody>\n",
       "    <tr>\n",
       "      <th>count</th>\n",
       "      <td>1325.0</td>\n",
       "      <td>1325.000000</td>\n",
       "      <td>1325.000000</td>\n",
       "      <td>1325.000000</td>\n",
       "      <td>1325.0</td>\n",
       "      <td>1325.0</td>\n",
       "    </tr>\n",
       "    <tr>\n",
       "      <th>mean</th>\n",
       "      <td>0.0</td>\n",
       "      <td>607.318746</td>\n",
       "      <td>5008.192102</td>\n",
       "      <td>4.071607</td>\n",
       "      <td>0.0</td>\n",
       "      <td>0.0</td>\n",
       "    </tr>\n",
       "    <tr>\n",
       "      <th>std</th>\n",
       "      <td>0.0</td>\n",
       "      <td>917.317684</td>\n",
       "      <td>7254.093480</td>\n",
       "      <td>81.404342</td>\n",
       "      <td>0.0</td>\n",
       "      <td>0.0</td>\n",
       "    </tr>\n",
       "    <tr>\n",
       "      <th>min</th>\n",
       "      <td>0.0</td>\n",
       "      <td>0.000000</td>\n",
       "      <td>0.000000</td>\n",
       "      <td>0.000000</td>\n",
       "      <td>0.0</td>\n",
       "      <td>0.0</td>\n",
       "    </tr>\n",
       "    <tr>\n",
       "      <th>25%</th>\n",
       "      <td>0.0</td>\n",
       "      <td>0.000000</td>\n",
       "      <td>0.000000</td>\n",
       "      <td>0.000000</td>\n",
       "      <td>0.0</td>\n",
       "      <td>0.0</td>\n",
       "    </tr>\n",
       "    <tr>\n",
       "      <th>50%</th>\n",
       "      <td>0.0</td>\n",
       "      <td>0.000000</td>\n",
       "      <td>0.000000</td>\n",
       "      <td>0.000000</td>\n",
       "      <td>0.0</td>\n",
       "      <td>0.0</td>\n",
       "    </tr>\n",
       "    <tr>\n",
       "      <th>75%</th>\n",
       "      <td>0.0</td>\n",
       "      <td>1991.825095</td>\n",
       "      <td>15743.543156</td>\n",
       "      <td>0.000000</td>\n",
       "      <td>0.0</td>\n",
       "      <td>0.0</td>\n",
       "    </tr>\n",
       "    <tr>\n",
       "      <th>max</th>\n",
       "      <td>0.0</td>\n",
       "      <td>1991.825095</td>\n",
       "      <td>18000.000000</td>\n",
       "      <td>2068.565642</td>\n",
       "      <td>0.0</td>\n",
       "      <td>0.0</td>\n",
       "    </tr>\n",
       "  </tbody>\n",
       "</table>\n",
       "</div>"
      ],
      "text/plain": [
       "       Reconstruction costs from drought  Insured damages against drought  \\\n",
       "count                             1325.0                      1325.000000   \n",
       "mean                                 0.0                       607.318746   \n",
       "std                                  0.0                       917.317684   \n",
       "min                                  0.0                         0.000000   \n",
       "25%                                  0.0                         0.000000   \n",
       "50%                                  0.0                         0.000000   \n",
       "75%                                  0.0                      1991.825095   \n",
       "max                                  0.0                      1991.825095   \n",
       "\n",
       "       Total economic damages from drought        death  injured  no home  \n",
       "count                          1325.000000  1325.000000   1325.0   1325.0  \n",
       "mean                           5008.192102     4.071607      0.0      0.0  \n",
       "std                            7254.093480    81.404342      0.0      0.0  \n",
       "min                               0.000000     0.000000      0.0      0.0  \n",
       "25%                               0.000000     0.000000      0.0      0.0  \n",
       "50%                               0.000000     0.000000      0.0      0.0  \n",
       "75%                           15743.543156     0.000000      0.0      0.0  \n",
       "max                           18000.000000  2068.565642      0.0      0.0  "
      ]
     },
     "execution_count": 125,
     "metadata": {},
     "output_type": "execute_result"
    }
   ],
   "source": [
    "x.describe()"
   ]
  },
  {
   "cell_type": "code",
   "execution_count": 126,
   "id": "f4ad7271",
   "metadata": {},
   "outputs": [],
   "source": [
    "#now we go for stanadrd scaling\n",
    "#we take instant of stadre sacaling into variable"
   ]
  },
  {
   "cell_type": "code",
   "execution_count": 127,
   "id": "b0721faf",
   "metadata": {},
   "outputs": [],
   "source": [
    "stand=preprocessing.StandardScaler()\n",
    "#now we will aplly this scaling into x then it is stored in x"
   ]
  },
  {
   "cell_type": "code",
   "execution_count": 128,
   "id": "6bd43b09",
   "metadata": {},
   "outputs": [],
   "source": [
    "x=stand.fit_transform(x)\n",
    "#then we check x"
   ]
  },
  {
   "cell_type": "code",
   "execution_count": 129,
   "id": "1535ad19",
   "metadata": {},
   "outputs": [],
   "source": [
    "x=pd.DataFrame(x)"
   ]
  },
  {
   "cell_type": "code",
   "execution_count": 130,
   "id": "16eb3a8d",
   "metadata": {},
   "outputs": [
    {
     "data": {
      "text/html": [
       "<div>\n",
       "<style scoped>\n",
       "    .dataframe tbody tr th:only-of-type {\n",
       "        vertical-align: middle;\n",
       "    }\n",
       "\n",
       "    .dataframe tbody tr th {\n",
       "        vertical-align: top;\n",
       "    }\n",
       "\n",
       "    .dataframe thead th {\n",
       "        text-align: right;\n",
       "    }\n",
       "</style>\n",
       "<table border=\"1\" class=\"dataframe\">\n",
       "  <thead>\n",
       "    <tr style=\"text-align: right;\">\n",
       "      <th></th>\n",
       "      <th>0</th>\n",
       "      <th>1</th>\n",
       "      <th>2</th>\n",
       "      <th>3</th>\n",
       "      <th>4</th>\n",
       "      <th>5</th>\n",
       "    </tr>\n",
       "  </thead>\n",
       "  <tbody>\n",
       "    <tr>\n",
       "      <th>count</th>\n",
       "      <td>1325.0</td>\n",
       "      <td>1.325000e+03</td>\n",
       "      <td>1.325000e+03</td>\n",
       "      <td>1.325000e+03</td>\n",
       "      <td>1325.0</td>\n",
       "      <td>1325.0</td>\n",
       "    </tr>\n",
       "    <tr>\n",
       "      <th>mean</th>\n",
       "      <td>0.0</td>\n",
       "      <td>-6.138486e-16</td>\n",
       "      <td>5.416213e-16</td>\n",
       "      <td>-1.433759e-16</td>\n",
       "      <td>0.0</td>\n",
       "      <td>0.0</td>\n",
       "    </tr>\n",
       "    <tr>\n",
       "      <th>std</th>\n",
       "      <td>0.0</td>\n",
       "      <td>1.000378e+00</td>\n",
       "      <td>1.000378e+00</td>\n",
       "      <td>1.000378e+00</td>\n",
       "      <td>0.0</td>\n",
       "      <td>0.0</td>\n",
       "    </tr>\n",
       "    <tr>\n",
       "      <th>min</th>\n",
       "      <td>0.0</td>\n",
       "      <td>-6.623093e-01</td>\n",
       "      <td>-6.906560e-01</td>\n",
       "      <td>-5.003596e-02</td>\n",
       "      <td>0.0</td>\n",
       "      <td>0.0</td>\n",
       "    </tr>\n",
       "    <tr>\n",
       "      <th>25%</th>\n",
       "      <td>0.0</td>\n",
       "      <td>-6.623093e-01</td>\n",
       "      <td>-6.906560e-01</td>\n",
       "      <td>-5.003596e-02</td>\n",
       "      <td>0.0</td>\n",
       "      <td>0.0</td>\n",
       "    </tr>\n",
       "    <tr>\n",
       "      <th>50%</th>\n",
       "      <td>0.0</td>\n",
       "      <td>-6.623093e-01</td>\n",
       "      <td>-6.906560e-01</td>\n",
       "      <td>-5.003596e-02</td>\n",
       "      <td>0.0</td>\n",
       "      <td>0.0</td>\n",
       "    </tr>\n",
       "    <tr>\n",
       "      <th>75%</th>\n",
       "      <td>0.0</td>\n",
       "      <td>1.509869e+00</td>\n",
       "      <td>1.480461e+00</td>\n",
       "      <td>-5.003596e-02</td>\n",
       "      <td>0.0</td>\n",
       "      <td>0.0</td>\n",
       "    </tr>\n",
       "    <tr>\n",
       "      <th>max</th>\n",
       "      <td>0.0</td>\n",
       "      <td>1.509869e+00</td>\n",
       "      <td>1.791639e+00</td>\n",
       "      <td>2.537056e+01</td>\n",
       "      <td>0.0</td>\n",
       "      <td>0.0</td>\n",
       "    </tr>\n",
       "  </tbody>\n",
       "</table>\n",
       "</div>"
      ],
      "text/plain": [
       "            0             1             2             3       4       5\n",
       "count  1325.0  1.325000e+03  1.325000e+03  1.325000e+03  1325.0  1325.0\n",
       "mean      0.0 -6.138486e-16  5.416213e-16 -1.433759e-16     0.0     0.0\n",
       "std       0.0  1.000378e+00  1.000378e+00  1.000378e+00     0.0     0.0\n",
       "min       0.0 -6.623093e-01 -6.906560e-01 -5.003596e-02     0.0     0.0\n",
       "25%       0.0 -6.623093e-01 -6.906560e-01 -5.003596e-02     0.0     0.0\n",
       "50%       0.0 -6.623093e-01 -6.906560e-01 -5.003596e-02     0.0     0.0\n",
       "75%       0.0  1.509869e+00  1.480461e+00 -5.003596e-02     0.0     0.0\n",
       "max       0.0  1.509869e+00  1.791639e+00  2.537056e+01     0.0     0.0"
      ]
     },
     "execution_count": 130,
     "metadata": {},
     "output_type": "execute_result"
    }
   ],
   "source": [
    "x.describe()"
   ]
  },
  {
   "cell_type": "code",
   "execution_count": 131,
   "id": "cc565fbd",
   "metadata": {},
   "outputs": [],
   "source": [
    "#now we can seen in mimum value and maximum value some changes\n",
    "# now we can agian create linear regresiion model we changs by model"
   ]
  },
  {
   "cell_type": "code",
   "execution_count": 132,
   "id": "4d33368f",
   "metadata": {},
   "outputs": [
    {
     "name": "stdout",
     "output_type": "stream",
     "text": [
      "r2: 0.0385369297556013\n"
     ]
    }
   ],
   "source": [
    "x_train,x_test,y_train,y_test=train_test_split(x,y,random_state=42,test_size=0.2)\n",
    "Ir=linear_model.LinearRegression()\n",
    "x=Ir.fit(x_train,y_train)\n",
    "print('r2:',r2_score(y_test,pred))"
   ]
  },
  {
   "cell_type": "code",
   "execution_count": null,
   "id": "0207cb23",
   "metadata": {},
   "outputs": [],
   "source": [
    "# normalization        "
   ]
  },
  {
   "cell_type": "code",
   "execution_count": 139,
   "id": "23134ec3",
   "metadata": {},
   "outputs": [],
   "source": [
    "x=data.drop(['Total number of people affected by drought per 100,000'],axis=1)"
   ]
  },
  {
   "cell_type": "code",
   "execution_count": 150,
   "id": "90798adf",
   "metadata": {},
   "outputs": [
    {
     "data": {
      "text/html": [
       "<div>\n",
       "<style scoped>\n",
       "    .dataframe tbody tr th:only-of-type {\n",
       "        vertical-align: middle;\n",
       "    }\n",
       "\n",
       "    .dataframe tbody tr th {\n",
       "        vertical-align: top;\n",
       "    }\n",
       "\n",
       "    .dataframe thead th {\n",
       "        text-align: right;\n",
       "    }\n",
       "</style>\n",
       "<table border=\"1\" class=\"dataframe\">\n",
       "  <thead>\n",
       "    <tr style=\"text-align: right;\">\n",
       "      <th></th>\n",
       "      <th>Reconstruction costs from drought</th>\n",
       "      <th>Insured damages against drought</th>\n",
       "      <th>Total economic damages from drought</th>\n",
       "      <th>death</th>\n",
       "      <th>injured</th>\n",
       "      <th>no home</th>\n",
       "    </tr>\n",
       "  </thead>\n",
       "  <tbody>\n",
       "    <tr>\n",
       "      <th>count</th>\n",
       "      <td>1325.0</td>\n",
       "      <td>1325.000000</td>\n",
       "      <td>1325.000000</td>\n",
       "      <td>1325.000000</td>\n",
       "      <td>1325.0</td>\n",
       "      <td>1325.0</td>\n",
       "    </tr>\n",
       "    <tr>\n",
       "      <th>mean</th>\n",
       "      <td>0.0</td>\n",
       "      <td>607.318746</td>\n",
       "      <td>5008.192102</td>\n",
       "      <td>4.071607</td>\n",
       "      <td>0.0</td>\n",
       "      <td>0.0</td>\n",
       "    </tr>\n",
       "    <tr>\n",
       "      <th>std</th>\n",
       "      <td>0.0</td>\n",
       "      <td>917.317684</td>\n",
       "      <td>7254.093480</td>\n",
       "      <td>81.404342</td>\n",
       "      <td>0.0</td>\n",
       "      <td>0.0</td>\n",
       "    </tr>\n",
       "    <tr>\n",
       "      <th>min</th>\n",
       "      <td>0.0</td>\n",
       "      <td>0.000000</td>\n",
       "      <td>0.000000</td>\n",
       "      <td>0.000000</td>\n",
       "      <td>0.0</td>\n",
       "      <td>0.0</td>\n",
       "    </tr>\n",
       "    <tr>\n",
       "      <th>25%</th>\n",
       "      <td>0.0</td>\n",
       "      <td>0.000000</td>\n",
       "      <td>0.000000</td>\n",
       "      <td>0.000000</td>\n",
       "      <td>0.0</td>\n",
       "      <td>0.0</td>\n",
       "    </tr>\n",
       "    <tr>\n",
       "      <th>50%</th>\n",
       "      <td>0.0</td>\n",
       "      <td>0.000000</td>\n",
       "      <td>0.000000</td>\n",
       "      <td>0.000000</td>\n",
       "      <td>0.0</td>\n",
       "      <td>0.0</td>\n",
       "    </tr>\n",
       "    <tr>\n",
       "      <th>75%</th>\n",
       "      <td>0.0</td>\n",
       "      <td>1991.825095</td>\n",
       "      <td>15743.543156</td>\n",
       "      <td>0.000000</td>\n",
       "      <td>0.0</td>\n",
       "      <td>0.0</td>\n",
       "    </tr>\n",
       "    <tr>\n",
       "      <th>max</th>\n",
       "      <td>0.0</td>\n",
       "      <td>1991.825095</td>\n",
       "      <td>18000.000000</td>\n",
       "      <td>2068.565642</td>\n",
       "      <td>0.0</td>\n",
       "      <td>0.0</td>\n",
       "    </tr>\n",
       "  </tbody>\n",
       "</table>\n",
       "</div>"
      ],
      "text/plain": [
       "       Reconstruction costs from drought  Insured damages against drought  \\\n",
       "count                             1325.0                      1325.000000   \n",
       "mean                                 0.0                       607.318746   \n",
       "std                                  0.0                       917.317684   \n",
       "min                                  0.0                         0.000000   \n",
       "25%                                  0.0                         0.000000   \n",
       "50%                                  0.0                         0.000000   \n",
       "75%                                  0.0                      1991.825095   \n",
       "max                                  0.0                      1991.825095   \n",
       "\n",
       "       Total economic damages from drought        death  injured  no home  \n",
       "count                          1325.000000  1325.000000   1325.0   1325.0  \n",
       "mean                           5008.192102     4.071607      0.0      0.0  \n",
       "std                            7254.093480    81.404342      0.0      0.0  \n",
       "min                               0.000000     0.000000      0.0      0.0  \n",
       "25%                               0.000000     0.000000      0.0      0.0  \n",
       "50%                               0.000000     0.000000      0.0      0.0  \n",
       "75%                           15743.543156     0.000000      0.0      0.0  \n",
       "max                           18000.000000  2068.565642      0.0      0.0  "
      ]
     },
     "execution_count": 150,
     "metadata": {},
     "output_type": "execute_result"
    }
   ],
   "source": [
    "x.describe()"
   ]
  },
  {
   "cell_type": "code",
   "execution_count": 151,
   "id": "9acee10e",
   "metadata": {},
   "outputs": [],
   "source": [
    "x=preprocessing.normalize(x)"
   ]
  },
  {
   "cell_type": "code",
   "execution_count": 152,
   "id": "93d6618e",
   "metadata": {},
   "outputs": [],
   "source": [
    "x=pd.DataFrame(x)"
   ]
  },
  {
   "cell_type": "code",
   "execution_count": 153,
   "id": "ea72d8e0",
   "metadata": {},
   "outputs": [
    {
     "data": {
      "text/html": [
       "<div>\n",
       "<style scoped>\n",
       "    .dataframe tbody tr th:only-of-type {\n",
       "        vertical-align: middle;\n",
       "    }\n",
       "\n",
       "    .dataframe tbody tr th {\n",
       "        vertical-align: top;\n",
       "    }\n",
       "\n",
       "    .dataframe thead th {\n",
       "        text-align: right;\n",
       "    }\n",
       "</style>\n",
       "<table border=\"1\" class=\"dataframe\">\n",
       "  <thead>\n",
       "    <tr style=\"text-align: right;\">\n",
       "      <th></th>\n",
       "      <th>0</th>\n",
       "      <th>1</th>\n",
       "      <th>2</th>\n",
       "      <th>3</th>\n",
       "      <th>4</th>\n",
       "      <th>5</th>\n",
       "    </tr>\n",
       "  </thead>\n",
       "  <tbody>\n",
       "    <tr>\n",
       "      <th>count</th>\n",
       "      <td>1325.0</td>\n",
       "      <td>1325.000000</td>\n",
       "      <td>1325.000000</td>\n",
       "      <td>1325.000000</td>\n",
       "      <td>1325.0</td>\n",
       "      <td>1325.0</td>\n",
       "    </tr>\n",
       "    <tr>\n",
       "      <th>mean</th>\n",
       "      <td>0.0</td>\n",
       "      <td>0.038270</td>\n",
       "      <td>0.352485</td>\n",
       "      <td>0.017136</td>\n",
       "      <td>0.0</td>\n",
       "      <td>0.0</td>\n",
       "    </tr>\n",
       "    <tr>\n",
       "      <th>std</th>\n",
       "      <td>0.0</td>\n",
       "      <td>0.057804</td>\n",
       "      <td>0.475082</td>\n",
       "      <td>0.128288</td>\n",
       "      <td>0.0</td>\n",
       "      <td>0.0</td>\n",
       "    </tr>\n",
       "    <tr>\n",
       "      <th>min</th>\n",
       "      <td>0.0</td>\n",
       "      <td>0.000000</td>\n",
       "      <td>0.000000</td>\n",
       "      <td>0.000000</td>\n",
       "      <td>0.0</td>\n",
       "      <td>0.0</td>\n",
       "    </tr>\n",
       "    <tr>\n",
       "      <th>25%</th>\n",
       "      <td>0.0</td>\n",
       "      <td>0.000000</td>\n",
       "      <td>0.000000</td>\n",
       "      <td>0.000000</td>\n",
       "      <td>0.0</td>\n",
       "      <td>0.0</td>\n",
       "    </tr>\n",
       "    <tr>\n",
       "      <th>50%</th>\n",
       "      <td>0.0</td>\n",
       "      <td>0.000000</td>\n",
       "      <td>0.000000</td>\n",
       "      <td>0.000000</td>\n",
       "      <td>0.0</td>\n",
       "      <td>0.0</td>\n",
       "    </tr>\n",
       "    <tr>\n",
       "      <th>75%</th>\n",
       "      <td>0.0</td>\n",
       "      <td>0.125516</td>\n",
       "      <td>0.992092</td>\n",
       "      <td>0.000000</td>\n",
       "      <td>0.0</td>\n",
       "      <td>0.0</td>\n",
       "    </tr>\n",
       "    <tr>\n",
       "      <th>max</th>\n",
       "      <td>0.0</td>\n",
       "      <td>0.125516</td>\n",
       "      <td>1.000000</td>\n",
       "      <td>1.000000</td>\n",
       "      <td>0.0</td>\n",
       "      <td>0.0</td>\n",
       "    </tr>\n",
       "  </tbody>\n",
       "</table>\n",
       "</div>"
      ],
      "text/plain": [
       "            0            1            2            3       4       5\n",
       "count  1325.0  1325.000000  1325.000000  1325.000000  1325.0  1325.0\n",
       "mean      0.0     0.038270     0.352485     0.017136     0.0     0.0\n",
       "std       0.0     0.057804     0.475082     0.128288     0.0     0.0\n",
       "min       0.0     0.000000     0.000000     0.000000     0.0     0.0\n",
       "25%       0.0     0.000000     0.000000     0.000000     0.0     0.0\n",
       "50%       0.0     0.000000     0.000000     0.000000     0.0     0.0\n",
       "75%       0.0     0.125516     0.992092     0.000000     0.0     0.0\n",
       "max       0.0     0.125516     1.000000     1.000000     0.0     0.0"
      ]
     },
     "execution_count": 153,
     "metadata": {},
     "output_type": "execute_result"
    }
   ],
   "source": [
    "x.describe()"
   ]
  },
  {
   "cell_type": "code",
   "execution_count": 154,
   "id": "38c88a50",
   "metadata": {},
   "outputs": [
    {
     "name": "stdout",
     "output_type": "stream",
     "text": [
      "r2: 0.0385369297556013\n"
     ]
    }
   ],
   "source": [
    "x_train,x_test,y_train,y_test=train_test_split(x,y,random_state=42,test_size=0.2)\n",
    "Ir=linear_model.LinearRegression()\n",
    "x=Ir.fit(x_train,y_train)\n",
    "print('r2:',r2_score(y_test,pred))"
   ]
  },
  {
   "cell_type": "code",
   "execution_count": 156,
   "id": "93b9c0a9",
   "metadata": {},
   "outputs": [],
   "source": [
    "# my r2 value is not change so my model is not good\n",
    "#normalization is good for classification alogorithm"
   ]
  },
  {
   "cell_type": "code",
   "execution_count": 157,
   "id": "6772135f",
   "metadata": {},
   "outputs": [],
   "source": []
  },
  {
   "cell_type": "code",
   "execution_count": 158,
   "id": "51bf2fa3",
   "metadata": {},
   "outputs": [],
   "source": []
  },
  {
   "cell_type": "code",
   "execution_count": null,
   "id": "2cf34e11",
   "metadata": {},
   "outputs": [],
   "source": []
  },
  {
   "cell_type": "code",
   "execution_count": null,
   "id": "c22fabdb",
   "metadata": {},
   "outputs": [],
   "source": []
  },
  {
   "cell_type": "code",
   "execution_count": null,
   "id": "dfd9297f",
   "metadata": {},
   "outputs": [],
   "source": []
  }
 ],
 "metadata": {
  "kernelspec": {
   "display_name": "Python 3",
   "language": "python",
   "name": "python3"
  },
  "language_info": {
   "codemirror_mode": {
    "name": "ipython",
    "version": 3
   },
   "file_extension": ".py",
   "mimetype": "text/x-python",
   "name": "python",
   "nbconvert_exporter": "python",
   "pygments_lexer": "ipython3",
   "version": "3.8.8"
  }
 },
 "nbformat": 4,
 "nbformat_minor": 5
}

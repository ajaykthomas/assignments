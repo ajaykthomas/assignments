{
 "cells": [
  {
   "cell_type": "code",
   "execution_count": 1,
   "id": "d68015d2",
   "metadata": {},
   "outputs": [],
   "source": [
    "import pandas as pd\n",
    "import numpy as np\n",
    "import seaborn as sns\n",
    "import matplotlib.pyplot as plt"
   ]
  },
  {
   "cell_type": "code",
   "execution_count": 2,
   "id": "65bc4e41",
   "metadata": {},
   "outputs": [],
   "source": [
    "data=pd.read_csv(r'desktop\\titanic_dataset.csv')"
   ]
  },
  {
   "cell_type": "code",
   "execution_count": 3,
   "id": "9b05aa2d",
   "metadata": {},
   "outputs": [
    {
     "data": {
      "text/html": [
       "<div>\n",
       "<style scoped>\n",
       "    .dataframe tbody tr th:only-of-type {\n",
       "        vertical-align: middle;\n",
       "    }\n",
       "\n",
       "    .dataframe tbody tr th {\n",
       "        vertical-align: top;\n",
       "    }\n",
       "\n",
       "    .dataframe thead th {\n",
       "        text-align: right;\n",
       "    }\n",
       "</style>\n",
       "<table border=\"1\" class=\"dataframe\">\n",
       "  <thead>\n",
       "    <tr style=\"text-align: right;\">\n",
       "      <th></th>\n",
       "      <th>PassengerId</th>\n",
       "      <th>Survived</th>\n",
       "      <th>Pclass</th>\n",
       "      <th>Name</th>\n",
       "      <th>Sex</th>\n",
       "      <th>Age</th>\n",
       "      <th>SibSp</th>\n",
       "      <th>Parch</th>\n",
       "      <th>Ticket</th>\n",
       "      <th>Fare</th>\n",
       "      <th>Cabin</th>\n",
       "      <th>Embarked</th>\n",
       "    </tr>\n",
       "  </thead>\n",
       "  <tbody>\n",
       "    <tr>\n",
       "      <th>0</th>\n",
       "      <td>1</td>\n",
       "      <td>0</td>\n",
       "      <td>3</td>\n",
       "      <td>Braund, Mr. Owen Harris</td>\n",
       "      <td>male</td>\n",
       "      <td>22.0</td>\n",
       "      <td>1</td>\n",
       "      <td>0</td>\n",
       "      <td>A/5 21171</td>\n",
       "      <td>7.2500</td>\n",
       "      <td>NaN</td>\n",
       "      <td>S</td>\n",
       "    </tr>\n",
       "    <tr>\n",
       "      <th>1</th>\n",
       "      <td>2</td>\n",
       "      <td>1</td>\n",
       "      <td>1</td>\n",
       "      <td>Cumings, Mrs. John Bradley (Florence Briggs Th...</td>\n",
       "      <td>female</td>\n",
       "      <td>38.0</td>\n",
       "      <td>1</td>\n",
       "      <td>0</td>\n",
       "      <td>PC 17599</td>\n",
       "      <td>71.2833</td>\n",
       "      <td>C85</td>\n",
       "      <td>C</td>\n",
       "    </tr>\n",
       "  </tbody>\n",
       "</table>\n",
       "</div>"
      ],
      "text/plain": [
       "   PassengerId  Survived  Pclass  \\\n",
       "0            1         0       3   \n",
       "1            2         1       1   \n",
       "\n",
       "                                                Name     Sex   Age  SibSp  \\\n",
       "0                            Braund, Mr. Owen Harris    male  22.0      1   \n",
       "1  Cumings, Mrs. John Bradley (Florence Briggs Th...  female  38.0      1   \n",
       "\n",
       "   Parch     Ticket     Fare Cabin Embarked  \n",
       "0      0  A/5 21171   7.2500   NaN        S  \n",
       "1      0   PC 17599  71.2833   C85        C  "
      ]
     },
     "execution_count": 3,
     "metadata": {},
     "output_type": "execute_result"
    }
   ],
   "source": [
    "data.head(2)"
   ]
  },
  {
   "cell_type": "markdown",
   "id": "940888ec",
   "metadata": {},
   "source": [
    "# Make ‘PassengerId’ as the index column"
   ]
  },
  {
   "cell_type": "code",
   "execution_count": 4,
   "id": "0f785c77",
   "metadata": {},
   "outputs": [
    {
     "data": {
      "text/html": [
       "<div>\n",
       "<style scoped>\n",
       "    .dataframe tbody tr th:only-of-type {\n",
       "        vertical-align: middle;\n",
       "    }\n",
       "\n",
       "    .dataframe tbody tr th {\n",
       "        vertical-align: top;\n",
       "    }\n",
       "\n",
       "    .dataframe thead th {\n",
       "        text-align: right;\n",
       "    }\n",
       "</style>\n",
       "<table border=\"1\" class=\"dataframe\">\n",
       "  <thead>\n",
       "    <tr style=\"text-align: right;\">\n",
       "      <th></th>\n",
       "      <th>Survived</th>\n",
       "      <th>Pclass</th>\n",
       "      <th>Name</th>\n",
       "      <th>Sex</th>\n",
       "      <th>Age</th>\n",
       "      <th>SibSp</th>\n",
       "      <th>Parch</th>\n",
       "      <th>Ticket</th>\n",
       "      <th>Fare</th>\n",
       "      <th>Cabin</th>\n",
       "      <th>Embarked</th>\n",
       "    </tr>\n",
       "    <tr>\n",
       "      <th>PassengerId</th>\n",
       "      <th></th>\n",
       "      <th></th>\n",
       "      <th></th>\n",
       "      <th></th>\n",
       "      <th></th>\n",
       "      <th></th>\n",
       "      <th></th>\n",
       "      <th></th>\n",
       "      <th></th>\n",
       "      <th></th>\n",
       "      <th></th>\n",
       "    </tr>\n",
       "  </thead>\n",
       "  <tbody>\n",
       "    <tr>\n",
       "      <th>1</th>\n",
       "      <td>0</td>\n",
       "      <td>3</td>\n",
       "      <td>Braund, Mr. Owen Harris</td>\n",
       "      <td>male</td>\n",
       "      <td>22.0</td>\n",
       "      <td>1</td>\n",
       "      <td>0</td>\n",
       "      <td>A/5 21171</td>\n",
       "      <td>7.2500</td>\n",
       "      <td>NaN</td>\n",
       "      <td>S</td>\n",
       "    </tr>\n",
       "    <tr>\n",
       "      <th>2</th>\n",
       "      <td>1</td>\n",
       "      <td>1</td>\n",
       "      <td>Cumings, Mrs. John Bradley (Florence Briggs Th...</td>\n",
       "      <td>female</td>\n",
       "      <td>38.0</td>\n",
       "      <td>1</td>\n",
       "      <td>0</td>\n",
       "      <td>PC 17599</td>\n",
       "      <td>71.2833</td>\n",
       "      <td>C85</td>\n",
       "      <td>C</td>\n",
       "    </tr>\n",
       "    <tr>\n",
       "      <th>3</th>\n",
       "      <td>1</td>\n",
       "      <td>3</td>\n",
       "      <td>Heikkinen, Miss. Laina</td>\n",
       "      <td>female</td>\n",
       "      <td>26.0</td>\n",
       "      <td>0</td>\n",
       "      <td>0</td>\n",
       "      <td>STON/O2. 3101282</td>\n",
       "      <td>7.9250</td>\n",
       "      <td>NaN</td>\n",
       "      <td>S</td>\n",
       "    </tr>\n",
       "    <tr>\n",
       "      <th>4</th>\n",
       "      <td>1</td>\n",
       "      <td>1</td>\n",
       "      <td>Futrelle, Mrs. Jacques Heath (Lily May Peel)</td>\n",
       "      <td>female</td>\n",
       "      <td>35.0</td>\n",
       "      <td>1</td>\n",
       "      <td>0</td>\n",
       "      <td>113803</td>\n",
       "      <td>53.1000</td>\n",
       "      <td>C123</td>\n",
       "      <td>S</td>\n",
       "    </tr>\n",
       "  </tbody>\n",
       "</table>\n",
       "</div>"
      ],
      "text/plain": [
       "             Survived  Pclass  \\\n",
       "PassengerId                     \n",
       "1                   0       3   \n",
       "2                   1       1   \n",
       "3                   1       3   \n",
       "4                   1       1   \n",
       "\n",
       "                                                          Name     Sex   Age  \\\n",
       "PassengerId                                                                    \n",
       "1                                      Braund, Mr. Owen Harris    male  22.0   \n",
       "2            Cumings, Mrs. John Bradley (Florence Briggs Th...  female  38.0   \n",
       "3                                       Heikkinen, Miss. Laina  female  26.0   \n",
       "4                 Futrelle, Mrs. Jacques Heath (Lily May Peel)  female  35.0   \n",
       "\n",
       "             SibSp  Parch            Ticket     Fare Cabin Embarked  \n",
       "PassengerId                                                          \n",
       "1                1      0         A/5 21171   7.2500   NaN        S  \n",
       "2                1      0          PC 17599  71.2833   C85        C  \n",
       "3                0      0  STON/O2. 3101282   7.9250   NaN        S  \n",
       "4                1      0            113803  53.1000  C123        S  "
      ]
     },
     "execution_count": 4,
     "metadata": {},
     "output_type": "execute_result"
    }
   ],
   "source": [
    "data=pd.read_csv(r'desktop\\titanic_dataset.csv',index_col='PassengerId')\n",
    "data.head(4)"
   ]
  },
  {
   "cell_type": "code",
   "execution_count": 5,
   "id": "521404ae",
   "metadata": {},
   "outputs": [],
   "source": [
    "#one hot encoding"
   ]
  },
  {
   "cell_type": "code",
   "execution_count": 6,
   "id": "4fa8d8ad",
   "metadata": {},
   "outputs": [],
   "source": [
    "data['Sex']=  pd.get_dummies(data['Sex'])"
   ]
  },
  {
   "cell_type": "code",
   "execution_count": 7,
   "id": "25446b54",
   "metadata": {},
   "outputs": [
    {
     "data": {
      "text/html": [
       "<div>\n",
       "<style scoped>\n",
       "    .dataframe tbody tr th:only-of-type {\n",
       "        vertical-align: middle;\n",
       "    }\n",
       "\n",
       "    .dataframe tbody tr th {\n",
       "        vertical-align: top;\n",
       "    }\n",
       "\n",
       "    .dataframe thead th {\n",
       "        text-align: right;\n",
       "    }\n",
       "</style>\n",
       "<table border=\"1\" class=\"dataframe\">\n",
       "  <thead>\n",
       "    <tr style=\"text-align: right;\">\n",
       "      <th></th>\n",
       "      <th>Survived</th>\n",
       "      <th>Pclass</th>\n",
       "      <th>Name</th>\n",
       "      <th>Sex</th>\n",
       "      <th>Age</th>\n",
       "      <th>SibSp</th>\n",
       "      <th>Parch</th>\n",
       "      <th>Ticket</th>\n",
       "      <th>Fare</th>\n",
       "      <th>Cabin</th>\n",
       "      <th>Embarked</th>\n",
       "    </tr>\n",
       "    <tr>\n",
       "      <th>PassengerId</th>\n",
       "      <th></th>\n",
       "      <th></th>\n",
       "      <th></th>\n",
       "      <th></th>\n",
       "      <th></th>\n",
       "      <th></th>\n",
       "      <th></th>\n",
       "      <th></th>\n",
       "      <th></th>\n",
       "      <th></th>\n",
       "      <th></th>\n",
       "    </tr>\n",
       "  </thead>\n",
       "  <tbody>\n",
       "    <tr>\n",
       "      <th>1</th>\n",
       "      <td>0</td>\n",
       "      <td>3</td>\n",
       "      <td>Braund, Mr. Owen Harris</td>\n",
       "      <td>0</td>\n",
       "      <td>22.0</td>\n",
       "      <td>1</td>\n",
       "      <td>0</td>\n",
       "      <td>A/5 21171</td>\n",
       "      <td>7.2500</td>\n",
       "      <td>NaN</td>\n",
       "      <td>S</td>\n",
       "    </tr>\n",
       "    <tr>\n",
       "      <th>2</th>\n",
       "      <td>1</td>\n",
       "      <td>1</td>\n",
       "      <td>Cumings, Mrs. John Bradley (Florence Briggs Th...</td>\n",
       "      <td>1</td>\n",
       "      <td>38.0</td>\n",
       "      <td>1</td>\n",
       "      <td>0</td>\n",
       "      <td>PC 17599</td>\n",
       "      <td>71.2833</td>\n",
       "      <td>C85</td>\n",
       "      <td>C</td>\n",
       "    </tr>\n",
       "    <tr>\n",
       "      <th>3</th>\n",
       "      <td>1</td>\n",
       "      <td>3</td>\n",
       "      <td>Heikkinen, Miss. Laina</td>\n",
       "      <td>1</td>\n",
       "      <td>26.0</td>\n",
       "      <td>0</td>\n",
       "      <td>0</td>\n",
       "      <td>STON/O2. 3101282</td>\n",
       "      <td>7.9250</td>\n",
       "      <td>NaN</td>\n",
       "      <td>S</td>\n",
       "    </tr>\n",
       "    <tr>\n",
       "      <th>4</th>\n",
       "      <td>1</td>\n",
       "      <td>1</td>\n",
       "      <td>Futrelle, Mrs. Jacques Heath (Lily May Peel)</td>\n",
       "      <td>1</td>\n",
       "      <td>35.0</td>\n",
       "      <td>1</td>\n",
       "      <td>0</td>\n",
       "      <td>113803</td>\n",
       "      <td>53.1000</td>\n",
       "      <td>C123</td>\n",
       "      <td>S</td>\n",
       "    </tr>\n",
       "  </tbody>\n",
       "</table>\n",
       "</div>"
      ],
      "text/plain": [
       "             Survived  Pclass  \\\n",
       "PassengerId                     \n",
       "1                   0       3   \n",
       "2                   1       1   \n",
       "3                   1       3   \n",
       "4                   1       1   \n",
       "\n",
       "                                                          Name  Sex   Age  \\\n",
       "PassengerId                                                                 \n",
       "1                                      Braund, Mr. Owen Harris    0  22.0   \n",
       "2            Cumings, Mrs. John Bradley (Florence Briggs Th...    1  38.0   \n",
       "3                                       Heikkinen, Miss. Laina    1  26.0   \n",
       "4                 Futrelle, Mrs. Jacques Heath (Lily May Peel)    1  35.0   \n",
       "\n",
       "             SibSp  Parch            Ticket     Fare Cabin Embarked  \n",
       "PassengerId                                                          \n",
       "1                1      0         A/5 21171   7.2500   NaN        S  \n",
       "2                1      0          PC 17599  71.2833   C85        C  \n",
       "3                0      0  STON/O2. 3101282   7.9250   NaN        S  \n",
       "4                1      0            113803  53.1000  C123        S  "
      ]
     },
     "execution_count": 7,
     "metadata": {},
     "output_type": "execute_result"
    }
   ],
   "source": [
    "data.head(4)"
   ]
  },
  {
   "cell_type": "markdown",
   "id": "73b991c1",
   "metadata": {},
   "source": [
    "# Check the basic details of the dataset"
   ]
  },
  {
   "cell_type": "code",
   "execution_count": 8,
   "id": "6cbb3236",
   "metadata": {},
   "outputs": [
    {
     "data": {
      "text/plain": [
       "(891, 11)"
      ]
     },
     "execution_count": 8,
     "metadata": {},
     "output_type": "execute_result"
    }
   ],
   "source": [
    "data.shape"
   ]
  },
  {
   "cell_type": "code",
   "execution_count": 9,
   "id": "d7f240f0",
   "metadata": {},
   "outputs": [],
   "source": [
    "#The dataset has 891 rows and 11 columns"
   ]
  },
  {
   "cell_type": "code",
   "execution_count": 10,
   "id": "573fb64a",
   "metadata": {},
   "outputs": [
    {
     "name": "stdout",
     "output_type": "stream",
     "text": [
      "<class 'pandas.core.frame.DataFrame'>\n",
      "Int64Index: 891 entries, 1 to 891\n",
      "Data columns (total 11 columns):\n",
      " #   Column    Non-Null Count  Dtype  \n",
      "---  ------    --------------  -----  \n",
      " 0   Survived  891 non-null    int64  \n",
      " 1   Pclass    891 non-null    int64  \n",
      " 2   Name      891 non-null    object \n",
      " 3   Sex       891 non-null    uint8  \n",
      " 4   Age       714 non-null    float64\n",
      " 5   SibSp     891 non-null    int64  \n",
      " 6   Parch     891 non-null    int64  \n",
      " 7   Ticket    891 non-null    object \n",
      " 8   Fare      891 non-null    float64\n",
      " 9   Cabin     204 non-null    object \n",
      " 10  Embarked  889 non-null    object \n",
      "dtypes: float64(2), int64(4), object(4), uint8(1)\n",
      "memory usage: 77.4+ KB\n"
     ]
    }
   ],
   "source": [
    "data.info()"
   ]
  },
  {
   "cell_type": "code",
   "execution_count": 11,
   "id": "9d0f429b",
   "metadata": {},
   "outputs": [
    {
     "data": {
      "text/html": [
       "<div>\n",
       "<style scoped>\n",
       "    .dataframe tbody tr th:only-of-type {\n",
       "        vertical-align: middle;\n",
       "    }\n",
       "\n",
       "    .dataframe tbody tr th {\n",
       "        vertical-align: top;\n",
       "    }\n",
       "\n",
       "    .dataframe thead th {\n",
       "        text-align: right;\n",
       "    }\n",
       "</style>\n",
       "<table border=\"1\" class=\"dataframe\">\n",
       "  <thead>\n",
       "    <tr style=\"text-align: right;\">\n",
       "      <th></th>\n",
       "      <th>Survived</th>\n",
       "      <th>Pclass</th>\n",
       "      <th>Name</th>\n",
       "      <th>Sex</th>\n",
       "      <th>Age</th>\n",
       "      <th>SibSp</th>\n",
       "      <th>Parch</th>\n",
       "      <th>Ticket</th>\n",
       "      <th>Fare</th>\n",
       "      <th>Cabin</th>\n",
       "      <th>Embarked</th>\n",
       "    </tr>\n",
       "  </thead>\n",
       "  <tbody>\n",
       "    <tr>\n",
       "      <th>count</th>\n",
       "      <td>891.000000</td>\n",
       "      <td>891.000000</td>\n",
       "      <td>891</td>\n",
       "      <td>891.000000</td>\n",
       "      <td>714.000000</td>\n",
       "      <td>891.000000</td>\n",
       "      <td>891.000000</td>\n",
       "      <td>891</td>\n",
       "      <td>891.000000</td>\n",
       "      <td>204</td>\n",
       "      <td>889</td>\n",
       "    </tr>\n",
       "    <tr>\n",
       "      <th>unique</th>\n",
       "      <td>NaN</td>\n",
       "      <td>NaN</td>\n",
       "      <td>891</td>\n",
       "      <td>NaN</td>\n",
       "      <td>NaN</td>\n",
       "      <td>NaN</td>\n",
       "      <td>NaN</td>\n",
       "      <td>681</td>\n",
       "      <td>NaN</td>\n",
       "      <td>147</td>\n",
       "      <td>3</td>\n",
       "    </tr>\n",
       "    <tr>\n",
       "      <th>top</th>\n",
       "      <td>NaN</td>\n",
       "      <td>NaN</td>\n",
       "      <td>Kelly, Miss. Mary</td>\n",
       "      <td>NaN</td>\n",
       "      <td>NaN</td>\n",
       "      <td>NaN</td>\n",
       "      <td>NaN</td>\n",
       "      <td>CA. 2343</td>\n",
       "      <td>NaN</td>\n",
       "      <td>G6</td>\n",
       "      <td>S</td>\n",
       "    </tr>\n",
       "    <tr>\n",
       "      <th>freq</th>\n",
       "      <td>NaN</td>\n",
       "      <td>NaN</td>\n",
       "      <td>1</td>\n",
       "      <td>NaN</td>\n",
       "      <td>NaN</td>\n",
       "      <td>NaN</td>\n",
       "      <td>NaN</td>\n",
       "      <td>7</td>\n",
       "      <td>NaN</td>\n",
       "      <td>4</td>\n",
       "      <td>644</td>\n",
       "    </tr>\n",
       "    <tr>\n",
       "      <th>mean</th>\n",
       "      <td>0.383838</td>\n",
       "      <td>2.308642</td>\n",
       "      <td>NaN</td>\n",
       "      <td>0.352413</td>\n",
       "      <td>29.699118</td>\n",
       "      <td>0.523008</td>\n",
       "      <td>0.381594</td>\n",
       "      <td>NaN</td>\n",
       "      <td>32.204208</td>\n",
       "      <td>NaN</td>\n",
       "      <td>NaN</td>\n",
       "    </tr>\n",
       "    <tr>\n",
       "      <th>std</th>\n",
       "      <td>0.486592</td>\n",
       "      <td>0.836071</td>\n",
       "      <td>NaN</td>\n",
       "      <td>0.477990</td>\n",
       "      <td>14.526497</td>\n",
       "      <td>1.102743</td>\n",
       "      <td>0.806057</td>\n",
       "      <td>NaN</td>\n",
       "      <td>49.693429</td>\n",
       "      <td>NaN</td>\n",
       "      <td>NaN</td>\n",
       "    </tr>\n",
       "    <tr>\n",
       "      <th>min</th>\n",
       "      <td>0.000000</td>\n",
       "      <td>1.000000</td>\n",
       "      <td>NaN</td>\n",
       "      <td>0.000000</td>\n",
       "      <td>0.420000</td>\n",
       "      <td>0.000000</td>\n",
       "      <td>0.000000</td>\n",
       "      <td>NaN</td>\n",
       "      <td>0.000000</td>\n",
       "      <td>NaN</td>\n",
       "      <td>NaN</td>\n",
       "    </tr>\n",
       "    <tr>\n",
       "      <th>25%</th>\n",
       "      <td>0.000000</td>\n",
       "      <td>2.000000</td>\n",
       "      <td>NaN</td>\n",
       "      <td>0.000000</td>\n",
       "      <td>20.125000</td>\n",
       "      <td>0.000000</td>\n",
       "      <td>0.000000</td>\n",
       "      <td>NaN</td>\n",
       "      <td>7.910400</td>\n",
       "      <td>NaN</td>\n",
       "      <td>NaN</td>\n",
       "    </tr>\n",
       "    <tr>\n",
       "      <th>50%</th>\n",
       "      <td>0.000000</td>\n",
       "      <td>3.000000</td>\n",
       "      <td>NaN</td>\n",
       "      <td>0.000000</td>\n",
       "      <td>28.000000</td>\n",
       "      <td>0.000000</td>\n",
       "      <td>0.000000</td>\n",
       "      <td>NaN</td>\n",
       "      <td>14.454200</td>\n",
       "      <td>NaN</td>\n",
       "      <td>NaN</td>\n",
       "    </tr>\n",
       "    <tr>\n",
       "      <th>75%</th>\n",
       "      <td>1.000000</td>\n",
       "      <td>3.000000</td>\n",
       "      <td>NaN</td>\n",
       "      <td>1.000000</td>\n",
       "      <td>38.000000</td>\n",
       "      <td>1.000000</td>\n",
       "      <td>0.000000</td>\n",
       "      <td>NaN</td>\n",
       "      <td>31.000000</td>\n",
       "      <td>NaN</td>\n",
       "      <td>NaN</td>\n",
       "    </tr>\n",
       "    <tr>\n",
       "      <th>max</th>\n",
       "      <td>1.000000</td>\n",
       "      <td>3.000000</td>\n",
       "      <td>NaN</td>\n",
       "      <td>1.000000</td>\n",
       "      <td>80.000000</td>\n",
       "      <td>8.000000</td>\n",
       "      <td>6.000000</td>\n",
       "      <td>NaN</td>\n",
       "      <td>512.329200</td>\n",
       "      <td>NaN</td>\n",
       "      <td>NaN</td>\n",
       "    </tr>\n",
       "  </tbody>\n",
       "</table>\n",
       "</div>"
      ],
      "text/plain": [
       "          Survived      Pclass               Name         Sex         Age  \\\n",
       "count   891.000000  891.000000                891  891.000000  714.000000   \n",
       "unique         NaN         NaN                891         NaN         NaN   \n",
       "top            NaN         NaN  Kelly, Miss. Mary         NaN         NaN   \n",
       "freq           NaN         NaN                  1         NaN         NaN   \n",
       "mean      0.383838    2.308642                NaN    0.352413   29.699118   \n",
       "std       0.486592    0.836071                NaN    0.477990   14.526497   \n",
       "min       0.000000    1.000000                NaN    0.000000    0.420000   \n",
       "25%       0.000000    2.000000                NaN    0.000000   20.125000   \n",
       "50%       0.000000    3.000000                NaN    0.000000   28.000000   \n",
       "75%       1.000000    3.000000                NaN    1.000000   38.000000   \n",
       "max       1.000000    3.000000                NaN    1.000000   80.000000   \n",
       "\n",
       "             SibSp       Parch    Ticket        Fare Cabin Embarked  \n",
       "count   891.000000  891.000000       891  891.000000   204      889  \n",
       "unique         NaN         NaN       681         NaN   147        3  \n",
       "top            NaN         NaN  CA. 2343         NaN    G6        S  \n",
       "freq           NaN         NaN         7         NaN     4      644  \n",
       "mean      0.523008    0.381594       NaN   32.204208   NaN      NaN  \n",
       "std       1.102743    0.806057       NaN   49.693429   NaN      NaN  \n",
       "min       0.000000    0.000000       NaN    0.000000   NaN      NaN  \n",
       "25%       0.000000    0.000000       NaN    7.910400   NaN      NaN  \n",
       "50%       0.000000    0.000000       NaN   14.454200   NaN      NaN  \n",
       "75%       1.000000    0.000000       NaN   31.000000   NaN      NaN  \n",
       "max       8.000000    6.000000       NaN  512.329200   NaN      NaN  "
      ]
     },
     "execution_count": 11,
     "metadata": {},
     "output_type": "execute_result"
    }
   ],
   "source": [
    "data.describe(include='all')"
   ]
  },
  {
   "cell_type": "code",
   "execution_count": 12,
   "id": "60c497cc",
   "metadata": {},
   "outputs": [
    {
     "data": {
      "text/plain": [
       "Survived      0\n",
       "Pclass        0\n",
       "Name          0\n",
       "Sex           0\n",
       "Age         177\n",
       "SibSp         0\n",
       "Parch         0\n",
       "Ticket        0\n",
       "Fare          0\n",
       "Cabin       687\n",
       "Embarked      2\n",
       "dtype: int64"
      ]
     },
     "execution_count": 12,
     "metadata": {},
     "output_type": "execute_result"
    }
   ],
   "source": [
    "data.isnull().sum()"
   ]
  },
  {
   "cell_type": "code",
   "execution_count": 13,
   "id": "2add3b69",
   "metadata": {},
   "outputs": [],
   "source": [
    "#age has 177 missing value and cabin has 687 missing value,embaraked are 2"
   ]
  },
  {
   "cell_type": "code",
   "execution_count": 14,
   "id": "9c71a803",
   "metadata": {},
   "outputs": [
    {
     "data": {
      "text/plain": [
       "<AxesSubplot:>"
      ]
     },
     "execution_count": 14,
     "metadata": {},
     "output_type": "execute_result"
    },
    {
     "data": {
      "image/png": "[encoded data removed]",
      "text/plain": [
       "<Figure size 576x432 with 2 Axes>"
      ]
     },
     "metadata": {
      "needs_background": "light"
     },
     "output_type": "display_data"
    }
   ],
   "source": [
    "corr=data.corr()\n",
    "plt.figure(figsize=(8,6))\n",
    "sns.heatmap(corr,vmin=-0.7,vmax=0.5,linewidth=0.02,cmap='Greens',annot=True)"
   ]
  },
  {
   "cell_type": "markdown",
   "id": "de8edef8",
   "metadata": {},
   "source": [
    "# Missing value"
   ]
  },
  {
   "cell_type": "code",
   "execution_count": 15,
   "id": "b3a74381",
   "metadata": {},
   "outputs": [
    {
     "data": {
      "text/plain": [
       "Index(['Survived', 'Pclass', 'Name', 'Sex', 'Age', 'SibSp', 'Parch', 'Ticket',\n",
       "       'Fare', 'Cabin', 'Embarked'],\n",
       "      dtype='object')"
      ]
     },
     "execution_count": 15,
     "metadata": {},
     "output_type": "execute_result"
    }
   ],
   "source": [
    "data.columns"
   ]
  },
  {
   "cell_type": "code",
   "execution_count": 16,
   "id": "bb417dd7",
   "metadata": {},
   "outputs": [],
   "source": [
    "# we can replace missing value in 'age' with it mean\n",
    "data['Age']=data['Age'].fillna(data['Age'].mean())"
   ]
  },
  {
   "cell_type": "code",
   "execution_count": 17,
   "id": "ca6a36ec",
   "metadata": {},
   "outputs": [
    {
     "data": {
      "text/plain": [
       "Survived      0\n",
       "Pclass        0\n",
       "Name          0\n",
       "Sex           0\n",
       "Age           0\n",
       "SibSp         0\n",
       "Parch         0\n",
       "Ticket        0\n",
       "Fare          0\n",
       "Cabin       687\n",
       "Embarked      2\n",
       "dtype: int64"
      ]
     },
     "execution_count": 17,
     "metadata": {},
     "output_type": "execute_result"
    }
   ],
   "source": [
    "data.isnull().sum()"
   ]
  },
  {
   "cell_type": "code",
   "execution_count": 18,
   "id": "04b018b2",
   "metadata": {},
   "outputs": [],
   "source": [
    "# we have check whether cabin value are missing at random\n"
   ]
  },
  {
   "cell_type": "code",
   "execution_count": 19,
   "id": "ef2021e4",
   "metadata": {},
   "outputs": [
    {
     "data": {
      "text/html": [
       "<div>\n",
       "<style scoped>\n",
       "    .dataframe tbody tr th:only-of-type {\n",
       "        vertical-align: middle;\n",
       "    }\n",
       "\n",
       "    .dataframe tbody tr th {\n",
       "        vertical-align: top;\n",
       "    }\n",
       "\n",
       "    .dataframe thead th {\n",
       "        text-align: right;\n",
       "    }\n",
       "</style>\n",
       "<table border=\"1\" class=\"dataframe\">\n",
       "  <thead>\n",
       "    <tr style=\"text-align: right;\">\n",
       "      <th></th>\n",
       "      <th>Survived</th>\n",
       "      <th>Pclass</th>\n",
       "      <th>Sex</th>\n",
       "      <th>Age</th>\n",
       "      <th>SibSp</th>\n",
       "      <th>Parch</th>\n",
       "      <th>Fare</th>\n",
       "    </tr>\n",
       "    <tr>\n",
       "      <th>Cabin</th>\n",
       "      <th></th>\n",
       "      <th></th>\n",
       "      <th></th>\n",
       "      <th></th>\n",
       "      <th></th>\n",
       "      <th></th>\n",
       "      <th></th>\n",
       "    </tr>\n",
       "  </thead>\n",
       "  <tbody>\n",
       "    <tr>\n",
       "      <th>False</th>\n",
       "      <td>0.666667</td>\n",
       "      <td>1.196078</td>\n",
       "      <td>0.475490</td>\n",
       "      <td>35.258349</td>\n",
       "      <td>0.441176</td>\n",
       "      <td>0.436275</td>\n",
       "      <td>76.141504</td>\n",
       "    </tr>\n",
       "    <tr>\n",
       "      <th>True</th>\n",
       "      <td>0.299854</td>\n",
       "      <td>2.639010</td>\n",
       "      <td>0.315866</td>\n",
       "      <td>28.048341</td>\n",
       "      <td>0.547307</td>\n",
       "      <td>0.365357</td>\n",
       "      <td>19.157325</td>\n",
       "    </tr>\n",
       "  </tbody>\n",
       "</table>\n",
       "</div>"
      ],
      "text/plain": [
       "       Survived    Pclass       Sex        Age     SibSp     Parch       Fare\n",
       "Cabin                                                                        \n",
       "False  0.666667  1.196078  0.475490  35.258349  0.441176  0.436275  76.141504\n",
       "True   0.299854  2.639010  0.315866  28.048341  0.547307  0.365357  19.157325"
      ]
     },
     "execution_count": 19,
     "metadata": {},
     "output_type": "execute_result"
    }
   ],
   "source": [
    "data.groupby(data['Cabin'].isnull()).mean()\n"
   ]
  },
  {
   "cell_type": "code",
   "execution_count": 20,
   "id": "00d88ee5",
   "metadata": {},
   "outputs": [],
   "source": [
    "# survived influance in cabin value"
   ]
  },
  {
   "cell_type": "code",
   "execution_count": 21,
   "id": "39eb2b64",
   "metadata": {},
   "outputs": [],
   "source": [
    "data['Cabin_ind']=np.where(data['Cabin'].isnull(), 0,1)"
   ]
  },
  {
   "cell_type": "code",
   "execution_count": 22,
   "id": "d1c4302f",
   "metadata": {},
   "outputs": [
    {
     "data": {
      "text/html": [
       "<div>\n",
       "<style scoped>\n",
       "    .dataframe tbody tr th:only-of-type {\n",
       "        vertical-align: middle;\n",
       "    }\n",
       "\n",
       "    .dataframe tbody tr th {\n",
       "        vertical-align: top;\n",
       "    }\n",
       "\n",
       "    .dataframe thead th {\n",
       "        text-align: right;\n",
       "    }\n",
       "</style>\n",
       "<table border=\"1\" class=\"dataframe\">\n",
       "  <thead>\n",
       "    <tr style=\"text-align: right;\">\n",
       "      <th></th>\n",
       "      <th>Survived</th>\n",
       "      <th>Pclass</th>\n",
       "      <th>Name</th>\n",
       "      <th>Sex</th>\n",
       "      <th>Age</th>\n",
       "      <th>SibSp</th>\n",
       "      <th>Parch</th>\n",
       "      <th>Ticket</th>\n",
       "      <th>Fare</th>\n",
       "      <th>Cabin</th>\n",
       "      <th>Embarked</th>\n",
       "      <th>Cabin_ind</th>\n",
       "    </tr>\n",
       "    <tr>\n",
       "      <th>PassengerId</th>\n",
       "      <th></th>\n",
       "      <th></th>\n",
       "      <th></th>\n",
       "      <th></th>\n",
       "      <th></th>\n",
       "      <th></th>\n",
       "      <th></th>\n",
       "      <th></th>\n",
       "      <th></th>\n",
       "      <th></th>\n",
       "      <th></th>\n",
       "      <th></th>\n",
       "    </tr>\n",
       "  </thead>\n",
       "  <tbody>\n",
       "    <tr>\n",
       "      <th>1</th>\n",
       "      <td>0</td>\n",
       "      <td>3</td>\n",
       "      <td>Braund, Mr. Owen Harris</td>\n",
       "      <td>0</td>\n",
       "      <td>22.0</td>\n",
       "      <td>1</td>\n",
       "      <td>0</td>\n",
       "      <td>A/5 21171</td>\n",
       "      <td>7.2500</td>\n",
       "      <td>NaN</td>\n",
       "      <td>S</td>\n",
       "      <td>0</td>\n",
       "    </tr>\n",
       "    <tr>\n",
       "      <th>2</th>\n",
       "      <td>1</td>\n",
       "      <td>1</td>\n",
       "      <td>Cumings, Mrs. John Bradley (Florence Briggs Th...</td>\n",
       "      <td>1</td>\n",
       "      <td>38.0</td>\n",
       "      <td>1</td>\n",
       "      <td>0</td>\n",
       "      <td>PC 17599</td>\n",
       "      <td>71.2833</td>\n",
       "      <td>C85</td>\n",
       "      <td>C</td>\n",
       "      <td>1</td>\n",
       "    </tr>\n",
       "    <tr>\n",
       "      <th>3</th>\n",
       "      <td>1</td>\n",
       "      <td>3</td>\n",
       "      <td>Heikkinen, Miss. Laina</td>\n",
       "      <td>1</td>\n",
       "      <td>26.0</td>\n",
       "      <td>0</td>\n",
       "      <td>0</td>\n",
       "      <td>STON/O2. 3101282</td>\n",
       "      <td>7.9250</td>\n",
       "      <td>NaN</td>\n",
       "      <td>S</td>\n",
       "      <td>0</td>\n",
       "    </tr>\n",
       "    <tr>\n",
       "      <th>4</th>\n",
       "      <td>1</td>\n",
       "      <td>1</td>\n",
       "      <td>Futrelle, Mrs. Jacques Heath (Lily May Peel)</td>\n",
       "      <td>1</td>\n",
       "      <td>35.0</td>\n",
       "      <td>1</td>\n",
       "      <td>0</td>\n",
       "      <td>113803</td>\n",
       "      <td>53.1000</td>\n",
       "      <td>C123</td>\n",
       "      <td>S</td>\n",
       "      <td>1</td>\n",
       "    </tr>\n",
       "  </tbody>\n",
       "</table>\n",
       "</div>"
      ],
      "text/plain": [
       "             Survived  Pclass  \\\n",
       "PassengerId                     \n",
       "1                   0       3   \n",
       "2                   1       1   \n",
       "3                   1       3   \n",
       "4                   1       1   \n",
       "\n",
       "                                                          Name  Sex   Age  \\\n",
       "PassengerId                                                                 \n",
       "1                                      Braund, Mr. Owen Harris    0  22.0   \n",
       "2            Cumings, Mrs. John Bradley (Florence Briggs Th...    1  38.0   \n",
       "3                                       Heikkinen, Miss. Laina    1  26.0   \n",
       "4                 Futrelle, Mrs. Jacques Heath (Lily May Peel)    1  35.0   \n",
       "\n",
       "             SibSp  Parch            Ticket     Fare Cabin Embarked  Cabin_ind  \n",
       "PassengerId                                                                     \n",
       "1                1      0         A/5 21171   7.2500   NaN        S          0  \n",
       "2                1      0          PC 17599  71.2833   C85        C          1  \n",
       "3                0      0  STON/O2. 3101282   7.9250   NaN        S          0  \n",
       "4                1      0            113803  53.1000  C123        S          1  "
      ]
     },
     "execution_count": 22,
     "metadata": {},
     "output_type": "execute_result"
    }
   ],
   "source": [
    "data.head(4)"
   ]
  },
  {
   "cell_type": "code",
   "execution_count": 23,
   "id": "30189ab6",
   "metadata": {},
   "outputs": [
    {
     "data": {
      "text/plain": [
       "Index(['Survived', 'Pclass', 'Name', 'Sex', 'Age', 'SibSp', 'Parch', 'Ticket',\n",
       "       'Fare', 'Cabin', 'Embarked', 'Cabin_ind'],\n",
       "      dtype='object')"
      ]
     },
     "execution_count": 23,
     "metadata": {},
     "output_type": "execute_result"
    }
   ],
   "source": [
    "data.columns"
   ]
  },
  {
   "cell_type": "code",
   "execution_count": 24,
   "id": "869460cf",
   "metadata": {},
   "outputs": [],
   "source": [
    "#catagarical variable: name,ticket,cabine,embracled can be dropit \n",
    "#they are unique values"
   ]
  },
  {
   "cell_type": "code",
   "execution_count": 25,
   "id": "d327deb7",
   "metadata": {},
   "outputs": [],
   "source": [
    "data.drop(['Name', 'Ticket', 'Cabin', 'Embarked'],axis=1,inplace=True)"
   ]
  },
  {
   "cell_type": "code",
   "execution_count": 26,
   "id": "1cb8f997",
   "metadata": {},
   "outputs": [
    {
     "data": {
      "text/html": [
       "<div>\n",
       "<style scoped>\n",
       "    .dataframe tbody tr th:only-of-type {\n",
       "        vertical-align: middle;\n",
       "    }\n",
       "\n",
       "    .dataframe tbody tr th {\n",
       "        vertical-align: top;\n",
       "    }\n",
       "\n",
       "    .dataframe thead th {\n",
       "        text-align: right;\n",
       "    }\n",
       "</style>\n",
       "<table border=\"1\" class=\"dataframe\">\n",
       "  <thead>\n",
       "    <tr style=\"text-align: right;\">\n",
       "      <th></th>\n",
       "      <th>Survived</th>\n",
       "      <th>Pclass</th>\n",
       "      <th>Sex</th>\n",
       "      <th>Age</th>\n",
       "      <th>SibSp</th>\n",
       "      <th>Parch</th>\n",
       "      <th>Fare</th>\n",
       "      <th>Cabin_ind</th>\n",
       "    </tr>\n",
       "    <tr>\n",
       "      <th>PassengerId</th>\n",
       "      <th></th>\n",
       "      <th></th>\n",
       "      <th></th>\n",
       "      <th></th>\n",
       "      <th></th>\n",
       "      <th></th>\n",
       "      <th></th>\n",
       "      <th></th>\n",
       "    </tr>\n",
       "  </thead>\n",
       "  <tbody>\n",
       "    <tr>\n",
       "      <th>1</th>\n",
       "      <td>0</td>\n",
       "      <td>3</td>\n",
       "      <td>0</td>\n",
       "      <td>22.000000</td>\n",
       "      <td>1</td>\n",
       "      <td>0</td>\n",
       "      <td>7.2500</td>\n",
       "      <td>0</td>\n",
       "    </tr>\n",
       "    <tr>\n",
       "      <th>2</th>\n",
       "      <td>1</td>\n",
       "      <td>1</td>\n",
       "      <td>1</td>\n",
       "      <td>38.000000</td>\n",
       "      <td>1</td>\n",
       "      <td>0</td>\n",
       "      <td>71.2833</td>\n",
       "      <td>1</td>\n",
       "    </tr>\n",
       "    <tr>\n",
       "      <th>3</th>\n",
       "      <td>1</td>\n",
       "      <td>3</td>\n",
       "      <td>1</td>\n",
       "      <td>26.000000</td>\n",
       "      <td>0</td>\n",
       "      <td>0</td>\n",
       "      <td>7.9250</td>\n",
       "      <td>0</td>\n",
       "    </tr>\n",
       "    <tr>\n",
       "      <th>4</th>\n",
       "      <td>1</td>\n",
       "      <td>1</td>\n",
       "      <td>1</td>\n",
       "      <td>35.000000</td>\n",
       "      <td>1</td>\n",
       "      <td>0</td>\n",
       "      <td>53.1000</td>\n",
       "      <td>1</td>\n",
       "    </tr>\n",
       "    <tr>\n",
       "      <th>5</th>\n",
       "      <td>0</td>\n",
       "      <td>3</td>\n",
       "      <td>0</td>\n",
       "      <td>35.000000</td>\n",
       "      <td>0</td>\n",
       "      <td>0</td>\n",
       "      <td>8.0500</td>\n",
       "      <td>0</td>\n",
       "    </tr>\n",
       "    <tr>\n",
       "      <th>6</th>\n",
       "      <td>0</td>\n",
       "      <td>3</td>\n",
       "      <td>0</td>\n",
       "      <td>29.699118</td>\n",
       "      <td>0</td>\n",
       "      <td>0</td>\n",
       "      <td>8.4583</td>\n",
       "      <td>0</td>\n",
       "    </tr>\n",
       "    <tr>\n",
       "      <th>7</th>\n",
       "      <td>0</td>\n",
       "      <td>1</td>\n",
       "      <td>0</td>\n",
       "      <td>54.000000</td>\n",
       "      <td>0</td>\n",
       "      <td>0</td>\n",
       "      <td>51.8625</td>\n",
       "      <td>1</td>\n",
       "    </tr>\n",
       "  </tbody>\n",
       "</table>\n",
       "</div>"
      ],
      "text/plain": [
       "             Survived  Pclass  Sex        Age  SibSp  Parch     Fare  \\\n",
       "PassengerId                                                            \n",
       "1                   0       3    0  22.000000      1      0   7.2500   \n",
       "2                   1       1    1  38.000000      1      0  71.2833   \n",
       "3                   1       3    1  26.000000      0      0   7.9250   \n",
       "4                   1       1    1  35.000000      1      0  53.1000   \n",
       "5                   0       3    0  35.000000      0      0   8.0500   \n",
       "6                   0       3    0  29.699118      0      0   8.4583   \n",
       "7                   0       1    0  54.000000      0      0  51.8625   \n",
       "\n",
       "             Cabin_ind  \n",
       "PassengerId             \n",
       "1                    0  \n",
       "2                    1  \n",
       "3                    0  \n",
       "4                    1  \n",
       "5                    0  \n",
       "6                    0  \n",
       "7                    1  "
      ]
     },
     "execution_count": 26,
     "metadata": {},
     "output_type": "execute_result"
    }
   ],
   "source": [
    "data.head(7)"
   ]
  },
  {
   "cell_type": "code",
   "execution_count": 27,
   "id": "d8e7b7e6",
   "metadata": {},
   "outputs": [
    {
     "data": {
      "text/plain": [
       "(891, 8)"
      ]
     },
     "execution_count": 27,
     "metadata": {},
     "output_type": "execute_result"
    }
   ],
   "source": [
    "data.shape"
   ]
  },
  {
   "cell_type": "code",
   "execution_count": 28,
   "id": "1c5d75e1",
   "metadata": {},
   "outputs": [
    {
     "data": {
      "text/plain": [
       "Survived     0\n",
       "Pclass       0\n",
       "Sex          0\n",
       "Age          0\n",
       "SibSp        0\n",
       "Parch        0\n",
       "Fare         0\n",
       "Cabin_ind    0\n",
       "dtype: int64"
      ]
     },
     "execution_count": 28,
     "metadata": {},
     "output_type": "execute_result"
    }
   ],
   "source": [
    "data.isnull().sum()"
   ]
  },
  {
   "cell_type": "code",
   "execution_count": 29,
   "id": "7215706b",
   "metadata": {},
   "outputs": [],
   "source": [
    "# no more missing value in the data set we can next to check for outlier"
   ]
  },
  {
   "cell_type": "markdown",
   "id": "6632b8f8",
   "metadata": {},
   "source": [
    "# outlier"
   ]
  },
  {
   "cell_type": "raw",
   "id": "7fab8867",
   "metadata": {},
   "source": [
    "Check and handle outliers in at least 3 columns in the dataset"
   ]
  },
  {
   "cell_type": "code",
   "execution_count": 30,
   "id": "0f69ada5",
   "metadata": {},
   "outputs": [
    {
     "data": {
      "text/html": [
       "<div>\n",
       "<style scoped>\n",
       "    .dataframe tbody tr th:only-of-type {\n",
       "        vertical-align: middle;\n",
       "    }\n",
       "\n",
       "    .dataframe tbody tr th {\n",
       "        vertical-align: top;\n",
       "    }\n",
       "\n",
       "    .dataframe thead th {\n",
       "        text-align: right;\n",
       "    }\n",
       "</style>\n",
       "<table border=\"1\" class=\"dataframe\">\n",
       "  <thead>\n",
       "    <tr style=\"text-align: right;\">\n",
       "      <th></th>\n",
       "      <th>Survived</th>\n",
       "      <th>Pclass</th>\n",
       "      <th>Sex</th>\n",
       "      <th>Age</th>\n",
       "      <th>SibSp</th>\n",
       "      <th>Parch</th>\n",
       "      <th>Fare</th>\n",
       "      <th>Cabin_ind</th>\n",
       "    </tr>\n",
       "    <tr>\n",
       "      <th>PassengerId</th>\n",
       "      <th></th>\n",
       "      <th></th>\n",
       "      <th></th>\n",
       "      <th></th>\n",
       "      <th></th>\n",
       "      <th></th>\n",
       "      <th></th>\n",
       "      <th></th>\n",
       "    </tr>\n",
       "  </thead>\n",
       "  <tbody>\n",
       "    <tr>\n",
       "      <th>1</th>\n",
       "      <td>0</td>\n",
       "      <td>3</td>\n",
       "      <td>0</td>\n",
       "      <td>22.0</td>\n",
       "      <td>1</td>\n",
       "      <td>0</td>\n",
       "      <td>7.2500</td>\n",
       "      <td>0</td>\n",
       "    </tr>\n",
       "    <tr>\n",
       "      <th>2</th>\n",
       "      <td>1</td>\n",
       "      <td>1</td>\n",
       "      <td>1</td>\n",
       "      <td>38.0</td>\n",
       "      <td>1</td>\n",
       "      <td>0</td>\n",
       "      <td>71.2833</td>\n",
       "      <td>1</td>\n",
       "    </tr>\n",
       "  </tbody>\n",
       "</table>\n",
       "</div>"
      ],
      "text/plain": [
       "             Survived  Pclass  Sex   Age  SibSp  Parch     Fare  Cabin_ind\n",
       "PassengerId                                                               \n",
       "1                   0       3    0  22.0      1      0   7.2500          0\n",
       "2                   1       1    1  38.0      1      0  71.2833          1"
      ]
     },
     "execution_count": 30,
     "metadata": {},
     "output_type": "execute_result"
    }
   ],
   "source": [
    "data.head(2)"
   ]
  },
  {
   "cell_type": "code",
   "execution_count": 31,
   "id": "ef86f7d7",
   "metadata": {},
   "outputs": [
    {
     "data": {
      "text/plain": [
       "Text(0.5, 1.0, 'box plot of age')"
      ]
     },
     "execution_count": 31,
     "metadata": {},
     "output_type": "execute_result"
    },
    {
     "data": {
      "image/png": "[encoded data removed]",
      "text/plain": [
       "<Figure size 432x288 with 1 Axes>"
      ]
     },
     "metadata": {
      "needs_background": "light"
     },
     "output_type": "display_data"
    }
   ],
   "source": [
    "plt.boxplot(data['Age'])\n",
    "plt.title('box plot of age')"
   ]
  },
  {
   "cell_type": "code",
   "execution_count": 32,
   "id": "5d8557c3",
   "metadata": {},
   "outputs": [],
   "source": [
    "#here we can seen in outlier in this column(age)\n",
    "# in outlier aviod use by inter quartile range"
   ]
  },
  {
   "cell_type": "code",
   "execution_count": 33,
   "id": "20ea4d89",
   "metadata": {},
   "outputs": [],
   "source": [
    "Q1 =np.percentile(data['Age'], 25, interpolation='midpoint')\n",
    "Q2 =np.percentile(data['Age'], 50, interpolation='midpoint')\n",
    "Q3 =np.percentile(data['Age'], 75, interpolation='midpoint')"
   ]
  },
  {
   "cell_type": "code",
   "execution_count": 34,
   "id": "e80f6b27",
   "metadata": {},
   "outputs": [
    {
     "name": "stdout",
     "output_type": "stream",
     "text": [
      "22.0\n",
      "29.69911764705882\n",
      "35.0\n"
     ]
    }
   ],
   "source": [
    "print(Q1)\n",
    "print(Q2)\n",
    "print(Q3)"
   ]
  },
  {
   "cell_type": "code",
   "execution_count": 35,
   "id": "74b5de28",
   "metadata": {},
   "outputs": [],
   "source": [
    "#we can find out inter quartile range that is IQR "
   ]
  },
  {
   "cell_type": "code",
   "execution_count": 36,
   "id": "82354ba5",
   "metadata": {},
   "outputs": [
    {
     "data": {
      "text/plain": [
       "13.0"
      ]
     },
     "execution_count": 36,
     "metadata": {},
     "output_type": "execute_result"
    }
   ],
   "source": [
    "IQR=Q3-Q1\n",
    "IQR"
   ]
  },
  {
   "cell_type": "code",
   "execution_count": 37,
   "id": "c644f586",
   "metadata": {},
   "outputs": [],
   "source": [
    "#we can find out inter quartile range that is IQR "
   ]
  },
  {
   "cell_type": "code",
   "execution_count": 38,
   "id": "779b6ba5",
   "metadata": {},
   "outputs": [],
   "source": [
    "low_lim=Q1-1.5*IQR\n",
    "upp_lim=Q3+1.5*IQR"
   ]
  },
  {
   "cell_type": "code",
   "execution_count": 39,
   "id": "12b683a8",
   "metadata": {},
   "outputs": [
    {
     "name": "stdout",
     "output_type": "stream",
     "text": [
      "2.5\n",
      "54.5\n"
     ]
    }
   ],
   "source": [
    "print(low_lim)\n",
    "print(upp_lim)"
   ]
  },
  {
   "cell_type": "code",
   "execution_count": 40,
   "id": "dee10d05",
   "metadata": {},
   "outputs": [],
   "source": [
    "#here outliyer was lees than2.5 and greater than 54.5\n"
   ]
  },
  {
   "cell_type": "code",
   "execution_count": 41,
   "id": "41ef8a08",
   "metadata": {},
   "outputs": [],
   "source": [
    "outlier_1=data['Age']<low_lim"
   ]
  },
  {
   "cell_type": "code",
   "execution_count": 42,
   "id": "cb434899",
   "metadata": {},
   "outputs": [],
   "source": [
    "outlier_2=data['Age']>upp_lim"
   ]
  },
  {
   "cell_type": "code",
   "execution_count": 43,
   "id": "42ea5c57",
   "metadata": {},
   "outputs": [],
   "source": [
    "#index of outliyer1"
   ]
  },
  {
   "cell_type": "code",
   "execution_count": 44,
   "id": "5d8ead5e",
   "metadata": {},
   "outputs": [
    {
     "data": {
      "text/plain": [
       "Int64Index([  8,  17,  79, 120, 165, 173, 184, 206, 298, 306, 341, 382, 387,\n",
       "            470, 480, 531, 643, 645, 756, 789, 804, 825, 828, 832],\n",
       "           dtype='int64', name='PassengerId')"
      ]
     },
     "execution_count": 44,
     "metadata": {},
     "output_type": "execute_result"
    }
   ],
   "source": [
    "data.loc[outlier_1].index"
   ]
  },
  {
   "cell_type": "code",
   "execution_count": 45,
   "id": "d5d04a49",
   "metadata": {},
   "outputs": [],
   "source": [
    "#index of outlier2"
   ]
  },
  {
   "cell_type": "code",
   "execution_count": 46,
   "id": "1fe59cdd",
   "metadata": {},
   "outputs": [
    {
     "data": {
      "text/plain": [
       "Int64Index([ 12,  16,  34,  55,  95,  97, 117, 153, 171, 175, 196, 233, 253,\n",
       "            269, 276, 281, 327, 367, 439, 457, 468, 484, 488, 493, 494, 546,\n",
       "            556, 571, 588, 626, 627, 631, 648, 660, 673, 685, 695, 746, 773,\n",
       "            830, 852, 880],\n",
       "           dtype='int64', name='PassengerId')"
      ]
     },
     "execution_count": 46,
     "metadata": {},
     "output_type": "execute_result"
    }
   ],
   "source": [
    "data.loc[outlier_2].index"
   ]
  },
  {
   "cell_type": "code",
   "execution_count": 47,
   "id": "da16b0db",
   "metadata": {},
   "outputs": [],
   "source": [
    "#we now drop the outlier"
   ]
  },
  {
   "cell_type": "code",
   "execution_count": 48,
   "id": "9d2f9225",
   "metadata": {},
   "outputs": [],
   "source": [
    "data.drop([ 8,  17,  79, 120, 165, 173, 184, 206, 298, 306, 341, 382, 387,\n",
    "            470, 480, 531, 643, 645, 756, 789, 804, 825, 828, 832,\n",
    "         12,  16,  34,  55,  95,  97, 117, 153, 171, 175, 196, 233, 253,\n",
    "            269, 276, 281, 327, 367, 439, 457, 468, 484, 488, 493, 494, 546,\n",
    "            556, 571, 588, 626, 627, 631, 648, 660, 673, 685, 695, 746, 773,\n",
    "            830, 852, 880],inplace=True)"
   ]
  },
  {
   "cell_type": "code",
   "execution_count": 49,
   "id": "3854a1bb",
   "metadata": {},
   "outputs": [
    {
     "data": {
      "text/plain": [
       "(825, 8)"
      ]
     },
     "execution_count": 49,
     "metadata": {},
     "output_type": "execute_result"
    }
   ],
   "source": [
    "data.shape"
   ]
  },
  {
   "cell_type": "code",
   "execution_count": 50,
   "id": "3d5e2841",
   "metadata": {},
   "outputs": [],
   "source": [
    "#the number of row drop 891 to 825"
   ]
  },
  {
   "cell_type": "markdown",
   "id": "442f5796",
   "metadata": {},
   "source": [
    "Outlier:Fare"
   ]
  },
  {
   "cell_type": "code",
   "execution_count": 51,
   "id": "c7cfe276",
   "metadata": {},
   "outputs": [
    {
     "data": {
      "text/plain": [
       "Text(0.5, 1.0, 'box plot of Fare')"
      ]
     },
     "execution_count": 51,
     "metadata": {},
     "output_type": "execute_result"
    },
    {
     "data": {
      "image/png": "[encoded data removed]",
      "text/plain": [
       "<Figure size 432x288 with 1 Axes>"
      ]
     },
     "metadata": {
      "needs_background": "light"
     },
     "output_type": "display_data"
    }
   ],
   "source": [
    "plt.boxplot(data['Fare'])\n",
    "plt.title('box plot of Fare')"
   ]
  },
  {
   "cell_type": "code",
   "execution_count": 52,
   "id": "b6097ef0",
   "metadata": {},
   "outputs": [
    {
     "data": {
      "text/plain": [
       "22.174999999999997"
      ]
     },
     "execution_count": 52,
     "metadata": {},
     "output_type": "execute_result"
    }
   ],
   "source": [
    "Q1 =np.percentile(data['Fare'], 25, interpolation='midpoint')\n",
    "Q2 =np.percentile(data['Fare'], 50, interpolation='midpoint')\n",
    "Q3 =np.percentile(data['Fare'], 75, interpolation='midpoint')\n",
    "IQR=Q3-Q1\n",
    "IQR"
   ]
  },
  {
   "cell_type": "code",
   "execution_count": 53,
   "id": "9f2f7747",
   "metadata": {},
   "outputs": [
    {
     "name": "stdout",
     "output_type": "stream",
     "text": [
      "-25.366699999999994\n",
      "63.333299999999994\n"
     ]
    }
   ],
   "source": [
    "low_lim=Q1-1.5*IQR\n",
    "upp_lim=Q3+1.5*IQR\n",
    "print(low_lim)\n",
    "print(upp_lim)"
   ]
  },
  {
   "cell_type": "code",
   "execution_count": 54,
   "id": "f4f68738",
   "metadata": {},
   "outputs": [],
   "source": [
    "#here negative not taken"
   ]
  },
  {
   "cell_type": "code",
   "execution_count": 55,
   "id": "7d0091d8",
   "metadata": {},
   "outputs": [],
   "source": [
    "outlier_2=data['Fare']>upp_lim\n",
    "index=data.loc[outlier_2].index"
   ]
  },
  {
   "cell_type": "code",
   "execution_count": 56,
   "id": "a3275a79",
   "metadata": {},
   "outputs": [
    {
     "data": {
      "text/plain": [
       "Int64Index([  2,  28,  32,  35,  53,  62,  63,  73,  89,  98,\n",
       "            ...\n",
       "            780, 790, 793, 803, 821, 836, 847, 850, 857, 864],\n",
       "           dtype='int64', name='PassengerId', length=107)"
      ]
     },
     "execution_count": 56,
     "metadata": {},
     "output_type": "execute_result"
    }
   ],
   "source": [
    "index"
   ]
  },
  {
   "cell_type": "code",
   "execution_count": 57,
   "id": "3b442f2c",
   "metadata": {},
   "outputs": [
    {
     "data": {
      "text/plain": [
       "107"
      ]
     },
     "execution_count": 57,
     "metadata": {},
     "output_type": "execute_result"
    }
   ],
   "source": [
    "len(index)"
   ]
  },
  {
   "cell_type": "code",
   "execution_count": 58,
   "id": "4faf174e",
   "metadata": {},
   "outputs": [],
   "source": [
    "data.drop(index,inplace=True)"
   ]
  },
  {
   "cell_type": "code",
   "execution_count": 59,
   "id": "18e66634",
   "metadata": {},
   "outputs": [
    {
     "data": {
      "text/plain": [
       "(718, 8)"
      ]
     },
     "execution_count": 59,
     "metadata": {},
     "output_type": "execute_result"
    }
   ],
   "source": [
    "data.shape"
   ]
  },
  {
   "cell_type": "code",
   "execution_count": 60,
   "id": "2597b288",
   "metadata": {},
   "outputs": [],
   "source": [
    "#the number of row drop 825 to 718"
   ]
  },
  {
   "cell_type": "markdown",
   "id": "ffc9b496",
   "metadata": {},
   "source": [
    "Outlier:pclass"
   ]
  },
  {
   "cell_type": "code",
   "execution_count": 61,
   "id": "07cad590",
   "metadata": {},
   "outputs": [
    {
     "data": {
      "text/html": [
       "<div>\n",
       "<style scoped>\n",
       "    .dataframe tbody tr th:only-of-type {\n",
       "        vertical-align: middle;\n",
       "    }\n",
       "\n",
       "    .dataframe tbody tr th {\n",
       "        vertical-align: top;\n",
       "    }\n",
       "\n",
       "    .dataframe thead th {\n",
       "        text-align: right;\n",
       "    }\n",
       "</style>\n",
       "<table border=\"1\" class=\"dataframe\">\n",
       "  <thead>\n",
       "    <tr style=\"text-align: right;\">\n",
       "      <th></th>\n",
       "      <th>Survived</th>\n",
       "      <th>Pclass</th>\n",
       "      <th>Sex</th>\n",
       "      <th>Age</th>\n",
       "      <th>SibSp</th>\n",
       "      <th>Parch</th>\n",
       "      <th>Fare</th>\n",
       "      <th>Cabin_ind</th>\n",
       "    </tr>\n",
       "    <tr>\n",
       "      <th>PassengerId</th>\n",
       "      <th></th>\n",
       "      <th></th>\n",
       "      <th></th>\n",
       "      <th></th>\n",
       "      <th></th>\n",
       "      <th></th>\n",
       "      <th></th>\n",
       "      <th></th>\n",
       "    </tr>\n",
       "  </thead>\n",
       "  <tbody>\n",
       "    <tr>\n",
       "      <th>1</th>\n",
       "      <td>0</td>\n",
       "      <td>3</td>\n",
       "      <td>0</td>\n",
       "      <td>22.000000</td>\n",
       "      <td>1</td>\n",
       "      <td>0</td>\n",
       "      <td>7.2500</td>\n",
       "      <td>0</td>\n",
       "    </tr>\n",
       "    <tr>\n",
       "      <th>3</th>\n",
       "      <td>1</td>\n",
       "      <td>3</td>\n",
       "      <td>1</td>\n",
       "      <td>26.000000</td>\n",
       "      <td>0</td>\n",
       "      <td>0</td>\n",
       "      <td>7.9250</td>\n",
       "      <td>0</td>\n",
       "    </tr>\n",
       "    <tr>\n",
       "      <th>4</th>\n",
       "      <td>1</td>\n",
       "      <td>1</td>\n",
       "      <td>1</td>\n",
       "      <td>35.000000</td>\n",
       "      <td>1</td>\n",
       "      <td>0</td>\n",
       "      <td>53.1000</td>\n",
       "      <td>1</td>\n",
       "    </tr>\n",
       "    <tr>\n",
       "      <th>5</th>\n",
       "      <td>0</td>\n",
       "      <td>3</td>\n",
       "      <td>0</td>\n",
       "      <td>35.000000</td>\n",
       "      <td>0</td>\n",
       "      <td>0</td>\n",
       "      <td>8.0500</td>\n",
       "      <td>0</td>\n",
       "    </tr>\n",
       "    <tr>\n",
       "      <th>6</th>\n",
       "      <td>0</td>\n",
       "      <td>3</td>\n",
       "      <td>0</td>\n",
       "      <td>29.699118</td>\n",
       "      <td>0</td>\n",
       "      <td>0</td>\n",
       "      <td>8.4583</td>\n",
       "      <td>0</td>\n",
       "    </tr>\n",
       "  </tbody>\n",
       "</table>\n",
       "</div>"
      ],
      "text/plain": [
       "             Survived  Pclass  Sex        Age  SibSp  Parch     Fare  \\\n",
       "PassengerId                                                            \n",
       "1                   0       3    0  22.000000      1      0   7.2500   \n",
       "3                   1       3    1  26.000000      0      0   7.9250   \n",
       "4                   1       1    1  35.000000      1      0  53.1000   \n",
       "5                   0       3    0  35.000000      0      0   8.0500   \n",
       "6                   0       3    0  29.699118      0      0   8.4583   \n",
       "\n",
       "             Cabin_ind  \n",
       "PassengerId             \n",
       "1                    0  \n",
       "3                    0  \n",
       "4                    1  \n",
       "5                    0  \n",
       "6                    0  "
      ]
     },
     "execution_count": 61,
     "metadata": {},
     "output_type": "execute_result"
    }
   ],
   "source": [
    "data.head()"
   ]
  },
  {
   "cell_type": "code",
   "execution_count": 63,
   "id": "9ce4597a",
   "metadata": {},
   "outputs": [
    {
     "data": {
      "text/plain": [
       "Text(0.5, 1.0, 'box plot of pclass')"
      ]
     },
     "execution_count": 63,
     "metadata": {},
     "output_type": "execute_result"
    },
    {
     "data": {
      "image/png": "[encoded data removed]",
      "text/plain": [
       "<Figure size 432x288 with 1 Axes>"
      ]
     },
     "metadata": {
      "needs_background": "light"
     },
     "output_type": "display_data"
    }
   ],
   "source": [
    "plt.boxplot(data['Pclass'])\n",
    "plt.title('box plot of pclass')"
   ]
  },
  {
   "cell_type": "code",
   "execution_count": 71,
   "id": "e489ab90",
   "metadata": {},
   "outputs": [],
   "source": [
    "#no outlier"
   ]
  },
  {
   "cell_type": "markdown",
   "id": "7eadb72f",
   "metadata": {},
   "source": [
    "outlier:SibSp"
   ]
  },
  {
   "cell_type": "code",
   "execution_count": 64,
   "id": "b47ca859",
   "metadata": {},
   "outputs": [
    {
     "data": {
      "text/plain": [
       "Text(0.5, 1.0, 'box plot of SibSp')"
      ]
     },
     "execution_count": 64,
     "metadata": {},
     "output_type": "execute_result"
    },
    {
     "data": {
      "image/png": "[encoded data removed]",
      "text/plain": [
       "<Figure size 432x288 with 1 Axes>"
      ]
     },
     "metadata": {
      "needs_background": "light"
     },
     "output_type": "display_data"
    }
   ],
   "source": [
    "plt.boxplot(data['SibSp'])\n",
    "plt.title('box plot of SibSp')"
   ]
  },
  {
   "cell_type": "code",
   "execution_count": 65,
   "id": "2385f745",
   "metadata": {},
   "outputs": [
    {
     "data": {
      "text/plain": [
       "1.0"
      ]
     },
     "execution_count": 65,
     "metadata": {},
     "output_type": "execute_result"
    }
   ],
   "source": [
    "Q1 =np.percentile(data['SibSp'], 25, interpolation='midpoint')\n",
    "Q2 =np.percentile(data['SibSp'], 50, interpolation='midpoint')\n",
    "Q3 =np.percentile(data['SibSp'], 75, interpolation='midpoint')\n",
    "IQR=Q3-Q1\n",
    "IQR"
   ]
  },
  {
   "cell_type": "code",
   "execution_count": 66,
   "id": "cfabd700",
   "metadata": {},
   "outputs": [
    {
     "name": "stdout",
     "output_type": "stream",
     "text": [
      "-1.5\n",
      "2.5\n"
     ]
    }
   ],
   "source": [
    "low_lim=Q1-1.5*IQR\n",
    "upp_lim=Q3+1.5*IQR\n",
    "print(low_lim)\n",
    "print(upp_lim)"
   ]
  },
  {
   "cell_type": "code",
   "execution_count": 67,
   "id": "c918b1e5",
   "metadata": {},
   "outputs": [],
   "source": [
    "outlier_2=data['SibSp']>upp_lim\n",
    "index=data.loc[outlier_2].index"
   ]
  },
  {
   "cell_type": "code",
   "execution_count": 68,
   "id": "d4284547",
   "metadata": {},
   "outputs": [
    {
     "data": {
      "text/plain": [
       "Int64Index([ 25,  51,  60,  64,  69,  72,  86, 172, 177, 183, 230, 234, 262,\n",
       "            267, 279, 375, 410, 481, 486, 542, 543, 635, 684, 687, 727, 788,\n",
       "            814, 820, 851],\n",
       "           dtype='int64', name='PassengerId')"
      ]
     },
     "execution_count": 68,
     "metadata": {},
     "output_type": "execute_result"
    }
   ],
   "source": [
    "index"
   ]
  },
  {
   "cell_type": "code",
   "execution_count": 69,
   "id": "04a68d27",
   "metadata": {},
   "outputs": [],
   "source": [
    "data.drop([25,  51,  60,  64,  69,  72,  86, 172, 177, 183, 230, 234, 262,\n",
    "            267, 279, 375, 410, 481, 486, 542, 543, 635, 684, 687, 727, 788,\n",
    "            814, 820, 851],inplace=True)"
   ]
  },
  {
   "cell_type": "code",
   "execution_count": 70,
   "id": "7473756b",
   "metadata": {},
   "outputs": [
    {
     "data": {
      "text/plain": [
       "(689, 8)"
      ]
     },
     "execution_count": 70,
     "metadata": {},
     "output_type": "execute_result"
    }
   ],
   "source": [
    "data.shape"
   ]
  },
  {
   "cell_type": "code",
   "execution_count": 72,
   "id": "d1499077",
   "metadata": {},
   "outputs": [],
   "source": [
    "#the number of row drop 718 to 689"
   ]
  },
  {
   "cell_type": "markdown",
   "id": "fc316b97",
   "metadata": {},
   "source": [
    "Linear Regression"
   ]
  },
  {
   "cell_type": "code",
   "execution_count": 74,
   "id": "043d0c76",
   "metadata": {},
   "outputs": [],
   "source": [
    "y=data['Survived']\n",
    "x=data.drop(['Survived'],axis=1)"
   ]
  },
  {
   "cell_type": "code",
   "execution_count": 75,
   "id": "98567a53",
   "metadata": {},
   "outputs": [],
   "source": [
    "from sklearn.model_selection import train_test_split"
   ]
  },
  {
   "cell_type": "code",
   "execution_count": 76,
   "id": "7925cf15",
   "metadata": {},
   "outputs": [],
   "source": [
    "x_train,x_test,y_train,y_test=train_test_split(x,y,random_state=42,test_size=0.2)"
   ]
  },
  {
   "cell_type": "code",
   "execution_count": 77,
   "id": "312285ee",
   "metadata": {},
   "outputs": [
    {
     "data": {
      "text/plain": [
       "(551, 7)"
      ]
     },
     "execution_count": 77,
     "metadata": {},
     "output_type": "execute_result"
    }
   ],
   "source": [
    "x_train.shape"
   ]
  },
  {
   "cell_type": "code",
   "execution_count": 78,
   "id": "b2692422",
   "metadata": {},
   "outputs": [
    {
     "data": {
      "text/plain": [
       "(138, 7)"
      ]
     },
     "execution_count": 78,
     "metadata": {},
     "output_type": "execute_result"
    }
   ],
   "source": [
    "x_test.shape"
   ]
  },
  {
   "cell_type": "code",
   "execution_count": 79,
   "id": "2a7ade70",
   "metadata": {},
   "outputs": [],
   "source": [
    "from sklearn import linear_model"
   ]
  },
  {
   "cell_type": "code",
   "execution_count": 80,
   "id": "79e3f0c8",
   "metadata": {},
   "outputs": [],
   "source": [
    "Ir=linear_model.LinearRegression()\n",
    "ajay=Ir.fit(x_train,y_train)\n"
   ]
  },
  {
   "cell_type": "code",
   "execution_count": 81,
   "id": "3cc50608",
   "metadata": {},
   "outputs": [
    {
     "data": {
      "text/plain": [
       "array([ 0.08950179,  0.67845601,  0.88532625,  0.59721109,  0.10537543,\n",
       "        0.13046942,  0.13108411,  0.16625603,  0.63883242,  0.15009179,\n",
       "        0.31659473,  0.19185723,  1.0580776 ,  0.11720283,  0.18241242,\n",
       "        0.76638823,  0.21210094,  0.68873349,  0.4601881 ,  0.73414327,\n",
       "        0.38273085,  0.54565688,  0.68076031,  0.63571872,  0.16987609,\n",
       "        0.21114725,  0.2298765 ,  0.32668508,  0.84505212,  0.17268821,\n",
       "        0.16607177,  0.77938431,  0.19185723,  0.70445804,  0.75666344,\n",
       "        0.72824752,  0.57386953,  0.63769352,  0.7707409 ,  0.35452871,\n",
       "        0.34433972,  0.66800979,  0.31741512,  0.10537543,  0.15180422,\n",
       "        0.16963491,  0.64907682,  0.04077544,  0.08610175,  0.20749274,\n",
       "        0.10012741,  0.10612842,  0.13762538, -0.23282408,  0.80080943,\n",
       "        0.69588572,  0.43159453,  0.29383277,  0.1975168 ,  0.01354221,\n",
       "        0.77237519,  0.10832635,  0.10209974,  0.03449871,  0.71552712,\n",
       "        0.10537543,  0.52882394,  0.2579203 ,  0.84472185,  0.10030906,\n",
       "        0.4640947 ,  1.05812641,  0.06471247,  0.04759375,  0.69591919,\n",
       "        0.21273996,  0.11014035,  0.36768273,  0.27007216,  0.89642543,\n",
       "        1.14880445,  0.06847648,  0.17985099,  0.1640136 ,  0.32071878,\n",
       "        0.10454137,  0.11807563,  0.47871494,  0.56195281,  0.49032015,\n",
       "        0.13493195,  0.68037457,  0.1104672 ,  0.18632358,  0.03193142,\n",
       "        0.78935912,  0.15581467,  0.00572901,  0.0665609 ,  0.2965324 ,\n",
       "        0.16572604,  0.59402888,  0.69082378,  0.40662506,  0.10612842,\n",
       "        0.09573021,  0.83831359, -0.0885682 ,  0.11883536,  0.75574582,\n",
       "        0.6946638 ,  0.43536599,  0.51963213,  0.78286962,  0.06860083,\n",
       "        0.62678548,  0.84248111,  0.57128501,  0.15392697,  0.70860394,\n",
       "        0.79709747,  0.10222182,  0.11699968,  1.06679716,  0.16399528,\n",
       "        0.7028801 ,  0.07619038,  0.12920907,  0.1793809 ,  0.78286962,\n",
       "        0.68892481,  0.10212025,  0.10537543,  0.65469404,  0.03039625,\n",
       "        0.63533197,  0.11810226,  0.13046942])"
      ]
     },
     "execution_count": 81,
     "metadata": {},
     "output_type": "execute_result"
    }
   ],
   "source": [
    "pred=ajay.predict(x_test)\n",
    "pred"
   ]
  },
  {
   "cell_type": "code",
   "execution_count": 82,
   "id": "24c7d5b5",
   "metadata": {},
   "outputs": [],
   "source": [
    "from sklearn.metrics import mean_squared_error"
   ]
  },
  {
   "cell_type": "code",
   "execution_count": 83,
   "id": "275a39b5",
   "metadata": {},
   "outputs": [
    {
     "name": "stdout",
     "output_type": "stream",
     "text": [
      "MSE is 0.1404930255177418\n"
     ]
    }
   ],
   "source": [
    "print('MSE is',mean_squared_error(y_test,pred))"
   ]
  },
  {
   "cell_type": "code",
   "execution_count": 84,
   "id": "9cc0ae4b",
   "metadata": {},
   "outputs": [],
   "source": [
    "from sklearn.metrics import r2_score"
   ]
  },
  {
   "cell_type": "code",
   "execution_count": 85,
   "id": "71f5cca5",
   "metadata": {},
   "outputs": [
    {
     "name": "stdout",
     "output_type": "stream",
     "text": [
      "r2: 0.3969913955465687\n"
     ]
    }
   ],
   "source": [
    "print('r2:',r2_score(y_test,pred))"
   ]
  },
  {
   "cell_type": "code",
   "execution_count": 86,
   "id": "e1efcb52",
   "metadata": {},
   "outputs": [],
   "source": [
    "# r square value is 0.39 and mse is 0.140\n",
    "#try to imporove our model in  fature scaling"
   ]
  },
  {
   "cell_type": "markdown",
   "id": "117a1ff6",
   "metadata": {},
   "source": [
    "# min max scaling"
   ]
  },
  {
   "cell_type": "code",
   "execution_count": 105,
   "id": "96016d1d",
   "metadata": {},
   "outputs": [],
   "source": [
    "x=data.drop(['Survived'],axis=1)"
   ]
  },
  {
   "cell_type": "code",
   "execution_count": 106,
   "id": "10d7372a",
   "metadata": {},
   "outputs": [],
   "source": [
    "from sklearn import preprocessing"
   ]
  },
  {
   "cell_type": "code",
   "execution_count": 107,
   "id": "d944d1de",
   "metadata": {},
   "outputs": [],
   "source": [
    "min_max=preprocessing.MinMaxScaler(feature_range=(0,1))\n"
   ]
  },
  {
   "cell_type": "code",
   "execution_count": 108,
   "id": "1224db75",
   "metadata": {},
   "outputs": [],
   "source": [
    "x=min_max.fit_transform(x)\n",
    "#then we check x"
   ]
  },
  {
   "cell_type": "code",
   "execution_count": 109,
   "id": "cf0c49dc",
   "metadata": {},
   "outputs": [],
   "source": [
    "x=pd.DataFrame(x)"
   ]
  },
  {
   "cell_type": "code",
   "execution_count": 110,
   "id": "68acba6f",
   "metadata": {},
   "outputs": [
    {
     "data": {
      "text/html": [
       "<div>\n",
       "<style scoped>\n",
       "    .dataframe tbody tr th:only-of-type {\n",
       "        vertical-align: middle;\n",
       "    }\n",
       "\n",
       "    .dataframe tbody tr th {\n",
       "        vertical-align: top;\n",
       "    }\n",
       "\n",
       "    .dataframe thead th {\n",
       "        text-align: right;\n",
       "    }\n",
       "</style>\n",
       "<table border=\"1\" class=\"dataframe\">\n",
       "  <thead>\n",
       "    <tr style=\"text-align: right;\">\n",
       "      <th></th>\n",
       "      <th>0</th>\n",
       "      <th>1</th>\n",
       "      <th>2</th>\n",
       "      <th>3</th>\n",
       "      <th>4</th>\n",
       "      <th>5</th>\n",
       "      <th>6</th>\n",
       "    </tr>\n",
       "  </thead>\n",
       "  <tbody>\n",
       "    <tr>\n",
       "      <th>count</th>\n",
       "      <td>689.000000</td>\n",
       "      <td>689.000000</td>\n",
       "      <td>689.000000</td>\n",
       "      <td>689.00000</td>\n",
       "      <td>689.000000</td>\n",
       "      <td>689.000000</td>\n",
       "      <td>689.000000</td>\n",
       "    </tr>\n",
       "    <tr>\n",
       "      <th>mean</th>\n",
       "      <td>0.746734</td>\n",
       "      <td>0.312046</td>\n",
       "      <td>0.511781</td>\n",
       "      <td>0.13643</td>\n",
       "      <td>0.044993</td>\n",
       "      <td>0.270959</td>\n",
       "      <td>0.140784</td>\n",
       "    </tr>\n",
       "    <tr>\n",
       "      <th>std</th>\n",
       "      <td>0.361793</td>\n",
       "      <td>0.463665</td>\n",
       "      <td>0.187116</td>\n",
       "      <td>0.25051</td>\n",
       "      <td>0.125771</td>\n",
       "      <td>0.213306</td>\n",
       "      <td>0.348051</td>\n",
       "    </tr>\n",
       "    <tr>\n",
       "      <th>min</th>\n",
       "      <td>0.000000</td>\n",
       "      <td>0.000000</td>\n",
       "      <td>0.000000</td>\n",
       "      <td>0.00000</td>\n",
       "      <td>0.000000</td>\n",
       "      <td>0.000000</td>\n",
       "      <td>0.000000</td>\n",
       "    </tr>\n",
       "    <tr>\n",
       "      <th>25%</th>\n",
       "      <td>0.500000</td>\n",
       "      <td>0.000000</td>\n",
       "      <td>0.392157</td>\n",
       "      <td>0.00000</td>\n",
       "      <td>0.000000</td>\n",
       "      <td>0.127962</td>\n",
       "      <td>0.000000</td>\n",
       "    </tr>\n",
       "    <tr>\n",
       "      <th>50%</th>\n",
       "      <td>1.000000</td>\n",
       "      <td>0.000000</td>\n",
       "      <td>0.523512</td>\n",
       "      <td>0.00000</td>\n",
       "      <td>0.000000</td>\n",
       "      <td>0.171068</td>\n",
       "      <td>0.000000</td>\n",
       "    </tr>\n",
       "    <tr>\n",
       "      <th>75%</th>\n",
       "      <td>1.000000</td>\n",
       "      <td>1.000000</td>\n",
       "      <td>0.588235</td>\n",
       "      <td>0.00000</td>\n",
       "      <td>0.000000</td>\n",
       "      <td>0.382051</td>\n",
       "      <td>0.000000</td>\n",
       "    </tr>\n",
       "    <tr>\n",
       "      <th>max</th>\n",
       "      <td>1.000000</td>\n",
       "      <td>1.000000</td>\n",
       "      <td>1.000000</td>\n",
       "      <td>1.00000</td>\n",
       "      <td>1.000000</td>\n",
       "      <td>1.000000</td>\n",
       "      <td>1.000000</td>\n",
       "    </tr>\n",
       "  </tbody>\n",
       "</table>\n",
       "</div>"
      ],
      "text/plain": [
       "                0           1           2          3           4           5  \\\n",
       "count  689.000000  689.000000  689.000000  689.00000  689.000000  689.000000   \n",
       "mean     0.746734    0.312046    0.511781    0.13643    0.044993    0.270959   \n",
       "std      0.361793    0.463665    0.187116    0.25051    0.125771    0.213306   \n",
       "min      0.000000    0.000000    0.000000    0.00000    0.000000    0.000000   \n",
       "25%      0.500000    0.000000    0.392157    0.00000    0.000000    0.127962   \n",
       "50%      1.000000    0.000000    0.523512    0.00000    0.000000    0.171068   \n",
       "75%      1.000000    1.000000    0.588235    0.00000    0.000000    0.382051   \n",
       "max      1.000000    1.000000    1.000000    1.00000    1.000000    1.000000   \n",
       "\n",
       "                6  \n",
       "count  689.000000  \n",
       "mean     0.140784  \n",
       "std      0.348051  \n",
       "min      0.000000  \n",
       "25%      0.000000  \n",
       "50%      0.000000  \n",
       "75%      0.000000  \n",
       "max      1.000000  "
      ]
     },
     "execution_count": 110,
     "metadata": {},
     "output_type": "execute_result"
    }
   ],
   "source": [
    "x.describe()"
   ]
  },
  {
   "cell_type": "code",
   "execution_count": 111,
   "id": "5a79895c",
   "metadata": {},
   "outputs": [],
   "source": [
    "# mimumum is zero and maximum is one the table can be changed by applying model"
   ]
  },
  {
   "cell_type": "code",
   "execution_count": 112,
   "id": "6a7f04b9",
   "metadata": {},
   "outputs": [
    {
     "name": "stdout",
     "output_type": "stream",
     "text": [
      "MSE is 0.1404930255177418\n",
      "r2: 0.3969913955465687\n"
     ]
    }
   ],
   "source": [
    "x_train,x_test,y_train,y_test=train_test_split(x,y,random_state=42,test_size=0.2)\n",
    "Ir=linear_model.LinearRegression()\n",
    "x=Ir.fit(x_train,y_train)\n",
    "print('MSE is',mean_squared_error(y_test,pred))\n",
    "print('r2:',r2_score(y_test,pred))"
   ]
  },
  {
   "cell_type": "raw",
   "id": "ac225289",
   "metadata": {},
   "source": [
    "i think my model is not imporove by applaying minmax scaling because \n",
    "my mse and r_square value is allways same"
   ]
  },
  {
   "cell_type": "code",
   "execution_count": null,
   "id": "95e7bc6d",
   "metadata": {},
   "outputs": [],
   "source": []
  },
  {
   "cell_type": "code",
   "execution_count": null,
   "id": "36257246",
   "metadata": {},
   "outputs": [],
   "source": []
  },
  {
   "cell_type": "code",
   "execution_count": null,
   "id": "ae3a32d7",
   "metadata": {},
   "outputs": [],
   "source": []
  }
 ],
 "metadata": {
  "kernelspec": {
   "display_name": "Python 3",
   "language": "python",
   "name": "python3"
  },
  "language_info": {
   "codemirror_mode": {
    "name": "ipython",
    "version": 3
   },
   "file_extension": ".py",
   "mimetype": "text/x-python",
   "name": "python",
   "nbconvert_exporter": "python",
   "pygments_lexer": "ipython3",
   "version": "3.8.8"
  }
 },
 "nbformat": 4,
 "nbformat_minor": 5
}
